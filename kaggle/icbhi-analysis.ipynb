{
 "cells": [
  {
   "cell_type": "markdown",
   "id": "d81fc29a",
   "metadata": {
    "papermill": {
     "duration": 0.062606,
     "end_time": "2021-12-20T21:28:58.214643",
     "exception": false,
     "start_time": "2021-12-20T21:28:58.152037",
     "status": "completed"
    },
    "tags": []
   },
   "source": [
    "Libraries"
   ]
  },
  {
   "cell_type": "code",
   "execution_count": 1,
   "id": "a1d21d6a",
   "metadata": {
    "execution": {
     "iopub.execute_input": "2021-12-20T21:28:58.358064Z",
     "iopub.status.busy": "2021-12-20T21:28:58.351255Z",
     "iopub.status.idle": "2021-12-20T21:29:22.751604Z",
     "shell.execute_reply": "2021-12-20T21:29:22.750953Z",
     "shell.execute_reply.started": "2021-12-20T20:44:10.284839Z"
    },
    "id": "YsADvSnv9BiY",
    "outputId": "792836fe-0040-43f3-89c2-3d66a70bca4f",
    "papermill": {
     "duration": 24.472368,
     "end_time": "2021-12-20T21:29:22.751806",
     "exception": false,
     "start_time": "2021-12-20T21:28:58.279438",
     "status": "completed"
    },
    "tags": []
   },
   "outputs": [
    {
     "name": "stderr",
     "output_type": "stream",
     "text": [
      "2021-12-20 21:29:17.894905: W tensorflow/stream_executor/platform/default/dso_loader.cc:60] Could not load dynamic library 'libcudart.so.11.0'; dlerror: libcudart.so.11.0: cannot open shared object file: No such file or directory; LD_LIBRARY_PATH: /opt/conda/lib\n",
      "2021-12-20 21:29:17.895033: I tensorflow/stream_executor/cuda/cudart_stub.cc:29] Ignore above cudart dlerror if you do not have a GPU set up on your machine.\n"
     ]
    }
   ],
   "source": [
    "import numpy as np\n",
    "import matplotlib.pyplot as plt\n",
    "import matplotlib.patches as mpatches\n",
    "import matplotlib.cm as cm\n",
    "import pandas as pd\n",
    "\n",
    "# Not immediately usable with this dataset as files contain 24-bit data\n",
    "from scipy.io import wavfile\n",
    "from scipy.io.wavfile import read, write\n",
    "\n",
    "import IPython.display as ipd\n",
    "from IPython.display import Audio\n",
    "from numpy.fft import fft, ifft\n",
    "from glob import glob\n",
    "\n",
    "import librosa as lr\n",
    "import librosa.display\n",
    "\n",
    "import os\n",
    "import pickle\n",
    "\n",
    "import seaborn as sns\n",
    "\n",
    "from scipy import signal as sig\n",
    "from scipy.signal import butter, lfilter\n",
    "from tqdm import tqdm\n",
    "import pywt\n",
    "import random\n",
    "import skimage.data\n",
    "from skimage.restoration import denoise_wavelet\n",
    "from pywt import swt\n",
    "import time as tm\n",
    "\n",
    "# if ('pydub' in globals()) == False:\n",
    "#   !pip install pydub\n",
    "# from pydub import AudioSegment\n",
    "# from pydub.utils import make_chunks\n",
    "\n",
    "\n",
    "# LT-06-24: import io to save intermediate outputs; use \"as\" to shorten module.function name as \"spio\"\n",
    "import scipy.io as spio\n",
    "\n",
    "\n",
    "# LT-06-24: install modules if not found \n",
    "# if ( 'umap' in globals() ) == False: \n",
    "#   !pip install umap-learn\n",
    "\n",
    "import umap.umap_ as umap\n",
    "\n",
    "import sklearn\n",
    "from sklearn.model_selection import train_test_split\n",
    "from sklearn.preprocessing import StandardScaler, minmax_scale\n",
    "from sklearn.neighbors import KNeighborsClassifier, NearestNeighbors\n",
    "from sklearn.dummy import DummyClassifier\n",
    "from sklearn.cluster import KMeans\n",
    "from sklearn.pipeline import Pipeline\n",
    "from sklearn.metrics import silhouette_samples, silhouette_score, classification_report, confusion_matrix, accuracy_score, plot_confusion_matrix"
   ]
  },
  {
   "cell_type": "markdown",
   "id": "b2ed8759",
   "metadata": {
    "id": "RrJgShFVFheW",
    "papermill": {
     "duration": 0.061189,
     "end_time": "2021-12-20T21:29:22.881717",
     "exception": false,
     "start_time": "2021-12-20T21:29:22.820528",
     "status": "completed"
    },
    "tags": []
   },
   "source": [
    "Directory"
   ]
  },
  {
   "cell_type": "code",
   "execution_count": 2,
   "id": "011a3308",
   "metadata": {
    "execution": {
     "iopub.execute_input": "2021-12-20T21:29:23.008188Z",
     "iopub.status.busy": "2021-12-20T21:29:23.007436Z",
     "iopub.status.idle": "2021-12-20T21:29:23.147112Z",
     "shell.execute_reply": "2021-12-20T21:29:23.147587Z",
     "shell.execute_reply.started": "2021-12-20T20:44:33.521589Z"
    },
    "id": "TcwbYan89YWx",
    "papermill": {
     "duration": 0.206979,
     "end_time": "2021-12-20T21:29:23.147789",
     "exception": false,
     "start_time": "2021-12-20T21:29:22.940810",
     "status": "completed"
    },
    "tags": []
   },
   "outputs": [],
   "source": [
    "root = '../input/respiratory-sound-database/Respiratory_Sound_Database/Respiratory_Sound_Database/audio_and_txt_files/'\n",
    "outdir = '/kaggle/working/'\n",
    "\n",
    "# Extract text filenames\n",
    "textnames = [s.split('.')[0] for s in os.listdir(path = root) if '.txt' in s]\n",
    "\n",
    "# Extract audio filenames\n",
    "filenames = [s.split('.')[0] for s in os.listdir(path = root) if '.wav' in s]\n",
    "\n",
    "textnames = sorted(textnames)\n",
    "filenames = sorted(filenames)"
   ]
  },
  {
   "cell_type": "markdown",
   "id": "f734ccc9",
   "metadata": {
    "id": "5wYqyCotFi4_",
    "papermill": {
     "duration": 0.065028,
     "end_time": "2021-12-20T21:29:23.277757",
     "exception": false,
     "start_time": "2021-12-20T21:29:23.212729",
     "status": "completed"
    },
    "tags": []
   },
   "source": [
    "Information & Annotations"
   ]
  },
  {
   "cell_type": "code",
   "execution_count": 3,
   "id": "20aa6488",
   "metadata": {
    "execution": {
     "iopub.execute_input": "2021-12-20T21:29:23.401045Z",
     "iopub.status.busy": "2021-12-20T21:29:23.400141Z",
     "iopub.status.idle": "2021-12-20T21:29:30.482777Z",
     "shell.execute_reply": "2021-12-20T21:29:30.482122Z",
     "shell.execute_reply.started": "2021-12-20T20:44:33.783377Z"
    },
    "id": "b1nJt4nA9qcZ",
    "outputId": "af1e8994-4d8c-4503-8a9f-e94880391ce6",
    "papermill": {
     "duration": 7.143934,
     "end_time": "2021-12-20T21:29:30.482924",
     "exception": false,
     "start_time": "2021-12-20T21:29:23.338990",
     "status": "completed"
    },
    "tags": []
   },
   "outputs": [
    {
     "data": {
      "text/html": [
       "<div>\n",
       "<style scoped>\n",
       "    .dataframe tbody tr th:only-of-type {\n",
       "        vertical-align: middle;\n",
       "    }\n",
       "\n",
       "    .dataframe tbody tr th {\n",
       "        vertical-align: top;\n",
       "    }\n",
       "\n",
       "    .dataframe thead th {\n",
       "        text-align: right;\n",
       "    }\n",
       "</style>\n",
       "<table border=\"1\" class=\"dataframe\">\n",
       "  <thead>\n",
       "    <tr style=\"text-align: right;\">\n",
       "      <th></th>\n",
       "      <th>Subject ID</th>\n",
       "      <th>Diagnosis</th>\n",
       "      <th>Start</th>\n",
       "      <th>End</th>\n",
       "      <th>Crackles</th>\n",
       "      <th>Wheezes</th>\n",
       "      <th>Chest Location</th>\n",
       "      <th>Mode</th>\n",
       "      <th>Equipment</th>\n",
       "      <th>Filename</th>\n",
       "    </tr>\n",
       "  </thead>\n",
       "  <tbody>\n",
       "    <tr>\n",
       "      <th>0</th>\n",
       "      <td>101</td>\n",
       "      <td>URTI</td>\n",
       "      <td>0.036</td>\n",
       "      <td>0.579</td>\n",
       "      <td>0</td>\n",
       "      <td>0</td>\n",
       "      <td>Al</td>\n",
       "      <td>sc</td>\n",
       "      <td>Meditron</td>\n",
       "      <td>101_1b1_Al_sc_Meditron</td>\n",
       "    </tr>\n",
       "    <tr>\n",
       "      <th>1</th>\n",
       "      <td>101</td>\n",
       "      <td>URTI</td>\n",
       "      <td>0.579</td>\n",
       "      <td>2.450</td>\n",
       "      <td>0</td>\n",
       "      <td>0</td>\n",
       "      <td>Al</td>\n",
       "      <td>sc</td>\n",
       "      <td>Meditron</td>\n",
       "      <td>101_1b1_Al_sc_Meditron</td>\n",
       "    </tr>\n",
       "    <tr>\n",
       "      <th>2</th>\n",
       "      <td>101</td>\n",
       "      <td>URTI</td>\n",
       "      <td>2.450</td>\n",
       "      <td>3.893</td>\n",
       "      <td>0</td>\n",
       "      <td>0</td>\n",
       "      <td>Al</td>\n",
       "      <td>sc</td>\n",
       "      <td>Meditron</td>\n",
       "      <td>101_1b1_Al_sc_Meditron</td>\n",
       "    </tr>\n",
       "    <tr>\n",
       "      <th>3</th>\n",
       "      <td>101</td>\n",
       "      <td>URTI</td>\n",
       "      <td>3.893</td>\n",
       "      <td>5.793</td>\n",
       "      <td>0</td>\n",
       "      <td>0</td>\n",
       "      <td>Al</td>\n",
       "      <td>sc</td>\n",
       "      <td>Meditron</td>\n",
       "      <td>101_1b1_Al_sc_Meditron</td>\n",
       "    </tr>\n",
       "    <tr>\n",
       "      <th>4</th>\n",
       "      <td>101</td>\n",
       "      <td>URTI</td>\n",
       "      <td>5.793</td>\n",
       "      <td>7.521</td>\n",
       "      <td>0</td>\n",
       "      <td>0</td>\n",
       "      <td>Al</td>\n",
       "      <td>sc</td>\n",
       "      <td>Meditron</td>\n",
       "      <td>101_1b1_Al_sc_Meditron</td>\n",
       "    </tr>\n",
       "  </tbody>\n",
       "</table>\n",
       "</div>"
      ],
      "text/plain": [
       "   Subject ID Diagnosis  Start    End  Crackles  Wheezes Chest Location Mode  \\\n",
       "0         101      URTI  0.036  0.579         0        0             Al   sc   \n",
       "1         101      URTI  0.579  2.450         0        0             Al   sc   \n",
       "2         101      URTI  2.450  3.893         0        0             Al   sc   \n",
       "3         101      URTI  3.893  5.793         0        0             Al   sc   \n",
       "4         101      URTI  5.793  7.521         0        0             Al   sc   \n",
       "\n",
       "  Equipment                Filename  \n",
       "0  Meditron  101_1b1_Al_sc_Meditron  \n",
       "1  Meditron  101_1b1_Al_sc_Meditron  \n",
       "2  Meditron  101_1b1_Al_sc_Meditron  \n",
       "3  Meditron  101_1b1_Al_sc_Meditron  \n",
       "4  Meditron  101_1b1_Al_sc_Meditron  "
      ]
     },
     "execution_count": 3,
     "metadata": {},
     "output_type": "execute_result"
    }
   ],
   "source": [
    "diag_df = pd.read_csv('../input/respiratory-sound-database/Respiratory_Sound_Database/Respiratory_Sound_Database/patient_diagnosis.csv', \n",
    "                      delimiter=',',\n",
    "                      names=['Subject ID', 'Diagnosis'], \n",
    "                      header=None)\n",
    "\n",
    "# Extract file annotation information (start & end of crackles)\n",
    "def extract_file(filename, root):\n",
    "    tokens = filename.split('_')\n",
    "    recording_annotations = pd.read_csv(os.path.join(root, filename + '.txt'), names = ['Start', 'End', 'Crackles', 'Wheezes'], delimiter= '\\t')\n",
    "    return recording_annotations\n",
    "\n",
    "# Information about each file with annotations from each file\n",
    "def combine_anno_info(names, root):\n",
    "  information = []\n",
    "  for file in names:\n",
    "    anno = extract_file(file, root)\n",
    "    name_data = file.split('_')\n",
    "    anno['Subject ID'] = name_data[0]\n",
    "    anno['Chest Location'] = name_data[2]\n",
    "    anno['Mode'] = name_data[3]\n",
    "    anno['Equipment'] = name_data[4]\n",
    "    anno['Filename'] = file\n",
    "    information.append(anno)\n",
    "  return information\n",
    "\n",
    "anno_info = combine_anno_info(textnames, root)\n",
    "anno_df = pd.concat(anno_info, ignore_index=True)\n",
    "\n",
    "# Merge diag_df with anno_df on Subject ID\n",
    "diag_df['Subject ID'] = diag_df['Subject ID'].astype('int32')\n",
    "anno_df['Subject ID'] = anno_df['Subject ID'].astype('int32')\n",
    "sub_anno_df = pd.merge(diag_df, anno_df, on='Subject ID')\n",
    "sub_anno_df.head()"
   ]
  },
  {
   "cell_type": "markdown",
   "id": "b7244a2f",
   "metadata": {
    "id": "Z9hFFGcTVO8D",
    "papermill": {
     "duration": 0.063067,
     "end_time": "2021-12-20T21:29:30.608509",
     "exception": false,
     "start_time": "2021-12-20T21:29:30.545442",
     "status": "completed"
    },
    "tags": []
   },
   "source": [
    "Signals & Sampling Rates"
   ]
  },
  {
   "cell_type": "code",
   "execution_count": 4,
   "id": "2692b888",
   "metadata": {
    "execution": {
     "iopub.execute_input": "2021-12-20T21:29:30.735227Z",
     "iopub.status.busy": "2021-12-20T21:29:30.734615Z",
     "iopub.status.idle": "2021-12-20T21:29:30.738089Z",
     "shell.execute_reply": "2021-12-20T21:29:30.737528Z",
     "shell.execute_reply.started": "2021-10-09T01:11:25.062322Z"
    },
    "id": "-4dUcVOpFenn",
    "papermill": {
     "duration": 0.068816,
     "end_time": "2021-12-20T21:29:30.738246",
     "exception": false,
     "start_time": "2021-12-20T21:29:30.669430",
     "status": "completed"
    },
    "tags": []
   },
   "outputs": [],
   "source": [
    "# Get waveforms\n",
    "def signal_and_sr(filename, root):\n",
    "    name = root + filename + '.wav'\n",
    "    signal, sr = lr.load(name, sr=None)\n",
    "    return signal, sr\n",
    "\n",
    "def waveforms(files, root):\n",
    "  signals = []\n",
    "  srs = []\n",
    "  for name in files:\n",
    "    (sig, sr) = signal_and_sr(name, root) # signal is an array with (sr * duration) values\n",
    "    # if (len(sig) % 2) == 0: # signal array must be an even number of values for MODWT\n",
    "    signals.append(sig)\n",
    "    srs.append(sr)\n",
    "  return signals, srs"
   ]
  },
  {
   "cell_type": "code",
   "execution_count": 5,
   "id": "c9e91119",
   "metadata": {
    "execution": {
     "iopub.execute_input": "2021-12-20T21:29:30.860378Z",
     "iopub.status.busy": "2021-12-20T21:29:30.859739Z",
     "iopub.status.idle": "2021-12-20T21:29:30.862024Z",
     "shell.execute_reply": "2021-12-20T21:29:30.862534Z",
     "shell.execute_reply.started": "2021-09-27T19:48:29.773306Z"
    },
    "id": "iLKzhDTJHAN5",
    "papermill": {
     "duration": 0.06694,
     "end_time": "2021-12-20T21:29:30.862824",
     "exception": false,
     "start_time": "2021-12-20T21:29:30.795884",
     "status": "completed"
    },
    "tags": []
   },
   "outputs": [],
   "source": [
    "# if (os.path.exists(outdir + '/signals.mat') == False):\n",
    "#   signals, srs = waveforms(filenames, root)\n",
    "#   spio.savemat(outdir + 'signals.mat', {'signals': signals, 'srs': srs})\n",
    "# else:\n",
    "#   sig_mat = spio.loadmat(outdir + 'signals.mat', squeeze_me=True)\n",
    "#   signals = sig_mat['signals']\n",
    "#   srs = sig_mat['srs']"
   ]
  },
  {
   "cell_type": "code",
   "execution_count": 6,
   "id": "0384e124",
   "metadata": {
    "execution": {
     "iopub.execute_input": "2021-12-20T21:29:30.986312Z",
     "iopub.status.busy": "2021-12-20T21:29:30.985707Z",
     "iopub.status.idle": "2021-12-20T21:30:09.874693Z",
     "shell.execute_reply": "2021-12-20T21:30:09.873975Z",
     "shell.execute_reply.started": "2021-10-13T21:24:37.17615Z"
    },
    "papermill": {
     "duration": 38.953058,
     "end_time": "2021-12-20T21:30:09.874839",
     "exception": false,
     "start_time": "2021-12-20T21:29:30.921781",
     "status": "completed"
    },
    "tags": []
   },
   "outputs": [],
   "source": [
    "sig_mat = spio.loadmat('../input/google-colab/signals.mat', squeeze_me=True)\n",
    "# signals = sig_mat['signals']\n",
    "srs = sig_mat['srs']"
   ]
  },
  {
   "cell_type": "code",
   "execution_count": 7,
   "id": "39cb0b5e",
   "metadata": {
    "execution": {
     "iopub.execute_input": "2021-12-20T21:30:09.999051Z",
     "iopub.status.busy": "2021-12-20T21:30:09.997626Z",
     "iopub.status.idle": "2021-12-20T21:30:09.999758Z",
     "shell.execute_reply": "2021-12-20T21:30:10.000200Z"
    },
    "id": "OEWMxMYzUU2H",
    "outputId": "979400b8-06fd-43ac-a870-d1ac81dd3a38",
    "papermill": {
     "duration": 0.066279,
     "end_time": "2021-12-20T21:30:10.000412",
     "exception": false,
     "start_time": "2021-12-20T21:30:09.934133",
     "status": "completed"
    },
    "tags": []
   },
   "outputs": [],
   "source": [
    "# plt.figure(figsize=(8,5))\n",
    "# lr.display.waveplot(signals[648], sr=srs[648])\n",
    "# plt.xlabel('Time (s)')\n",
    "# plt.ylabel('Amplitude')\n",
    "# plt.title(filenames[648])\n",
    "# plt.show()"
   ]
  },
  {
   "cell_type": "code",
   "execution_count": 8,
   "id": "c568558f",
   "metadata": {
    "execution": {
     "iopub.execute_input": "2021-12-20T21:30:10.121376Z",
     "iopub.status.busy": "2021-12-20T21:30:10.120766Z",
     "iopub.status.idle": "2021-12-20T21:30:10.125334Z",
     "shell.execute_reply": "2021-12-20T21:30:10.124844Z",
     "shell.execute_reply.started": "2021-09-27T19:49:00.506654Z"
    },
    "papermill": {
     "duration": 0.064894,
     "end_time": "2021-12-20T21:30:10.125508",
     "exception": false,
     "start_time": "2021-12-20T21:30:10.060614",
     "status": "completed"
    },
    "tags": []
   },
   "outputs": [],
   "source": [
    "# set(srs)"
   ]
  },
  {
   "cell_type": "markdown",
   "id": "2f747b32",
   "metadata": {
    "id": "wjErNO7v0bJA",
    "papermill": {
     "duration": 0.058729,
     "end_time": "2021-12-20T21:30:10.243323",
     "exception": false,
     "start_time": "2021-12-20T21:30:10.184594",
     "status": "completed"
    },
    "tags": []
   },
   "source": [
    "Audio Slicing"
   ]
  },
  {
   "cell_type": "code",
   "execution_count": 9,
   "id": "d1820991",
   "metadata": {
    "execution": {
     "iopub.execute_input": "2021-12-20T21:30:10.365395Z",
     "iopub.status.busy": "2021-12-20T21:30:10.364441Z",
     "iopub.status.idle": "2021-12-20T21:30:10.371126Z",
     "shell.execute_reply": "2021-12-20T21:30:10.371584Z",
     "shell.execute_reply.started": "2021-12-20T19:58:37.907963Z"
    },
    "id": "JP2eiwz80aFI",
    "papermill": {
     "duration": 0.069466,
     "end_time": "2021-12-20T21:30:10.371769",
     "exception": false,
     "start_time": "2021-12-20T21:30:10.302303",
     "status": "completed"
    },
    "tags": []
   },
   "outputs": [],
   "source": [
    "def audio_slice(signals, files, srs, timestamp_df):\n",
    "  \"\"\"\n",
    "  segments the extracted audio signals using timestamp annotations\n",
    "  \"\"\"\n",
    "  slices = []\n",
    "  for i, s in enumerate(signals):\n",
    "    filenames = timestamp_df.loc[timestamp_df['Filename'] == files[i]]\n",
    "    \n",
    "    for j, row in filenames.iterrows():\n",
    "      start = row['Start']\n",
    "      end = row['End']\n",
    "      audio_seg = slice_signal(start, end, s, srs[i])\n",
    "      slices.append(audio_seg)\n",
    "  return slices\n",
    "\n",
    "def slice_signal(start, end, signal, sr):\n",
    "  max_index = len(signal)\n",
    "  start_index = min(int(start * sr), max_index)\n",
    "  end_index = min(int(end * sr), max_index)\n",
    "  return signal[start_index:end_index]"
   ]
  },
  {
   "cell_type": "code",
   "execution_count": 10,
   "id": "33da1a84",
   "metadata": {
    "execution": {
     "iopub.execute_input": "2021-12-20T21:30:10.493605Z",
     "iopub.status.busy": "2021-12-20T21:30:10.492611Z",
     "iopub.status.idle": "2021-12-20T21:30:10.497161Z",
     "shell.execute_reply": "2021-12-20T21:30:10.496628Z"
    },
    "id": "4VD3f-6k1yPW",
    "papermill": {
     "duration": 0.067029,
     "end_time": "2021-12-20T21:30:10.497310",
     "exception": false,
     "start_time": "2021-12-20T21:30:10.430281",
     "status": "completed"
    },
    "tags": []
   },
   "outputs": [],
   "source": [
    "# if (os.path.exists(outdir + '/slices.mat') == False):\n",
    "#   slices = audio_slice(signals, filenames, sub_anno_df)\n",
    "#   spio.savemat(outdir + 'slices.mat', {'slices': slices})\n",
    "# else:\n",
    "#   slice_mat = spio.loadmat(outdir + 'slices.mat', squeeze_me=True)\n",
    "#   slices = slice_mat['slices']"
   ]
  },
  {
   "cell_type": "code",
   "execution_count": 11,
   "id": "f20f8f42",
   "metadata": {
    "execution": {
     "iopub.execute_input": "2021-12-20T21:30:10.618798Z",
     "iopub.status.busy": "2021-12-20T21:30:10.618155Z",
     "iopub.status.idle": "2021-12-20T21:30:43.763028Z",
     "shell.execute_reply": "2021-12-20T21:30:43.763555Z"
    },
    "papermill": {
     "duration": 33.206776,
     "end_time": "2021-12-20T21:30:43.763903",
     "exception": false,
     "start_time": "2021-12-20T21:30:10.557127",
     "status": "completed"
    },
    "tags": []
   },
   "outputs": [],
   "source": [
    "slice_mat = spio.loadmat('../input/google-colab/slices.mat', squeeze_me=True)\n",
    "slices = slice_mat['slices']"
   ]
  },
  {
   "cell_type": "code",
   "execution_count": 12,
   "id": "bd3745fb",
   "metadata": {
    "execution": {
     "iopub.execute_input": "2021-12-20T21:30:43.888278Z",
     "iopub.status.busy": "2021-12-20T21:30:43.887385Z",
     "iopub.status.idle": "2021-12-20T21:30:43.893518Z",
     "shell.execute_reply": "2021-12-20T21:30:43.893908Z",
     "shell.execute_reply.started": "2021-12-20T20:46:03.050057Z"
    },
    "id": "zaRab8G3U1hJ",
    "papermill": {
     "duration": 0.067007,
     "end_time": "2021-12-20T21:30:43.894075",
     "exception": false,
     "start_time": "2021-12-20T21:30:43.827068",
     "status": "completed"
    },
    "tags": []
   },
   "outputs": [],
   "source": [
    "def slice_df(filenames, timestamp_df):\n",
    "  \"\"\"\n",
    "  compiles the slice names and crackle/wheeze labels into one dataframe\n",
    "  \"\"\"\n",
    "  names = []\n",
    "  crackles = []\n",
    "  wheezes = []\n",
    "  for i, name in enumerate(filenames):\n",
    "    files = timestamp_df.loc[timestamp_df['Filename'] == name]\n",
    "    \n",
    "    for i, row in files.iterrows():\n",
    "      crackles.append(row['Crackles'])\n",
    "      wheezes.append(row['Wheezes'])\n",
    "      names.append(name + \"_\" + str(i))\n",
    "  return pd.DataFrame(data = {'Slice Name': names, 'Crackles': crackles, 'Wheezes': wheezes})"
   ]
  },
  {
   "cell_type": "code",
   "execution_count": 13,
   "id": "927968bb",
   "metadata": {
    "execution": {
     "iopub.execute_input": "2021-12-20T21:30:44.014957Z",
     "iopub.status.busy": "2021-12-20T21:30:44.014032Z",
     "iopub.status.idle": "2021-12-20T21:30:45.279016Z",
     "shell.execute_reply": "2021-12-20T21:30:45.279526Z",
     "shell.execute_reply.started": "2021-12-20T20:46:04.923018Z"
    },
    "id": "10cqdeK4WfKB",
    "outputId": "794deee9-f754-43a9-843d-e84a69628b29",
    "papermill": {
     "duration": 1.327984,
     "end_time": "2021-12-20T21:30:45.279708",
     "exception": false,
     "start_time": "2021-12-20T21:30:43.951724",
     "status": "completed"
    },
    "tags": []
   },
   "outputs": [
    {
     "data": {
      "text/html": [
       "<div>\n",
       "<style scoped>\n",
       "    .dataframe tbody tr th:only-of-type {\n",
       "        vertical-align: middle;\n",
       "    }\n",
       "\n",
       "    .dataframe tbody tr th {\n",
       "        vertical-align: top;\n",
       "    }\n",
       "\n",
       "    .dataframe thead th {\n",
       "        text-align: right;\n",
       "    }\n",
       "</style>\n",
       "<table border=\"1\" class=\"dataframe\">\n",
       "  <thead>\n",
       "    <tr style=\"text-align: right;\">\n",
       "      <th></th>\n",
       "      <th>Slice Name</th>\n",
       "      <th>Crackles</th>\n",
       "      <th>Wheezes</th>\n",
       "    </tr>\n",
       "  </thead>\n",
       "  <tbody>\n",
       "    <tr>\n",
       "      <th>6893</th>\n",
       "      <td>226_1b1_Pl_sc_LittC2SE_6893</td>\n",
       "      <td>1</td>\n",
       "      <td>0</td>\n",
       "    </tr>\n",
       "    <tr>\n",
       "      <th>6894</th>\n",
       "      <td>226_1b1_Pl_sc_LittC2SE_6894</td>\n",
       "      <td>0</td>\n",
       "      <td>0</td>\n",
       "    </tr>\n",
       "    <tr>\n",
       "      <th>6895</th>\n",
       "      <td>226_1b1_Pl_sc_LittC2SE_6895</td>\n",
       "      <td>0</td>\n",
       "      <td>0</td>\n",
       "    </tr>\n",
       "    <tr>\n",
       "      <th>6896</th>\n",
       "      <td>226_1b1_Pl_sc_LittC2SE_6896</td>\n",
       "      <td>1</td>\n",
       "      <td>0</td>\n",
       "    </tr>\n",
       "    <tr>\n",
       "      <th>6897</th>\n",
       "      <td>226_1b1_Pl_sc_LittC2SE_6897</td>\n",
       "      <td>0</td>\n",
       "      <td>0</td>\n",
       "    </tr>\n",
       "  </tbody>\n",
       "</table>\n",
       "</div>"
      ],
      "text/plain": [
       "                       Slice Name  Crackles  Wheezes\n",
       "6893  226_1b1_Pl_sc_LittC2SE_6893         1        0\n",
       "6894  226_1b1_Pl_sc_LittC2SE_6894         0        0\n",
       "6895  226_1b1_Pl_sc_LittC2SE_6895         0        0\n",
       "6896  226_1b1_Pl_sc_LittC2SE_6896         1        0\n",
       "6897  226_1b1_Pl_sc_LittC2SE_6897         0        0"
      ]
     },
     "execution_count": 13,
     "metadata": {},
     "output_type": "execute_result"
    }
   ],
   "source": [
    "slice_anno_df = slice_df(filenames, sub_anno_df)\n",
    "slicenames = slice_anno_df['Slice Name'].tolist()\n",
    "slice_anno_df.tail()"
   ]
  },
  {
   "cell_type": "code",
   "execution_count": 14,
   "id": "10f77d8b",
   "metadata": {
    "execution": {
     "iopub.execute_input": "2021-12-20T21:30:45.454969Z",
     "iopub.status.busy": "2021-12-20T21:30:45.453450Z",
     "iopub.status.idle": "2021-12-20T21:30:46.141590Z",
     "shell.execute_reply": "2021-12-20T21:30:46.141068Z"
    },
    "papermill": {
     "duration": 0.803521,
     "end_time": "2021-12-20T21:30:46.141740",
     "exception": false,
     "start_time": "2021-12-20T21:30:45.338219",
     "status": "completed"
    },
    "tags": []
   },
   "outputs": [],
   "source": [
    "def slice_rates(timestamp_df, filenames, srs):\n",
    "    \"\"\"\n",
    "    produces list of sample rates for all slices from audio files\n",
    "    \"\"\"\n",
    "    slice_srs = []\n",
    "    for i, name in enumerate(filenames):\n",
    "        n_slices = len(timestamp_df[timestamp_df['Filename'] == name])\n",
    "        slice_srs.extend([srs[i]] * n_slices)\n",
    "    return slice_srs\n",
    "\n",
    "slice_srs = slice_rates(sub_anno_df, filenames, srs)\n",
    "# set(slice_srs)"
   ]
  },
  {
   "cell_type": "markdown",
   "id": "234b04c8",
   "metadata": {
    "id": "S6Zh3M3xss8C",
    "papermill": {
     "duration": 0.057537,
     "end_time": "2021-12-20T21:30:46.258384",
     "exception": false,
     "start_time": "2021-12-20T21:30:46.200847",
     "status": "completed"
    },
    "tags": []
   },
   "source": [
    "Butterworth Bandpass Filter"
   ]
  },
  {
   "cell_type": "code",
   "execution_count": 15,
   "id": "49c7cdad",
   "metadata": {
    "execution": {
     "iopub.execute_input": "2021-12-20T21:30:46.377395Z",
     "iopub.status.busy": "2021-12-20T21:30:46.376809Z",
     "iopub.status.idle": "2021-12-20T21:30:46.381667Z",
     "shell.execute_reply": "2021-12-20T21:30:46.382185Z",
     "shell.execute_reply.started": "2021-10-01T18:57:02.991695Z"
    },
    "id": "Smh2NmOfssrZ",
    "papermill": {
     "duration": 0.065753,
     "end_time": "2021-12-20T21:30:46.382356",
     "exception": false,
     "start_time": "2021-12-20T21:30:46.316603",
     "status": "completed"
    },
    "tags": []
   },
   "outputs": [],
   "source": [
    "def butter_bandpass(lowcut, highcut, sr, order=12):\n",
    "  nyq = 0.5 * sr\n",
    "  low = lowcut / nyq\n",
    "  high = highcut / nyq\n",
    "  b, a = butter(order, [low, high], btype='band')\n",
    "  return b, a\n",
    "\n",
    "def butter_bandpass_filter(data, lowcut, highcut, sr, order=12):\n",
    "  b, a = butter_bandpass(lowcut, highcut, sr, order=order)\n",
    "  y = lfilter(b, a, data)\n",
    "  return y"
   ]
  },
  {
   "cell_type": "markdown",
   "id": "f5dd2a50",
   "metadata": {
    "id": "ab35-U6tO0nv",
    "papermill": {
     "duration": 0.059266,
     "end_time": "2021-12-20T21:30:46.501190",
     "exception": false,
     "start_time": "2021-12-20T21:30:46.441924",
     "status": "completed"
    },
    "tags": []
   },
   "source": [
    "Preprocessing"
   ]
  },
  {
   "cell_type": "code",
   "execution_count": 16,
   "id": "9b9dd103",
   "metadata": {
    "execution": {
     "iopub.execute_input": "2021-12-20T21:30:46.625090Z",
     "iopub.status.busy": "2021-12-20T21:30:46.624382Z",
     "iopub.status.idle": "2021-12-20T21:30:46.627210Z",
     "shell.execute_reply": "2021-12-20T21:30:46.626728Z",
     "shell.execute_reply.started": "2021-09-27T19:49:33.488602Z"
    },
    "papermill": {
     "duration": 0.066305,
     "end_time": "2021-12-20T21:30:46.627341",
     "exception": false,
     "start_time": "2021-12-20T21:30:46.561036",
     "status": "completed"
    },
    "tags": []
   },
   "outputs": [],
   "source": [
    "# bbfs = []\n",
    "# for i, s in enumerate(slices):\n",
    "#     if slice_srs[i] != 4000:\n",
    "#         resample = lr.resample(s, slice_srs[i], 4000)\n",
    "#         z = butter_bandpass_filter(resample, 120, 1800, sr=4000)\n",
    "#         bbfs.append(len(z))\n",
    "#     else:\n",
    "#         y = butter_bandpass_filter(s, 120, 1800, sr=4000)\n",
    "#         bbfs.append(len(y))\n",
    "#     if i == 1000:\n",
    "#         print(\"done 1\")\n",
    "#     if i == 2000:\n",
    "#         print(\"done 2\")\n",
    "#     if i == 3000:\n",
    "#         print(\"done 3\")\n",
    "#     if i == 4000:\n",
    "#         print(\"done 4\")\n",
    "#     if i == 5000:\n",
    "#         print(\"done 5\")\n",
    "#     if i == 6000:\n",
    "#         print(\"done 6\")\n",
    "# max(bbfs)"
   ]
  },
  {
   "cell_type": "code",
   "execution_count": 17,
   "id": "233eaf85",
   "metadata": {
    "execution": {
     "iopub.execute_input": "2021-12-20T21:30:46.746106Z",
     "iopub.status.busy": "2021-12-20T21:30:46.745470Z",
     "iopub.status.idle": "2021-12-20T21:30:46.751473Z",
     "shell.execute_reply": "2021-12-20T21:30:46.752155Z",
     "shell.execute_reply.started": "2021-10-13T21:25:00.843954Z"
    },
    "id": "IYw1a2h2O0SQ",
    "papermill": {
     "duration": 0.067061,
     "end_time": "2021-12-20T21:30:46.752351",
     "exception": false,
     "start_time": "2021-12-20T21:30:46.685290",
     "status": "completed"
    },
    "tags": []
   },
   "outputs": [],
   "source": [
    "def preprocessing(signals, orig_srs, new_sr):\n",
    "  processed = np.zeros((len(signals), 64652))\n",
    "  for i, signal in enumerate(signals):\n",
    "        if orig_srs[i] != new_sr:\n",
    "            resample = lr.resample(signal, orig_srs[i], new_sr)\n",
    "            y = butter_bandpass_filter(resample, 120, 1800, new_sr) # Sampling rate at 4000Hz according to Roche et al., also standard for Eko Duo (typical for librosa but dataset contains more than one sr - 44100, 4000 and 10000)\n",
    "            processed[i, :len(y)] = y\n",
    "        else:\n",
    "            z = butter_bandpass_filter(signal, 120, 1800, new_sr)\n",
    "            processed[i, :len(z)] = z\n",
    "        if (i / 1000).is_integer():\n",
    "            print('Running...')\n",
    "  return processed\n",
    "\n",
    "# for s in slices[0:10]:\n",
    "#   print(len(butter_bandpass_filter(s, 120, 1800)))"
   ]
  },
  {
   "cell_type": "code",
   "execution_count": 18,
   "id": "6e2e0045",
   "metadata": {
    "execution": {
     "iopub.execute_input": "2021-12-20T21:30:46.871533Z",
     "iopub.status.busy": "2021-12-20T21:30:46.870929Z",
     "iopub.status.idle": "2021-12-20T21:30:46.873791Z",
     "shell.execute_reply": "2021-12-20T21:30:46.874249Z",
     "shell.execute_reply.started": "2021-09-27T19:49:33.515826Z"
    },
    "id": "17_2NQfZPH72",
    "papermill": {
     "duration": 0.063944,
     "end_time": "2021-12-20T21:30:46.874455",
     "exception": false,
     "start_time": "2021-12-20T21:30:46.810511",
     "status": "completed"
    },
    "tags": []
   },
   "outputs": [],
   "source": [
    "# if (os.path.exists(outdir + '/prepro_slices.mat') == False):\n",
    "#   prepro_slices = preprocessing(slices, slice_srs)\n",
    "#   spio.savemat(outdir + 'prepro_slices.mat', {'prepro_slices': prepro_slices})\n",
    "# else:\n",
    "#   pps_mat = spio.loadmat(outdir + 'prepro_slices.mat', squeeze_me=True)\n",
    "#   prepro_slices = pps_mat['prepro_slices']\n",
    "\n",
    "# pps_mat = spio.loadmat('../input/google-colab/prepro_slices.mat', squeeze_me=True)\n",
    "# prepro_slices = pps_mat['prepro_slices']"
   ]
  },
  {
   "cell_type": "code",
   "execution_count": 19,
   "id": "362c1f05",
   "metadata": {
    "execution": {
     "iopub.execute_input": "2021-12-20T21:30:46.996124Z",
     "iopub.status.busy": "2021-12-20T21:30:46.995502Z",
     "iopub.status.idle": "2021-12-20T21:30:46.998135Z",
     "shell.execute_reply": "2021-12-20T21:30:46.998621Z",
     "shell.execute_reply.started": "2021-09-27T19:49:33.533105Z"
    },
    "papermill": {
     "duration": 0.065736,
     "end_time": "2021-12-20T21:30:46.998801",
     "exception": false,
     "start_time": "2021-12-20T21:30:46.933065",
     "status": "completed"
    },
    "tags": []
   },
   "outputs": [],
   "source": [
    "# prepro_slices = preprocessing(slices, slice_srs, 4000)"
   ]
  },
  {
   "cell_type": "code",
   "execution_count": 20,
   "id": "4a7c3263",
   "metadata": {
    "execution": {
     "iopub.execute_input": "2021-12-20T21:30:47.122567Z",
     "iopub.status.busy": "2021-12-20T21:30:47.121909Z",
     "iopub.status.idle": "2021-12-20T21:30:47.125246Z",
     "shell.execute_reply": "2021-12-20T21:30:47.125916Z",
     "shell.execute_reply.started": "2021-09-27T20:00:53.02212Z"
    },
    "papermill": {
     "duration": 0.065293,
     "end_time": "2021-12-20T21:30:47.126098",
     "exception": false,
     "start_time": "2021-12-20T21:30:47.060805",
     "status": "completed"
    },
    "tags": []
   },
   "outputs": [],
   "source": [
    "# np.save(\"prepro_slices.npy\", prepro_slices)"
   ]
  },
  {
   "cell_type": "code",
   "execution_count": 21,
   "id": "138971f1",
   "metadata": {
    "execution": {
     "iopub.execute_input": "2021-12-20T21:30:47.248029Z",
     "iopub.status.busy": "2021-12-20T21:30:47.247328Z",
     "iopub.status.idle": "2021-12-20T21:42:07.249385Z",
     "shell.execute_reply": "2021-12-20T21:42:07.248776Z",
     "shell.execute_reply.started": "2021-12-20T20:44:44.058791Z"
    },
    "papermill": {
     "duration": 680.064216,
     "end_time": "2021-12-20T21:42:07.249601",
     "exception": false,
     "start_time": "2021-12-20T21:30:47.185385",
     "status": "completed"
    },
    "tags": []
   },
   "outputs": [
    {
     "name": "stdout",
     "output_type": "stream",
     "text": [
      "Running...\n",
      "Running...\n",
      "Running...\n",
      "Running...\n",
      "Running...\n",
      "Running...\n",
      "Running...\n"
     ]
    }
   ],
   "source": [
    "try:\n",
    "    prepro_slices = np.load(\"../input/icbhi-analysis/prepro_slices.npy\")\n",
    "except:\n",
    "    prepro_slices = preprocessing(slices, slice_srs, 4000)\n",
    "    np.save(\"prepro_slices.npy\", prepro_slices)"
   ]
  },
  {
   "cell_type": "code",
   "execution_count": 22,
   "id": "e1e6a133",
   "metadata": {
    "execution": {
     "iopub.execute_input": "2021-12-20T21:42:10.208826Z",
     "iopub.status.busy": "2021-12-20T21:42:10.207709Z",
     "iopub.status.idle": "2021-12-20T21:42:10.210343Z",
     "shell.execute_reply": "2021-12-20T21:42:10.209656Z",
     "shell.execute_reply.started": "2021-10-09T01:37:07.836092Z"
    },
    "papermill": {
     "duration": 0.143197,
     "end_time": "2021-12-20T21:42:10.210555",
     "exception": false,
     "start_time": "2021-12-20T21:42:10.067358",
     "status": "completed"
    },
    "tags": []
   },
   "outputs": [],
   "source": [
    "# print(len(prepro_slices))\n",
    "# print(len(slices))\n",
    "# print(len(slicenames))\n",
    "# print(len(slice_srs))"
   ]
  },
  {
   "cell_type": "code",
   "execution_count": 23,
   "id": "a769419f",
   "metadata": {
    "execution": {
     "iopub.execute_input": "2021-12-20T21:42:12.963482Z",
     "iopub.status.busy": "2021-12-20T21:42:12.961562Z",
     "iopub.status.idle": "2021-12-20T21:42:12.964349Z",
     "shell.execute_reply": "2021-12-20T21:42:12.962551Z",
     "shell.execute_reply.started": "2021-09-27T20:01:02.798579Z"
    },
    "papermill": {
     "duration": 1.248848,
     "end_time": "2021-12-20T21:42:12.964589",
     "exception": false,
     "start_time": "2021-12-20T21:42:11.715741",
     "status": "completed"
    },
    "tags": []
   },
   "outputs": [],
   "source": [
    "# plt.figure(figsize=(8,5))\n",
    "# lr.display.waveplot(slices[400])\n",
    "# plt.xlabel('Time (s)')\n",
    "# plt.ylabel('Amplitude')\n",
    "# plt.title(slicenames[400])\n",
    "# plt.show()"
   ]
  },
  {
   "cell_type": "code",
   "execution_count": 24,
   "id": "96adaffd",
   "metadata": {
    "execution": {
     "iopub.execute_input": "2021-12-20T21:42:14.088512Z",
     "iopub.status.busy": "2021-12-20T21:42:14.087279Z",
     "iopub.status.idle": "2021-12-20T21:42:14.090208Z",
     "shell.execute_reply": "2021-12-20T21:42:14.089430Z",
     "shell.execute_reply.started": "2021-09-27T20:01:07.030312Z"
    },
    "papermill": {
     "duration": 0.149402,
     "end_time": "2021-12-20T21:42:14.090427",
     "exception": false,
     "start_time": "2021-12-20T21:42:13.941025",
     "status": "completed"
    },
    "tags": []
   },
   "outputs": [],
   "source": [
    "# plt.figure(figsize=(8,5))\n",
    "# lr.display.waveplot(prepro_slices[400])\n",
    "# plt.xlabel('Time (s)')\n",
    "# plt.ylabel('Amplitude')\n",
    "# plt.title(slicenames[400])\n",
    "# plt.xlim(0, 0.400)\n",
    "# plt.show()"
   ]
  },
  {
   "cell_type": "markdown",
   "id": "1fbda366",
   "metadata": {
    "id": "G4Dx5LwzGwWg",
    "papermill": {
     "duration": 0.058834,
     "end_time": "2021-12-20T21:42:14.214468",
     "exception": false,
     "start_time": "2021-12-20T21:42:14.155634",
     "status": "completed"
    },
    "tags": []
   },
   "source": [
    "Graph Sounds"
   ]
  },
  {
   "cell_type": "code",
   "execution_count": 25,
   "id": "92c121f2",
   "metadata": {
    "execution": {
     "iopub.execute_input": "2021-12-20T21:42:14.336768Z",
     "iopub.status.busy": "2021-12-20T21:42:14.336176Z",
     "iopub.status.idle": "2021-12-20T21:42:14.345155Z",
     "shell.execute_reply": "2021-12-20T21:42:14.345640Z",
     "shell.execute_reply.started": "2021-09-27T20:01:07.266864Z"
    },
    "id": "8KBtA6weGtwV",
    "papermill": {
     "duration": 0.071903,
     "end_time": "2021-12-20T21:42:14.345815",
     "exception": false,
     "start_time": "2021-12-20T21:42:14.273912",
     "status": "completed"
    },
    "tags": []
   },
   "outputs": [],
   "source": [
    "def graph_sounds(index, signals, srs, filenames, timestamp_df):\n",
    "  df = timestamp_df.loc[timestamp_df['Filename'] == filenames[index]]\n",
    "  signal = signals[index]\n",
    "\n",
    "  crackles = df.loc[df['Crackles'] >= 1]\n",
    "  crackle_times = crackles[['Start', 'End']]\n",
    "  wheezes = df.loc[df['Wheezes'] >= 1]\n",
    "  wheeze_times = wheezes[['Start', 'End']]\n",
    "\n",
    "  plt.figure(figsize=(8,5))\n",
    "  lr.display.waveplot(signal, sr=srs[index], color='g')\n",
    "  plt.xlabel('Time (s)')\n",
    "  plt.ylabel('Amplitude')\n",
    "  plt.title(filenames[index])\n",
    "\n",
    "  if len(crackle_times) != 0:\n",
    "    for i, row in crackle_times.iterrows():\n",
    "      plt.axvspan(row[0], row[1], alpha=0.2, color='red')\n",
    "  \n",
    "  if len(wheeze_times) != 0:\n",
    "    for i, row in wheeze_times.iterrows():\n",
    "      plt.axvspan(row[0], row[1], alpha=0.2, color='blue')\n",
    "  \n",
    "  cr = mpatches.Patch(color='red', alpha=0.2, label='Crackle')\n",
    "  wh = mpatches.Patch(color='blue', alpha=0.2, label='Wheeze')\n",
    "\n",
    "  plt.legend(bbox_to_anchor=(1.02, 1), loc='upper left', handles=[cr, wh])\n",
    "\n",
    "  return plt.show()"
   ]
  },
  {
   "cell_type": "code",
   "execution_count": 26,
   "id": "f56752b3",
   "metadata": {
    "execution": {
     "iopub.execute_input": "2021-12-20T21:42:14.469809Z",
     "iopub.status.busy": "2021-12-20T21:42:14.469097Z",
     "iopub.status.idle": "2021-12-20T21:42:14.470837Z",
     "shell.execute_reply": "2021-12-20T21:42:14.471317Z",
     "shell.execute_reply.started": "2021-09-27T20:01:07.907603Z"
    },
    "id": "pZLHSm6zJ4_Z",
    "outputId": "d78f601b-366b-493f-f76a-22fa56e74b5e",
    "papermill": {
     "duration": 0.065563,
     "end_time": "2021-12-20T21:42:14.471504",
     "exception": false,
     "start_time": "2021-12-20T21:42:14.405941",
     "status": "completed"
    },
    "tags": []
   },
   "outputs": [],
   "source": [
    "# for index, row in sub_anno_df.iterrows():\n",
    "#   if index in range(0, 10):\n",
    "#     print(row['End'] - row['Start'])"
   ]
  },
  {
   "cell_type": "code",
   "execution_count": 27,
   "id": "e01091ee",
   "metadata": {
    "execution": {
     "iopub.execute_input": "2021-12-20T21:42:14.596312Z",
     "iopub.status.busy": "2021-12-20T21:42:14.595709Z",
     "iopub.status.idle": "2021-12-20T21:42:14.598133Z",
     "shell.execute_reply": "2021-12-20T21:42:14.598643Z",
     "shell.execute_reply.started": "2021-09-27T20:01:08.290401Z"
    },
    "id": "UFl2yzIXXxGp",
    "outputId": "d92a6cab-e327-4daa-9fe2-c5c9a566883a",
    "papermill": {
     "duration": 0.065593,
     "end_time": "2021-12-20T21:42:14.598821",
     "exception": false,
     "start_time": "2021-12-20T21:42:14.533228",
     "status": "completed"
    },
    "tags": []
   },
   "outputs": [],
   "source": [
    "# graph_sounds(352, signals, srs, filenames, sub_anno_df)"
   ]
  },
  {
   "cell_type": "markdown",
   "id": "e9bef886",
   "metadata": {
    "id": "FmuVSptZsUum",
    "papermill": {
     "duration": 0.058747,
     "end_time": "2021-12-20T21:42:14.717032",
     "exception": false,
     "start_time": "2021-12-20T21:42:14.658285",
     "status": "completed"
    },
    "tags": []
   },
   "source": [
    "Zero-Crossing Rate"
   ]
  },
  {
   "cell_type": "code",
   "execution_count": 28,
   "id": "75d84a44",
   "metadata": {
    "execution": {
     "iopub.execute_input": "2021-12-20T21:42:14.842565Z",
     "iopub.status.busy": "2021-12-20T21:42:14.841927Z",
     "iopub.status.idle": "2021-12-20T21:42:14.845956Z",
     "shell.execute_reply": "2021-12-20T21:42:14.846412Z",
     "shell.execute_reply.started": "2021-09-27T20:01:08.611681Z"
    },
    "id": "w7CRf9N8YVfJ",
    "papermill": {
     "duration": 0.070324,
     "end_time": "2021-12-20T21:42:14.846588",
     "exception": false,
     "start_time": "2021-12-20T21:42:14.776264",
     "status": "completed"
    },
    "tags": []
   },
   "outputs": [],
   "source": [
    "def zcr(signals):\n",
    "  \"\"\"\n",
    "  counts the number of times the signal crosses the horizontal axis\n",
    "  \"\"\"\n",
    "  count = []\n",
    "  for s in signals:\n",
    "    count.append(sum(librosa.zero_crossings(s, pad=False)))\n",
    "  return count"
   ]
  },
  {
   "cell_type": "markdown",
   "id": "0ba6d257",
   "metadata": {
    "id": "_XgAAFQSsqwv",
    "papermill": {
     "duration": 0.059035,
     "end_time": "2021-12-20T21:42:14.965135",
     "exception": false,
     "start_time": "2021-12-20T21:42:14.906100",
     "status": "completed"
    },
    "tags": []
   },
   "source": [
    "Spectrogram"
   ]
  },
  {
   "cell_type": "code",
   "execution_count": 29,
   "id": "a208da5a",
   "metadata": {
    "execution": {
     "iopub.execute_input": "2021-12-20T21:42:15.087191Z",
     "iopub.status.busy": "2021-12-20T21:42:15.086567Z",
     "iopub.status.idle": "2021-12-20T21:42:15.091178Z",
     "shell.execute_reply": "2021-12-20T21:42:15.091732Z",
     "shell.execute_reply.started": "2021-09-27T20:01:10.652577Z"
    },
    "id": "UmOhAviPrRW4",
    "papermill": {
     "duration": 0.067317,
     "end_time": "2021-12-20T21:42:15.091921",
     "exception": false,
     "start_time": "2021-12-20T21:42:15.024604",
     "status": "completed"
    },
    "tags": []
   },
   "outputs": [],
   "source": [
    "def spec_stft(signals):\n",
    "  \"\"\"\n",
    "  converts signals to STFTs to determine the amplitude of frequencies at a given time;\n",
    "  loudness of a signal over time at various frequencies\n",
    "  \"\"\"\n",
    "  specs = []\n",
    "  for s in signals:\n",
    "    stft = librosa.stft(s)\n",
    "    specs.append(librosa.amplitude_to_db(abs(stft)))\n",
    "  return specs"
   ]
  },
  {
   "cell_type": "markdown",
   "id": "828b6104",
   "metadata": {
    "id": "whFW5EAuyKvF",
    "papermill": {
     "duration": 0.058869,
     "end_time": "2021-12-20T21:42:15.210918",
     "exception": false,
     "start_time": "2021-12-20T21:42:15.152049",
     "status": "completed"
    },
    "tags": []
   },
   "source": [
    "Spectral Centroid"
   ]
  },
  {
   "cell_type": "code",
   "execution_count": 30,
   "id": "c7bb8a1a",
   "metadata": {
    "execution": {
     "iopub.execute_input": "2021-12-20T21:42:15.332669Z",
     "iopub.status.busy": "2021-12-20T21:42:15.332058Z",
     "iopub.status.idle": "2021-12-20T21:42:15.337016Z",
     "shell.execute_reply": "2021-12-20T21:42:15.337514Z",
     "shell.execute_reply.started": "2021-09-27T20:01:10.662403Z"
    },
    "id": "F12yxCg7vOIw",
    "papermill": {
     "duration": 0.067187,
     "end_time": "2021-12-20T21:42:15.337693",
     "exception": false,
     "start_time": "2021-12-20T21:42:15.270506",
     "status": "completed"
    },
    "tags": []
   },
   "outputs": [],
   "source": [
    "def spec_centroid(signals, srs):\n",
    "  \"\"\"\n",
    "  determines which frequency the energy of a signal spectrum is centered upon;\n",
    "  center of mass for a sound\n",
    "\n",
    "  second dimension is the values of spectral centroid across time\n",
    "  \"\"\"\n",
    "  centroids = []\n",
    "  for i, s in enumerate(signals):\n",
    "    centroids.append(librosa.feature.spectral_centroid(s, sr=srs[i], n_fft=512, hop_length=256)[0])\n",
    "  return centroids"
   ]
  },
  {
   "cell_type": "markdown",
   "id": "f743a1ed",
   "metadata": {
    "id": "LTGRem7xzMLI",
    "papermill": {
     "duration": 0.058885,
     "end_time": "2021-12-20T21:42:15.456019",
     "exception": false,
     "start_time": "2021-12-20T21:42:15.397134",
     "status": "completed"
    },
    "tags": []
   },
   "source": [
    "Mel-Frequency Cepstral Coefficients"
   ]
  },
  {
   "cell_type": "code",
   "execution_count": 31,
   "id": "c23879b5",
   "metadata": {
    "execution": {
     "iopub.execute_input": "2021-12-20T21:42:15.578224Z",
     "iopub.status.busy": "2021-12-20T21:42:15.577635Z",
     "iopub.status.idle": "2021-12-20T21:42:15.581819Z",
     "shell.execute_reply": "2021-12-20T21:42:15.582281Z",
     "shell.execute_reply.started": "2021-09-27T20:01:10.677765Z"
    },
    "id": "5QwkgVdUyxP1",
    "papermill": {
     "duration": 0.066975,
     "end_time": "2021-12-20T21:42:15.582493",
     "exception": false,
     "start_time": "2021-12-20T21:42:15.515518",
     "status": "completed"
    },
    "tags": []
   },
   "outputs": [],
   "source": [
    "def mel_freq_cc(signals, srs):\n",
    "  \"\"\"\n",
    "  extracts the timbral information (spectral envelope) of signals\n",
    "  \"\"\"\n",
    "  mfccs = []\n",
    "  for i, s in enumerate(signals):\n",
    "    mfccs.append(librosa.feature.mfcc(y=s, sr=srs[i]))\n",
    "  return mfccs"
   ]
  },
  {
   "cell_type": "markdown",
   "id": "647170bf",
   "metadata": {
    "id": "sXCWvrIlzyqn",
    "papermill": {
     "duration": 0.058728,
     "end_time": "2021-12-20T21:42:15.701726",
     "exception": false,
     "start_time": "2021-12-20T21:42:15.642998",
     "status": "completed"
    },
    "tags": []
   },
   "source": [
    "Maximal Overlap Discrete Wavelet Transform"
   ]
  },
  {
   "cell_type": "code",
   "execution_count": 32,
   "id": "79e4bfb8",
   "metadata": {
    "execution": {
     "iopub.execute_input": "2021-12-20T21:42:15.827385Z",
     "iopub.status.busy": "2021-12-20T21:42:15.826795Z",
     "iopub.status.idle": "2021-12-20T21:42:15.828422Z",
     "shell.execute_reply": "2021-12-20T21:42:15.828944Z",
     "shell.execute_reply.started": "2021-09-27T20:01:10.69752Z"
    },
    "id": "dJWvD8G0z5ir",
    "papermill": {
     "duration": 0.067853,
     "end_time": "2021-12-20T21:42:15.829106",
     "exception": false,
     "start_time": "2021-12-20T21:42:15.761253",
     "status": "completed"
    },
    "tags": []
   },
   "outputs": [],
   "source": [
    "def modwt(signals, level):\n",
    "  \"\"\"\n",
    "  takes denoised wavelets and performs multiple-overlap 1D stationary\n",
    "  wavelet transforms (translation-invariance modification of DWT) on each signal\n",
    "  \n",
    "  Fraiwan et al. perform a soft MODWT of level 4, but the array data after denoising\n",
    "  is not long enough so level 1 is selected\n",
    "\n",
    "  Butterworth bandpass filtering allowed level to be set at 3.\n",
    "\n",
    "  Output: list of approximation (index 0) & detail (index 1) coefficients\n",
    "  \"\"\"\n",
    "  modwts = []\n",
    "  for s in signals:\n",
    "    modwts.append(pywt.swt(s, 'db5', level=level, trim_approx=True, norm=True))\n",
    "  return modwts"
   ]
  },
  {
   "cell_type": "markdown",
   "id": "3854bef5",
   "metadata": {
    "papermill": {
     "duration": 0.05966,
     "end_time": "2021-12-20T21:42:15.949444",
     "exception": false,
     "start_time": "2021-12-20T21:42:15.889784",
     "status": "completed"
    },
    "tags": []
   },
   "source": [
    "Classes"
   ]
  },
  {
   "cell_type": "code",
   "execution_count": 33,
   "id": "780436bb",
   "metadata": {
    "execution": {
     "iopub.execute_input": "2021-12-20T21:42:16.074046Z",
     "iopub.status.busy": "2021-12-20T21:42:16.073466Z",
     "iopub.status.idle": "2021-12-20T21:42:16.079992Z",
     "shell.execute_reply": "2021-12-20T21:42:16.080524Z",
     "shell.execute_reply.started": "2021-12-20T20:45:33.472568Z"
    },
    "papermill": {
     "duration": 0.071544,
     "end_time": "2021-12-20T21:42:16.080727",
     "exception": false,
     "start_time": "2021-12-20T21:42:16.009183",
     "status": "completed"
    },
    "tags": []
   },
   "outputs": [],
   "source": [
    "def slice_classes(preprocessed_slices, slices, slice_df):\n",
    "    classes = []\n",
    "    for i, signal in enumerate(preprocessed_slices):\n",
    "        if (len(signal) % 2) == 0:\n",
    "            row = slice_df.loc[slice_df['Slice Name'] == slicenames[i]]\n",
    "            crackle = int(row['Crackles'])\n",
    "            wheeze = int(row['Wheezes'])\n",
    "            # normal\n",
    "            if (crackle == 0) & (wheeze == 0):\n",
    "                classes.append(0)\n",
    "            # crackles only\n",
    "            elif (crackle > 0) & (wheeze == 0):\n",
    "                classes.append(1)\n",
    "            # wheezes only\n",
    "            elif (crackle == 0) & (wheeze > 0):\n",
    "                classes.append(2)\n",
    "            # crackles & wheezes\n",
    "            else:\n",
    "                classes.append(3)\n",
    "    return np.array(classes)"
   ]
  },
  {
   "cell_type": "code",
   "execution_count": 34,
   "id": "f1dc9c48",
   "metadata": {
    "execution": {
     "iopub.execute_input": "2021-12-20T21:42:16.204460Z",
     "iopub.status.busy": "2021-12-20T21:42:16.203718Z",
     "iopub.status.idle": "2021-12-20T21:42:23.176246Z",
     "shell.execute_reply": "2021-12-20T21:42:23.175749Z",
     "shell.execute_reply.started": "2021-12-20T20:46:15.720595Z"
    },
    "papermill": {
     "duration": 7.034927,
     "end_time": "2021-12-20T21:42:23.176392",
     "exception": false,
     "start_time": "2021-12-20T21:42:16.141465",
     "status": "completed"
    },
    "tags": []
   },
   "outputs": [],
   "source": [
    "classes = slice_classes(prepro_slices, slicenames, slice_anno_df)"
   ]
  },
  {
   "cell_type": "code",
   "execution_count": 35,
   "id": "01013acf",
   "metadata": {
    "execution": {
     "iopub.execute_input": "2021-12-20T21:42:23.309102Z",
     "iopub.status.busy": "2021-12-20T21:42:23.308443Z",
     "iopub.status.idle": "2021-12-20T21:42:23.310898Z",
     "shell.execute_reply": "2021-12-20T21:42:23.311366Z",
     "shell.execute_reply.started": "2021-12-20T20:46:26.922585Z"
    },
    "papermill": {
     "duration": 0.072193,
     "end_time": "2021-12-20T21:42:23.311546",
     "exception": false,
     "start_time": "2021-12-20T21:42:23.239353",
     "status": "completed"
    },
    "tags": []
   },
   "outputs": [],
   "source": [
    "set0 = np.where(classes == 0)[0].tolist()\n",
    "set1 = np.where(classes == 1)[0].tolist()\n",
    "set2 = np.where(classes == 2)[0].tolist()\n",
    "set3 = np.where(classes == 3)[0].tolist()\n",
    "m = min(len(set0), len(set1), len(set2), len(set3))"
   ]
  },
  {
   "cell_type": "code",
   "execution_count": 36,
   "id": "78443d73",
   "metadata": {
    "execution": {
     "iopub.execute_input": "2021-12-20T21:42:23.435814Z",
     "iopub.status.busy": "2021-12-20T21:42:23.435195Z",
     "iopub.status.idle": "2021-12-20T21:42:23.440425Z",
     "shell.execute_reply": "2021-12-20T21:42:23.440887Z",
     "shell.execute_reply.started": "2021-12-20T20:30:59.908001Z"
    },
    "papermill": {
     "duration": 0.067605,
     "end_time": "2021-12-20T21:42:23.441069",
     "exception": false,
     "start_time": "2021-12-20T21:42:23.373464",
     "status": "completed"
    },
    "tags": []
   },
   "outputs": [],
   "source": [
    "set0 = set0[:m]\n",
    "set1 = set1[:m]\n",
    "set2 = set2[:m]\n",
    "set3 = set3[:m]\n",
    "balanced_set = np.hstack((set0, set1, set2, set3))\n",
    "np.save(\"balanced_set.npy\", balanced_set)"
   ]
  },
  {
   "cell_type": "code",
   "execution_count": 37,
   "id": "9db2951b",
   "metadata": {
    "execution": {
     "iopub.execute_input": "2021-12-20T21:42:23.570926Z",
     "iopub.status.busy": "2021-12-20T21:42:23.570141Z",
     "iopub.status.idle": "2021-12-20T21:42:23.573868Z",
     "shell.execute_reply": "2021-12-20T21:42:23.573359Z",
     "shell.execute_reply.started": "2021-12-20T20:30:59.921053Z"
    },
    "papermill": {
     "duration": 0.070258,
     "end_time": "2021-12-20T21:42:23.574002",
     "exception": false,
     "start_time": "2021-12-20T21:42:23.503744",
     "status": "completed"
    },
    "tags": []
   },
   "outputs": [
    {
     "data": {
      "text/plain": [
       "2024"
      ]
     },
     "execution_count": 37,
     "metadata": {},
     "output_type": "execute_result"
    }
   ],
   "source": [
    "class_list = [0] * int(len(balanced_set)/4)\n",
    "class_list.extend([1] * int(len(balanced_set)/4))\n",
    "class_list.extend([2] * int(len(balanced_set)/4))\n",
    "class_list.extend([3] * int(len(balanced_set)/4))\n",
    "len(class_list)"
   ]
  },
  {
   "cell_type": "markdown",
   "id": "d8d06e91",
   "metadata": {
    "papermill": {
     "duration": 0.060063,
     "end_time": "2021-12-20T21:42:23.694696",
     "exception": false,
     "start_time": "2021-12-20T21:42:23.634633",
     "status": "completed"
    },
    "tags": []
   },
   "source": [
    "Extraction"
   ]
  },
  {
   "cell_type": "code",
   "execution_count": 38,
   "id": "eb8baa67",
   "metadata": {
    "execution": {
     "iopub.execute_input": "2021-12-20T21:42:23.819485Z",
     "iopub.status.busy": "2021-12-20T21:42:23.818792Z",
     "iopub.status.idle": "2021-12-20T21:42:23.822363Z",
     "shell.execute_reply": "2021-12-20T21:42:23.822897Z",
     "shell.execute_reply.started": "2021-09-27T20:01:10.711655Z"
    },
    "papermill": {
     "duration": 0.067969,
     "end_time": "2021-12-20T21:42:23.823177",
     "exception": false,
     "start_time": "2021-12-20T21:42:23.755208",
     "status": "completed"
    },
    "tags": []
   },
   "outputs": [],
   "source": [
    "# modwts = []\n",
    "# for i, s in enumerate(prepro_slices):\n",
    "#     if (len(s) % 2) == 0:\n",
    "#         modwt = pywt.swt(s, 'db5', level=2, trim_approx=True, norm=True)\n",
    "#         if np.array(modwt).shape not in modwts:\n",
    "#             modwts.append(np.array(modwt).shape)\n",
    "# modwts"
   ]
  },
  {
   "cell_type": "code",
   "execution_count": 39,
   "id": "430d7e2a",
   "metadata": {
    "execution": {
     "iopub.execute_input": "2021-12-20T21:42:23.948886Z",
     "iopub.status.busy": "2021-12-20T21:42:23.948246Z",
     "iopub.status.idle": "2021-12-20T21:42:23.951434Z",
     "shell.execute_reply": "2021-12-20T21:42:23.951921Z",
     "shell.execute_reply.started": "2021-09-27T20:01:10.725162Z"
    },
    "papermill": {
     "duration": 0.068008,
     "end_time": "2021-12-20T21:42:23.952087",
     "exception": false,
     "start_time": "2021-12-20T21:42:23.884079",
     "status": "completed"
    },
    "tags": []
   },
   "outputs": [],
   "source": [
    "# a = np.zeros((len(prepro_slices), 20, 127))\n",
    "# mfcc = lr.feature.mfcc(prepro_slices[0], sr=4000)\n",
    "# b,c = mfcc.shape\n",
    "# a[0, :b, :c] = mfcc\n",
    "# mfcc"
   ]
  },
  {
   "cell_type": "code",
   "execution_count": 40,
   "id": "71a0c131",
   "metadata": {
    "execution": {
     "iopub.execute_input": "2021-12-20T21:42:24.080795Z",
     "iopub.status.busy": "2021-12-20T21:42:24.080113Z",
     "iopub.status.idle": "2021-12-20T21:42:24.089366Z",
     "shell.execute_reply": "2021-12-20T21:42:24.089888Z",
     "shell.execute_reply.started": "2021-10-01T18:57:33.10392Z"
    },
    "id": "t5QExBgl7YO0",
    "papermill": {
     "duration": 0.076378,
     "end_time": "2021-12-20T21:42:24.090067",
     "exception": false,
     "start_time": "2021-12-20T21:42:24.013689",
     "status": "completed"
    },
    "tags": []
   },
   "outputs": [],
   "source": [
    "def extract(preprocessed_slices, sr=4000):\n",
    "    \"\"\"\n",
    "    preprocessed_slices: array of sliced signals that have already undergone preprocessing\n",
    "    sr: sampling rate of slices\n",
    "    \"\"\"\n",
    "    zcrs = np.zeros((len(preprocessed_slices), 1))\n",
    "    spectrograms = np.zeros((len(preprocessed_slices), 1025, 127))\n",
    "    centroids = np.zeros((len(preprocessed_slices), 253))\n",
    "    mfccs = np.zeros((len(preprocessed_slices), 20, 127))\n",
    "    modwts = np.zeros((len(preprocessed_slices), 3, 64652))\n",
    "    \n",
    "    for i, signal in enumerate(preprocessed_slices):\n",
    "        if (len(signal) % 2) == 0: # signal array must be an even number of values for MODWT\n",
    "            # Zero-crossing rate\n",
    "            zcr = sum(lr.zero_crossings(signal, pad=False))\n",
    "            zcrs[i, 0] = zcr\n",
    "    \n",
    "            # Spectrograms\n",
    "            stft = lr.stft(signal)\n",
    "            spec = lr.amplitude_to_db(abs(stft))\n",
    "            y, z = spec.shape\n",
    "            spectrograms[i, :y, :z] = spec\n",
    "    \n",
    "            # Spectral centroids\n",
    "            cent = lr.feature.spectral_centroid(signal, sr, n_fft=512, hop_length=256)[0]\n",
    "            centroids[i, :len(cent)] = cent\n",
    "    \n",
    "            # Mel-cepstral frequency coefficients\n",
    "            mfcc = lr.feature.mfcc(signal, sr)\n",
    "            y, z = mfcc.shape\n",
    "            mfccs[i, :y, :z] = mfcc\n",
    "    \n",
    "            # Maximal overlap discrete wavelet transform\n",
    "            modwt = np.array(pywt.swt(signal, 'db5', level=2, trim_approx=True, norm=True))\n",
    "            y, z = modwt.shape\n",
    "            modwts[i, :y, :z] = modwt\n",
    "    \n",
    "    return zcrs, spectrograms, centroids, mfccs, modwts"
   ]
  },
  {
   "cell_type": "code",
   "execution_count": 41,
   "id": "43f9c430",
   "metadata": {
    "execution": {
     "iopub.execute_input": "2021-12-20T21:42:25.287008Z",
     "iopub.status.busy": "2021-12-20T21:42:25.286330Z",
     "iopub.status.idle": "2021-12-20T21:42:25.289578Z",
     "shell.execute_reply": "2021-12-20T21:42:25.288971Z"
    },
    "papermill": {
     "duration": 1.137749,
     "end_time": "2021-12-20T21:42:25.289731",
     "exception": false,
     "start_time": "2021-12-20T21:42:24.151982",
     "status": "completed"
    },
    "tags": []
   },
   "outputs": [],
   "source": [
    "# start = tm.time()\n",
    "\n",
    "# zcrs, spectrograms, centroids, mfccs, modwts = extract(prepro_slices[:1000])\n",
    "\n",
    "# if (os.path.exists(outdir + '/zerocross.mat') == False):\n",
    "#     zcrs, spectrograms, centroids, mfccs, modwts = extract(prepro_slices, slice_srs)\n",
    "#     features = np.hstack([zcrs, spectrograms, centroids, mfccs, modwts])\n",
    "    \n",
    "#     spio.savemat(outdir + 'zcrs.mat', {'zcrs': zcrs})\n",
    "#     spio.savemat(outdir + 'spectrograms.mat', {'spectrograms': spectrograms})\n",
    "#     spio.savemat(outdir + 'centroids.mat', {'centroids': centroids})\n",
    "#     spio.savemat(outdir + 'mfccs.mat', {'mfccs': mfccs})\n",
    "#     spio.savemat(outdir + 'modwts.mat', {'modwts': modwts})\n",
    "    \n",
    "# else:\n",
    "#     zcr_mat = spio.loadmat(outdir + 'zcrs.mat', squeeze_me=True)\n",
    "#     zcrs = zcr_mat['zerocross']\n",
    "#     spec_mat = spio.loadmat(outdir + 'spectrograms.mat', squeeze_me=True)\n",
    "#     spectrograms = spec_mat['spectrograms']\n",
    "#     cent_mat = spio.loadmat(outdir + 'centroids.mat', squeeze_me=True)\n",
    "#     centroids = cent_mat['centroids']\n",
    "#     mfcc_mat = spio.loadmat(outdir + 'mfccs.mat', squeeze_me=True)\n",
    "#     mfccs = mfcc_mat['mfccs']\n",
    "#     modwt_mat = spio.loadmat(outdir + 'modwts.mat', squeeze_me=True)\n",
    "#     modwts = modwt_mat['modwts']\n",
    "\n",
    "# end = tm.time()\n",
    "# print(f\"Runtime to extract is {end-start} s\")"
   ]
  },
  {
   "cell_type": "code",
   "execution_count": 42,
   "id": "af9c5ae0",
   "metadata": {
    "execution": {
     "iopub.execute_input": "2021-12-20T21:42:25.420545Z",
     "iopub.status.busy": "2021-12-20T21:42:25.419874Z",
     "iopub.status.idle": "2021-12-20T21:42:25.423103Z",
     "shell.execute_reply": "2021-12-20T21:42:25.422539Z",
     "shell.execute_reply.started": "2021-09-27T20:06:42.298927Z"
    },
    "papermill": {
     "duration": 0.07053,
     "end_time": "2021-12-20T21:42:25.423251",
     "exception": false,
     "start_time": "2021-12-20T21:42:25.352721",
     "status": "completed"
    },
    "tags": []
   },
   "outputs": [],
   "source": [
    "# np.save(\"zcrs.npy\", zcrs)\n",
    "# np.save(\"spectrograms.npy\", spectrograms)\n",
    "# np.save(\"centroids.npy\", centroids)\n",
    "# np.save(\"mfccs.npy\", mfccs)\n",
    "# np.save(\"modwts.npy\", modwts)"
   ]
  },
  {
   "cell_type": "code",
   "execution_count": 43,
   "id": "8c4df546",
   "metadata": {
    "execution": {
     "iopub.execute_input": "2021-12-20T21:42:25.555285Z",
     "iopub.status.busy": "2021-12-20T21:42:25.554666Z",
     "iopub.status.idle": "2021-12-20T21:42:25.558101Z",
     "shell.execute_reply": "2021-12-20T21:42:25.557518Z",
     "shell.execute_reply.started": "2021-12-20T18:41:46.788767Z"
    },
    "papermill": {
     "duration": 0.073257,
     "end_time": "2021-12-20T21:42:25.558251",
     "exception": false,
     "start_time": "2021-12-20T21:42:25.484994",
     "status": "completed"
    },
    "tags": []
   },
   "outputs": [],
   "source": [
    "# try:\n",
    "#     a,b,c = spectrograms.shape\n",
    "#     d,e,f = mfccs.shape\n",
    "#     g,h,i = modwts.shape\n",
    "#     spectrograms = spectrograms.reshape((a, b*c))\n",
    "#     mfccs = mfccs.reshape((d, e*f))\n",
    "#     modwts = modwts.reshape((g, h*i))\n",
    "# except NameError:\n",
    "#     zcrs = np.load(\"../input/icbhi-analysis/zcrs.npy\")\n",
    "#     spectrograms = np.load(\"../input/icbhi-analysis/spectrograms.npy\")\n",
    "#     centroids = np.load(\"../input/icbhi-analysis/centroids.npy\")\n",
    "#     mfccs = np.load(\"../input/icbhi-analysis/mfccs.npy\")\n",
    "#     modwts = np.load(\"../input/icbhi-analysis/modwts.npy\")\n",
    "    \n",
    "#     a,b,c = spectrograms.shape\n",
    "#     d,e,f = mfccs.shape\n",
    "#     g,h,i = modwts.shape\n",
    "#     spectrograms = spectrograms.reshape((a, b*c))\n",
    "#     mfccs = mfccs.reshape((d, e*f))\n",
    "#     modwts = modwts.reshape((g, h*i))"
   ]
  },
  {
   "cell_type": "code",
   "execution_count": 44,
   "id": "039dca58",
   "metadata": {
    "execution": {
     "iopub.execute_input": "2021-12-20T21:42:25.683896Z",
     "iopub.status.busy": "2021-12-20T21:42:25.683234Z",
     "iopub.status.idle": "2021-12-20T21:42:25.686540Z",
     "shell.execute_reply": "2021-12-20T21:42:25.685853Z",
     "shell.execute_reply.started": "2021-10-09T01:37:35.309025Z"
    },
    "papermill": {
     "duration": 0.06703,
     "end_time": "2021-12-20T21:42:25.686715",
     "exception": false,
     "start_time": "2021-12-20T21:42:25.619685",
     "status": "completed"
    },
    "tags": []
   },
   "outputs": [],
   "source": [
    "# print(zcrs.shape)\n",
    "# print(spectrograms.shape)\n",
    "# print(centroids.shape)\n",
    "# print(mfccs.shape)\n",
    "# print(modwts.shape)"
   ]
  },
  {
   "cell_type": "code",
   "execution_count": 45,
   "id": "7c6fa82f",
   "metadata": {
    "execution": {
     "iopub.execute_input": "2021-12-20T21:42:25.811067Z",
     "iopub.status.busy": "2021-12-20T21:42:25.810261Z",
     "iopub.status.idle": "2021-12-20T21:42:25.813837Z",
     "shell.execute_reply": "2021-12-20T21:42:25.813241Z",
     "shell.execute_reply.started": "2021-12-20T18:42:03.89742Z"
    },
    "papermill": {
     "duration": 0.067511,
     "end_time": "2021-12-20T21:42:25.814000",
     "exception": false,
     "start_time": "2021-12-20T21:42:25.746489",
     "status": "completed"
    },
    "tags": []
   },
   "outputs": [],
   "source": [
    "# f = {'zcrs' : [zcrs],\n",
    "#      'spectrograms': [spectrograms],\n",
    "#      'centroids': [centroids],\n",
    "#      'mfccs': [mfccs],\n",
    "#      'modwts': [modwts]}\n",
    "# feature_df = pd.DataFrame(data=f)\n",
    "# feature_df.to_csv('features.csv')\n",
    "# feature_df.head()"
   ]
  },
  {
   "cell_type": "code",
   "execution_count": 46,
   "id": "8e30a8ca",
   "metadata": {
    "execution": {
     "iopub.execute_input": "2021-12-20T21:42:25.941527Z",
     "iopub.status.busy": "2021-12-20T21:42:25.940872Z",
     "iopub.status.idle": "2021-12-20T21:42:25.943770Z",
     "shell.execute_reply": "2021-12-20T21:42:25.943266Z",
     "shell.execute_reply.started": "2021-12-20T18:42:04.586396Z"
    },
    "papermill": {
     "duration": 0.066366,
     "end_time": "2021-12-20T21:42:25.943908",
     "exception": false,
     "start_time": "2021-12-20T21:42:25.877542",
     "status": "completed"
    },
    "tags": []
   },
   "outputs": [],
   "source": [
    "# features = np.hstack((zcrs, spectrograms, centroids, mfccs, modwts))\n",
    "# features.shape"
   ]
  },
  {
   "cell_type": "markdown",
   "id": "d5e42179",
   "metadata": {
    "papermill": {
     "duration": 0.059799,
     "end_time": "2021-12-20T21:42:26.063958",
     "exception": false,
     "start_time": "2021-12-20T21:42:26.004159",
     "status": "completed"
    },
    "tags": []
   },
   "source": [
    "Balanced Extraction"
   ]
  },
  {
   "cell_type": "code",
   "execution_count": 47,
   "id": "6ffbdbb5",
   "metadata": {
    "execution": {
     "iopub.execute_input": "2021-12-20T21:42:26.193773Z",
     "iopub.status.busy": "2021-12-20T21:42:26.187018Z",
     "iopub.status.idle": "2021-12-20T21:42:26.197340Z",
     "shell.execute_reply": "2021-12-20T21:42:26.196566Z",
     "shell.execute_reply.started": "2021-12-20T20:47:40.997529Z"
    },
    "papermill": {
     "duration": 0.073664,
     "end_time": "2021-12-20T21:42:26.197509",
     "exception": false,
     "start_time": "2021-12-20T21:42:26.123845",
     "status": "completed"
    },
    "tags": []
   },
   "outputs": [],
   "source": [
    "def balanced_extract(preprocessed_slices, slice_set, sr=4000):\n",
    "    \"\"\"\n",
    "    preprocessed_slices: array of sliced signals that have already undergone preprocessing\n",
    "    slice_set: indices of slices in preprocessed_slices; if balanced, divided into an equal number of each class (i.e. normal, crackle, etc.)\n",
    "    sr: sampling rate of slices\n",
    "    \"\"\"\n",
    "    zcrs = np.zeros((len(balanced_set), 1))\n",
    "    spectrograms = np.zeros((len(balanced_set), 1025, 127))\n",
    "    centroids = np.zeros((len(balanced_set), 253))\n",
    "    mfccs = np.zeros((len(balanced_set), 20, 127))\n",
    "    modwts = np.zeros((len(balanced_set), 3, 64652))\n",
    "    \n",
    "    for i, index in enumerate(balanced_set):\n",
    "        signal = preprocessed_slices[index]\n",
    "        if (len(signal) % 2) == 0: # signal array must be an even number of values for MODWT\n",
    "            # Zero-crossing rate\n",
    "            zcr = sum(lr.zero_crossings(signal, pad=False))\n",
    "            zcrs[i, 0] = zcr\n",
    "    \n",
    "            # Spectrograms\n",
    "            stft = lr.stft(signal)\n",
    "            spec = lr.amplitude_to_db(abs(stft))\n",
    "            y, z = spec.shape\n",
    "            spectrograms[i, :y, :z] = spec\n",
    "    \n",
    "            # Spectral centroids\n",
    "            cent = lr.feature.spectral_centroid(signal, sr, n_fft=512, hop_length=256)[0]\n",
    "            centroids[i, :len(cent)] = cent\n",
    "    \n",
    "            # Mel-cepstral frequency coefficients\n",
    "            mfcc = lr.feature.mfcc(signal, sr)\n",
    "            y, z = mfcc.shape\n",
    "            mfccs[i, :y, :z] = mfcc\n",
    "    \n",
    "            # Maximal overlap discrete wavelet transform\n",
    "            modwt = np.array(pywt.swt(signal, 'db5', level=2, trim_approx=True, norm=True))\n",
    "            y, z = modwt.shape\n",
    "            modwts[i, :y, :z] = modwt\n",
    "    \n",
    "    return zcrs, spectrograms, centroids, mfccs, modwts"
   ]
  },
  {
   "cell_type": "code",
   "execution_count": 48,
   "id": "0ae98cb1",
   "metadata": {
    "execution": {
     "iopub.execute_input": "2021-12-20T21:42:26.320560Z",
     "iopub.status.busy": "2021-12-20T21:42:26.319846Z",
     "iopub.status.idle": "2021-12-20T21:42:26.322476Z",
     "shell.execute_reply": "2021-12-20T21:42:26.323016Z",
     "shell.execute_reply.started": "2021-12-20T20:47:44.429377Z"
    },
    "papermill": {
     "duration": 0.065982,
     "end_time": "2021-12-20T21:42:26.323186",
     "exception": false,
     "start_time": "2021-12-20T21:42:26.257204",
     "status": "completed"
    },
    "tags": []
   },
   "outputs": [],
   "source": [
    "# start = tm.time()\n",
    "\n",
    "# zcrs, spectrograms, centroids, mfccs, modwts = balanced_extract(prepro_slices, balanced_set)\n",
    "\n",
    "# end = tm.time()\n",
    "# print(f\"Runtime to extract is {end-start} s\")"
   ]
  },
  {
   "cell_type": "code",
   "execution_count": 49,
   "id": "584b8e3e",
   "metadata": {
    "execution": {
     "iopub.execute_input": "2021-12-20T21:42:26.446188Z",
     "iopub.status.busy": "2021-12-20T21:42:26.445564Z",
     "iopub.status.idle": "2021-12-20T21:42:26.448594Z",
     "shell.execute_reply": "2021-12-20T21:42:26.449111Z",
     "shell.execute_reply.started": "2021-12-20T20:39:27.387193Z"
    },
    "papermill": {
     "duration": 0.065767,
     "end_time": "2021-12-20T21:42:26.449283",
     "exception": false,
     "start_time": "2021-12-20T21:42:26.383516",
     "status": "completed"
    },
    "tags": []
   },
   "outputs": [],
   "source": [
    "# a,b,c = spectrograms.shape\n",
    "# d,e,f = mfccs.shape\n",
    "# g,h,i = modwts.shape\n",
    "# spectrograms = spectrograms.reshape((a, b*c))\n",
    "# mfccs = mfccs.reshape((d, e*f))\n",
    "# modwts = modwts.reshape((g, h*i))"
   ]
  },
  {
   "cell_type": "code",
   "execution_count": 50,
   "id": "76acfbdd",
   "metadata": {
    "execution": {
     "iopub.execute_input": "2021-12-20T21:42:26.572633Z",
     "iopub.status.busy": "2021-12-20T21:42:26.572006Z",
     "iopub.status.idle": "2021-12-20T21:42:26.574955Z",
     "shell.execute_reply": "2021-12-20T21:42:26.575476Z",
     "shell.execute_reply.started": "2021-12-20T20:07:19.123636Z"
    },
    "papermill": {
     "duration": 0.066597,
     "end_time": "2021-12-20T21:42:26.575661",
     "exception": false,
     "start_time": "2021-12-20T21:42:26.509064",
     "status": "completed"
    },
    "tags": []
   },
   "outputs": [],
   "source": [
    "# print(zcrs.shape)\n",
    "# print(spectrograms.shape)\n",
    "# print(centroids.shape)\n",
    "# print(mfccs.shape)\n",
    "# print(modwts.shape)"
   ]
  },
  {
   "cell_type": "code",
   "execution_count": 51,
   "id": "02b638c3",
   "metadata": {
    "execution": {
     "iopub.execute_input": "2021-12-20T21:42:26.701292Z",
     "iopub.status.busy": "2021-12-20T21:42:26.700727Z",
     "iopub.status.idle": "2021-12-20T21:42:26.703005Z",
     "shell.execute_reply": "2021-12-20T21:42:26.703481Z",
     "shell.execute_reply.started": "2021-12-20T20:39:27.397316Z"
    },
    "papermill": {
     "duration": 0.065647,
     "end_time": "2021-12-20T21:42:26.703647",
     "exception": false,
     "start_time": "2021-12-20T21:42:26.638000",
     "status": "completed"
    },
    "tags": []
   },
   "outputs": [],
   "source": [
    "# features = np.hstack((zcrs, spectrograms, centroids, mfccs, modwts))\n",
    "# features.shape"
   ]
  },
  {
   "cell_type": "markdown",
   "id": "3dc01e0e",
   "metadata": {
    "papermill": {
     "duration": 0.059493,
     "end_time": "2021-12-20T21:42:26.823000",
     "exception": false,
     "start_time": "2021-12-20T21:42:26.763507",
     "status": "completed"
    },
    "tags": []
   },
   "source": [
    "K-Nearest Neighbours"
   ]
  },
  {
   "cell_type": "code",
   "execution_count": 52,
   "id": "831f7563",
   "metadata": {
    "execution": {
     "iopub.execute_input": "2021-12-20T21:42:26.949962Z",
     "iopub.status.busy": "2021-12-20T21:42:26.949252Z",
     "iopub.status.idle": "2021-12-20T21:42:26.952932Z",
     "shell.execute_reply": "2021-12-20T21:42:26.953426Z"
    },
    "papermill": {
     "duration": 0.068085,
     "end_time": "2021-12-20T21:42:26.953603",
     "exception": false,
     "start_time": "2021-12-20T21:42:26.885518",
     "status": "completed"
    },
    "tags": []
   },
   "outputs": [],
   "source": [
    "# X_train = features[:750]\n",
    "# X_test = features[750:]\n",
    "# y_train = classes[:750]\n",
    "# y_test = classes[750:]\n",
    "\n",
    "# 75% train, 25% test\n",
    "# X_train, X_test, y_train, y_test = train_test_split(features, class_list, random_state=123)"
   ]
  },
  {
   "cell_type": "code",
   "execution_count": 53,
   "id": "a62a4ee3",
   "metadata": {
    "execution": {
     "iopub.execute_input": "2021-12-20T21:42:27.086756Z",
     "iopub.status.busy": "2021-12-20T21:42:27.086105Z",
     "iopub.status.idle": "2021-12-20T21:42:27.088936Z",
     "shell.execute_reply": "2021-12-20T21:42:27.089391Z",
     "shell.execute_reply.started": "2021-12-20T19:18:04.690853Z"
    },
    "papermill": {
     "duration": 0.075914,
     "end_time": "2021-12-20T21:42:27.089594",
     "exception": false,
     "start_time": "2021-12-20T21:42:27.013680",
     "status": "completed"
    },
    "tags": []
   },
   "outputs": [],
   "source": [
    "# nn = NearestNeighbors(n_neighbors=10)\n",
    "# nn.fit(X_train);"
   ]
  },
  {
   "cell_type": "code",
   "execution_count": 54,
   "id": "de043456",
   "metadata": {
    "execution": {
     "iopub.execute_input": "2021-12-20T21:42:27.217638Z",
     "iopub.status.busy": "2021-12-20T21:42:27.216970Z",
     "iopub.status.idle": "2021-12-20T21:42:27.219951Z",
     "shell.execute_reply": "2021-12-20T21:42:27.220467Z",
     "shell.execute_reply.started": "2021-12-20T19:18:04.692465Z"
    },
    "papermill": {
     "duration": 0.068467,
     "end_time": "2021-12-20T21:42:27.220641",
     "exception": false,
     "start_time": "2021-12-20T21:42:27.152174",
     "status": "completed"
    },
    "tags": []
   },
   "outputs": [],
   "source": [
    "# distances, nearby_samples = nn.kneighbors(X_train[[0]])\n",
    "# nearby_samples"
   ]
  },
  {
   "cell_type": "code",
   "execution_count": 55,
   "id": "a6dbdc1c",
   "metadata": {
    "execution": {
     "iopub.execute_input": "2021-12-20T21:42:27.347998Z",
     "iopub.status.busy": "2021-12-20T21:42:27.347321Z",
     "iopub.status.idle": "2021-12-20T21:42:27.350888Z",
     "shell.execute_reply": "2021-12-20T21:42:27.351384Z"
    },
    "papermill": {
     "duration": 0.069363,
     "end_time": "2021-12-20T21:42:27.351575",
     "exception": false,
     "start_time": "2021-12-20T21:42:27.282212",
     "status": "completed"
    },
    "tags": []
   },
   "outputs": [],
   "source": [
    "# knn = KNeighborsClassifier(n_neighbors=4)\n",
    "# knn.fit(X_train, y_train)\n",
    "\n",
    "# y_pred = knn.predict(X_test)"
   ]
  },
  {
   "cell_type": "code",
   "execution_count": 56,
   "id": "9e52cfc5",
   "metadata": {
    "execution": {
     "iopub.execute_input": "2021-12-20T21:42:27.475284Z",
     "iopub.status.busy": "2021-12-20T21:42:27.474680Z",
     "iopub.status.idle": "2021-12-20T21:42:27.478002Z",
     "shell.execute_reply": "2021-12-20T21:42:27.478529Z"
    },
    "papermill": {
     "duration": 0.066827,
     "end_time": "2021-12-20T21:42:27.478745",
     "exception": false,
     "start_time": "2021-12-20T21:42:27.411918",
     "status": "completed"
    },
    "tags": []
   },
   "outputs": [],
   "source": [
    "# plot_confusion_matrix(knn, X_test, y_test)"
   ]
  },
  {
   "cell_type": "code",
   "execution_count": 57,
   "id": "490f28e1",
   "metadata": {
    "execution": {
     "iopub.execute_input": "2021-12-20T21:42:27.606427Z",
     "iopub.status.busy": "2021-12-20T21:42:27.605807Z",
     "iopub.status.idle": "2021-12-20T21:42:27.608802Z",
     "shell.execute_reply": "2021-12-20T21:42:27.609269Z"
    },
    "papermill": {
     "duration": 0.06735,
     "end_time": "2021-12-20T21:42:27.609465",
     "exception": false,
     "start_time": "2021-12-20T21:42:27.542115",
     "status": "completed"
    },
    "tags": []
   },
   "outputs": [],
   "source": [
    "# accuracy_score(y_test, y_pred)"
   ]
  },
  {
   "cell_type": "code",
   "execution_count": 58,
   "id": "04928949",
   "metadata": {
    "execution": {
     "iopub.execute_input": "2021-12-20T21:42:27.736767Z",
     "iopub.status.busy": "2021-12-20T21:42:27.735928Z",
     "iopub.status.idle": "2021-12-20T21:42:27.738474Z",
     "shell.execute_reply": "2021-12-20T21:42:27.738000Z",
     "shell.execute_reply.started": "2021-10-01T19:02:34.538338Z"
    },
    "papermill": {
     "duration": 0.066416,
     "end_time": "2021-12-20T21:42:27.738631",
     "exception": false,
     "start_time": "2021-12-20T21:42:27.672215",
     "status": "completed"
    },
    "tags": []
   },
   "outputs": [],
   "source": [
    "# dc = DummyClassifier(strategy=\"most_frequent\")\n",
    "# dc.fit(X_train, y_train)\n",
    "\n",
    "# dc_pred = dc.predict(X_test)"
   ]
  },
  {
   "cell_type": "code",
   "execution_count": 59,
   "id": "49c38cc3",
   "metadata": {
    "execution": {
     "iopub.execute_input": "2021-12-20T21:42:27.866679Z",
     "iopub.status.busy": "2021-12-20T21:42:27.866063Z",
     "iopub.status.idle": "2021-12-20T21:42:27.869480Z",
     "shell.execute_reply": "2021-12-20T21:42:27.870155Z",
     "shell.execute_reply.started": "2021-10-01T19:02:43.866458Z"
    },
    "papermill": {
     "duration": 0.071339,
     "end_time": "2021-12-20T21:42:27.870345",
     "exception": false,
     "start_time": "2021-12-20T21:42:27.799006",
     "status": "completed"
    },
    "tags": []
   },
   "outputs": [],
   "source": [
    "# accuracy_score(y_test, dc_pred)"
   ]
  },
  {
   "cell_type": "code",
   "execution_count": 60,
   "id": "bc84d1f5",
   "metadata": {
    "execution": {
     "iopub.execute_input": "2021-12-20T21:42:27.998497Z",
     "iopub.status.busy": "2021-12-20T21:42:27.997872Z",
     "iopub.status.idle": "2021-12-20T21:42:28.000846Z",
     "shell.execute_reply": "2021-12-20T21:42:28.001293Z",
     "shell.execute_reply.started": "2021-10-01T18:37:36.46421Z"
    },
    "papermill": {
     "duration": 0.070892,
     "end_time": "2021-12-20T21:42:28.001497",
     "exception": false,
     "start_time": "2021-12-20T21:42:27.930605",
     "status": "completed"
    },
    "tags": []
   },
   "outputs": [],
   "source": [
    "# k_range = range(1, 16)\n",
    "\n",
    "# scores = []\n",
    "\n",
    "# for k in k_range:\n",
    "#     knn = KNeighborsClassifier(n_neighbors=k)\n",
    "#     knn.fit(X_train, y_train)\n",
    "#     y_pred = knn.predict(X_test)\n",
    "#     scores.append(accuracy_score(y_test, y_pred))\n",
    "\n",
    "# print(scores)"
   ]
  },
  {
   "cell_type": "code",
   "execution_count": 61,
   "id": "b8dfa43c",
   "metadata": {
    "execution": {
     "iopub.execute_input": "2021-12-20T21:42:28.126633Z",
     "iopub.status.busy": "2021-12-20T21:42:28.126004Z",
     "iopub.status.idle": "2021-12-20T21:42:28.128959Z",
     "shell.execute_reply": "2021-12-20T21:42:28.129448Z"
    },
    "papermill": {
     "duration": 0.066336,
     "end_time": "2021-12-20T21:42:28.129636",
     "exception": false,
     "start_time": "2021-12-20T21:42:28.063300",
     "status": "completed"
    },
    "tags": []
   },
   "outputs": [],
   "source": [
    "# Pipeline\n",
    "# pipe_knn = Pipeline([\n",
    "#     ('preprocessor', preprocessing()),\n",
    "#     ('extraction', extract()),\n",
    "#     ('knn', KNeighborsClassifier())\n",
    "# ])"
   ]
  },
  {
   "cell_type": "code",
   "execution_count": 62,
   "id": "cf99d718",
   "metadata": {
    "execution": {
     "iopub.execute_input": "2021-12-20T21:42:28.256386Z",
     "iopub.status.busy": "2021-12-20T21:42:28.254381Z",
     "iopub.status.idle": "2021-12-20T21:42:28.258026Z",
     "shell.execute_reply": "2021-12-20T21:42:28.258538Z",
     "shell.execute_reply.started": "2021-10-04T17:02:19.196291Z"
    },
    "papermill": {
     "duration": 0.06817,
     "end_time": "2021-12-20T21:42:28.258711",
     "exception": false,
     "start_time": "2021-12-20T21:42:28.190541",
     "status": "completed"
    },
    "tags": []
   },
   "outputs": [],
   "source": [
    "# expert = '../input/dryrun/9002_expert/'\n",
    "# expertnames = [s.split('.')[0] for s in os.listdir(path = expert) if '.wav' in s]"
   ]
  },
  {
   "cell_type": "code",
   "execution_count": 63,
   "id": "189b42f8",
   "metadata": {
    "execution": {
     "iopub.execute_input": "2021-12-20T21:42:28.405869Z",
     "iopub.status.busy": "2021-12-20T21:42:28.405104Z",
     "iopub.status.idle": "2021-12-20T21:42:28.407430Z",
     "shell.execute_reply": "2021-12-20T21:42:28.408024Z",
     "shell.execute_reply.started": "2021-10-04T17:02:37.979716Z"
    },
    "papermill": {
     "duration": 0.074773,
     "end_time": "2021-12-20T21:42:28.408206",
     "exception": false,
     "start_time": "2021-12-20T21:42:28.333433",
     "status": "completed"
    },
    "tags": []
   },
   "outputs": [],
   "source": [
    "# exp_sigs, exp_srs = waveforms(expertnames, expert)"
   ]
  },
  {
   "cell_type": "code",
   "execution_count": 64,
   "id": "4e958c3c",
   "metadata": {
    "execution": {
     "iopub.execute_input": "2021-12-20T21:42:28.547259Z",
     "iopub.status.busy": "2021-12-20T21:42:28.546313Z",
     "iopub.status.idle": "2021-12-20T21:42:28.549304Z",
     "shell.execute_reply": "2021-12-20T21:42:28.550093Z",
     "shell.execute_reply.started": "2021-10-01T18:08:58.151306Z"
    },
    "papermill": {
     "duration": 0.070676,
     "end_time": "2021-12-20T21:42:28.550351",
     "exception": false,
     "start_time": "2021-12-20T21:42:28.479675",
     "status": "completed"
    },
    "tags": []
   },
   "outputs": [],
   "source": [
    "# prepro_exp = preprocessing(exp_sigs, exp_srs, 4000)"
   ]
  },
  {
   "cell_type": "code",
   "execution_count": 65,
   "id": "4e1da297",
   "metadata": {
    "execution": {
     "iopub.execute_input": "2021-12-20T21:42:28.703633Z",
     "iopub.status.busy": "2021-12-20T21:42:28.702939Z",
     "iopub.status.idle": "2021-12-20T21:42:28.707299Z",
     "shell.execute_reply": "2021-12-20T21:42:28.707825Z",
     "shell.execute_reply.started": "2021-10-01T18:10:02.80417Z"
    },
    "papermill": {
     "duration": 0.077177,
     "end_time": "2021-12-20T21:42:28.708027",
     "exception": false,
     "start_time": "2021-12-20T21:42:28.630850",
     "status": "completed"
    },
    "tags": []
   },
   "outputs": [],
   "source": [
    "# exp_zcrs, exp_spectrograms, exp_centroids, exp_mfccs, exp_modwts = extract(prepro_exp)"
   ]
  },
  {
   "cell_type": "code",
   "execution_count": 66,
   "id": "2bb5c3a3",
   "metadata": {
    "execution": {
     "iopub.execute_input": "2021-12-20T21:42:28.838755Z",
     "iopub.status.busy": "2021-12-20T21:42:28.837901Z",
     "iopub.status.idle": "2021-12-20T21:42:28.841043Z",
     "shell.execute_reply": "2021-12-20T21:42:28.840557Z",
     "shell.execute_reply.started": "2021-10-01T18:11:32.137175Z"
    },
    "papermill": {
     "duration": 0.071347,
     "end_time": "2021-12-20T21:42:28.841178",
     "exception": false,
     "start_time": "2021-12-20T21:42:28.769831",
     "status": "completed"
    },
    "tags": []
   },
   "outputs": [],
   "source": [
    "# exp_spectrograms = exp_spectrograms.reshape((len(exp_spectrograms), 1025*127))\n",
    "# exp_mfccs = exp_mfccs.reshape((len(exp_mfccs), 20*127))\n",
    "# exp_modwts = exp_modwts.reshape((len(exp_modwts), 3*64652))\n",
    "\n",
    "# exp_features = np.hstack((exp_zcrs, exp_spectrograms, exp_centroids, exp_mfccs, exp_modwts))\n",
    "# exp_features.shape"
   ]
  },
  {
   "cell_type": "code",
   "execution_count": 67,
   "id": "6d407719",
   "metadata": {
    "execution": {
     "iopub.execute_input": "2021-12-20T21:42:28.968001Z",
     "iopub.status.busy": "2021-12-20T21:42:28.966972Z",
     "iopub.status.idle": "2021-12-20T21:42:28.970277Z",
     "shell.execute_reply": "2021-12-20T21:42:28.970942Z",
     "shell.execute_reply.started": "2021-10-01T18:44:35.781983Z"
    },
    "papermill": {
     "duration": 0.068539,
     "end_time": "2021-12-20T21:42:28.971126",
     "exception": false,
     "start_time": "2021-12-20T21:42:28.902587",
     "status": "completed"
    },
    "tags": []
   },
   "outputs": [],
   "source": [
    "# y_pred_exp = knn.predict(exp_features)\n",
    "# print(y_pred_exp)"
   ]
  },
  {
   "cell_type": "code",
   "execution_count": 68,
   "id": "dff8efb3",
   "metadata": {
    "execution": {
     "iopub.execute_input": "2021-12-20T21:42:29.100285Z",
     "iopub.status.busy": "2021-12-20T21:42:29.099444Z",
     "iopub.status.idle": "2021-12-20T21:42:29.102203Z",
     "shell.execute_reply": "2021-12-20T21:42:29.102751Z",
     "shell.execute_reply.started": "2021-10-01T18:15:10.045217Z"
    },
    "papermill": {
     "duration": 0.071572,
     "end_time": "2021-12-20T21:42:29.102927",
     "exception": false,
     "start_time": "2021-12-20T21:42:29.031355",
     "status": "completed"
    },
    "tags": []
   },
   "outputs": [],
   "source": [
    "# nonexpert = '../input/dryrun/9002_nonexpert/'\n",
    "# nonexpertnames = [s.split('.')[0] for s in os.listdir(path = nonexpert) if '.wav' in s]"
   ]
  },
  {
   "cell_type": "code",
   "execution_count": 69,
   "id": "979db1a5",
   "metadata": {
    "execution": {
     "iopub.execute_input": "2021-12-20T21:42:29.228355Z",
     "iopub.status.busy": "2021-12-20T21:42:29.227446Z",
     "iopub.status.idle": "2021-12-20T21:42:29.231211Z",
     "shell.execute_reply": "2021-12-20T21:42:29.231726Z",
     "shell.execute_reply.started": "2021-10-01T18:15:32.082171Z"
    },
    "papermill": {
     "duration": 0.06827,
     "end_time": "2021-12-20T21:42:29.231895",
     "exception": false,
     "start_time": "2021-12-20T21:42:29.163625",
     "status": "completed"
    },
    "tags": []
   },
   "outputs": [],
   "source": [
    "# nonexp_sigs, nonexp_srs = waveforms(nonexpertnames, nonexpert)"
   ]
  },
  {
   "cell_type": "code",
   "execution_count": 70,
   "id": "59e15a2d",
   "metadata": {
    "execution": {
     "iopub.execute_input": "2021-12-20T21:42:29.358256Z",
     "iopub.status.busy": "2021-12-20T21:42:29.357285Z",
     "iopub.status.idle": "2021-12-20T21:42:29.360630Z",
     "shell.execute_reply": "2021-12-20T21:42:29.361119Z",
     "shell.execute_reply.started": "2021-10-01T18:15:49.138229Z"
    },
    "papermill": {
     "duration": 0.068431,
     "end_time": "2021-12-20T21:42:29.361281",
     "exception": false,
     "start_time": "2021-12-20T21:42:29.292850",
     "status": "completed"
    },
    "tags": []
   },
   "outputs": [],
   "source": [
    "# prepro_nonexp = preprocessing(nonexp_sigs, nonexp_srs, 4000)"
   ]
  },
  {
   "cell_type": "code",
   "execution_count": 71,
   "id": "04b5946c",
   "metadata": {
    "execution": {
     "iopub.execute_input": "2021-12-20T21:42:29.485870Z",
     "iopub.status.busy": "2021-12-20T21:42:29.485272Z",
     "iopub.status.idle": "2021-12-20T21:42:29.487154Z",
     "shell.execute_reply": "2021-12-20T21:42:29.487631Z",
     "shell.execute_reply.started": "2021-10-01T18:16:09.263873Z"
    },
    "papermill": {
     "duration": 0.066095,
     "end_time": "2021-12-20T21:42:29.487826",
     "exception": false,
     "start_time": "2021-12-20T21:42:29.421731",
     "status": "completed"
    },
    "tags": []
   },
   "outputs": [],
   "source": [
    "# nonexp_zcrs, nonexp_spectrograms, nonexp_centroids, nonexp_mfccs, nonexp_modwts = extract(prepro_nonexp)"
   ]
  },
  {
   "cell_type": "code",
   "execution_count": 72,
   "id": "6b37257a",
   "metadata": {
    "execution": {
     "iopub.execute_input": "2021-12-20T21:42:29.613302Z",
     "iopub.status.busy": "2021-12-20T21:42:29.612629Z",
     "iopub.status.idle": "2021-12-20T21:42:29.615574Z",
     "shell.execute_reply": "2021-12-20T21:42:29.616092Z",
     "shell.execute_reply.started": "2021-10-01T18:17:10.813561Z"
    },
    "papermill": {
     "duration": 0.066752,
     "end_time": "2021-12-20T21:42:29.616274",
     "exception": false,
     "start_time": "2021-12-20T21:42:29.549522",
     "status": "completed"
    },
    "tags": []
   },
   "outputs": [],
   "source": [
    "# nonexp_spectrograms = nonexp_spectrograms.reshape((len(nonexp_spectrograms), 1025*127))\n",
    "# nonexp_mfccs = nonexp_mfccs.reshape((len(nonexp_mfccs), 20*127))\n",
    "# nonexp_modwts = nonexp_modwts.reshape((len(nonexp_modwts), 3*64652))\n",
    "\n",
    "# nonexp_features = np.hstack((nonexp_zcrs, nonexp_spectrograms, nonexp_centroids, nonexp_mfccs, nonexp_modwts))\n",
    "# nonexp_features.shape"
   ]
  },
  {
   "cell_type": "code",
   "execution_count": 73,
   "id": "b245b6fb",
   "metadata": {
    "execution": {
     "iopub.execute_input": "2021-12-20T21:42:29.742531Z",
     "iopub.status.busy": "2021-12-20T21:42:29.741896Z",
     "iopub.status.idle": "2021-12-20T21:42:29.744736Z",
     "shell.execute_reply": "2021-12-20T21:42:29.745208Z",
     "shell.execute_reply.started": "2021-10-01T18:44:48.707418Z"
    },
    "papermill": {
     "duration": 0.067141,
     "end_time": "2021-12-20T21:42:29.745367",
     "exception": false,
     "start_time": "2021-12-20T21:42:29.678226",
     "status": "completed"
    },
    "tags": []
   },
   "outputs": [],
   "source": [
    "# y_pred_nonexp = knn.predict(nonexp_features)\n",
    "# print(y_pred_nonexp)"
   ]
  },
  {
   "cell_type": "code",
   "execution_count": 74,
   "id": "af8b3898",
   "metadata": {
    "execution": {
     "iopub.execute_input": "2021-12-20T21:42:29.870875Z",
     "iopub.status.busy": "2021-12-20T21:42:29.870233Z",
     "iopub.status.idle": "2021-12-20T21:42:29.872944Z",
     "shell.execute_reply": "2021-12-20T21:42:29.873385Z",
     "shell.execute_reply.started": "2021-10-01T18:20:40.163676Z"
    },
    "papermill": {
     "duration": 0.067134,
     "end_time": "2021-12-20T21:42:29.873589",
     "exception": false,
     "start_time": "2021-12-20T21:42:29.806455",
     "status": "completed"
    },
    "tags": []
   },
   "outputs": [],
   "source": [
    "# volunteer = '../input/dryrun/9002_volunteer/'\n",
    "# volunteernames = [s.split('.')[0] for s in os.listdir(path = volunteer) if '.wav' in s]"
   ]
  },
  {
   "cell_type": "code",
   "execution_count": 75,
   "id": "b549786e",
   "metadata": {
    "execution": {
     "iopub.execute_input": "2021-12-20T21:42:29.999907Z",
     "iopub.status.busy": "2021-12-20T21:42:29.999166Z",
     "iopub.status.idle": "2021-12-20T21:42:30.001904Z",
     "shell.execute_reply": "2021-12-20T21:42:30.002394Z",
     "shell.execute_reply.started": "2021-10-01T18:21:02.324632Z"
    },
    "papermill": {
     "duration": 0.06629,
     "end_time": "2021-12-20T21:42:30.002601",
     "exception": false,
     "start_time": "2021-12-20T21:42:29.936311",
     "status": "completed"
    },
    "tags": []
   },
   "outputs": [],
   "source": [
    "# vol_sigs, vol_srs = waveforms(volunteernames, volunteer)"
   ]
  },
  {
   "cell_type": "code",
   "execution_count": 76,
   "id": "02b273d2",
   "metadata": {
    "execution": {
     "iopub.execute_input": "2021-12-20T21:42:30.127921Z",
     "iopub.status.busy": "2021-12-20T21:42:30.127245Z",
     "iopub.status.idle": "2021-12-20T21:42:30.130010Z",
     "shell.execute_reply": "2021-12-20T21:42:30.130486Z",
     "shell.execute_reply.started": "2021-10-01T18:21:23.927994Z"
    },
    "papermill": {
     "duration": 0.066326,
     "end_time": "2021-12-20T21:42:30.130667",
     "exception": false,
     "start_time": "2021-12-20T21:42:30.064341",
     "status": "completed"
    },
    "tags": []
   },
   "outputs": [],
   "source": [
    "# prepro_vol = preprocessing(vol_sigs, vol_srs, 4000)"
   ]
  },
  {
   "cell_type": "code",
   "execution_count": 77,
   "id": "607fd773",
   "metadata": {
    "execution": {
     "iopub.execute_input": "2021-12-20T21:42:30.255036Z",
     "iopub.status.busy": "2021-12-20T21:42:30.254468Z",
     "iopub.status.idle": "2021-12-20T21:42:30.257379Z",
     "shell.execute_reply": "2021-12-20T21:42:30.257862Z",
     "shell.execute_reply.started": "2021-10-01T18:21:54.143766Z"
    },
    "papermill": {
     "duration": 0.066223,
     "end_time": "2021-12-20T21:42:30.258032",
     "exception": false,
     "start_time": "2021-12-20T21:42:30.191809",
     "status": "completed"
    },
    "tags": []
   },
   "outputs": [],
   "source": [
    "# vol_zcrs, vol_spectrograms, vol_centroids, vol_mfccs, vol_modwts = extract(prepro_vol)"
   ]
  },
  {
   "cell_type": "code",
   "execution_count": 78,
   "id": "3ddc8000",
   "metadata": {
    "execution": {
     "iopub.execute_input": "2021-12-20T21:42:30.384139Z",
     "iopub.status.busy": "2021-12-20T21:42:30.383519Z",
     "iopub.status.idle": "2021-12-20T21:42:30.386571Z",
     "shell.execute_reply": "2021-12-20T21:42:30.387096Z",
     "shell.execute_reply.started": "2021-10-01T18:22:49.492131Z"
    },
    "papermill": {
     "duration": 0.067991,
     "end_time": "2021-12-20T21:42:30.387266",
     "exception": false,
     "start_time": "2021-12-20T21:42:30.319275",
     "status": "completed"
    },
    "tags": []
   },
   "outputs": [],
   "source": [
    "# vol_spectrograms = vol_spectrograms.reshape((len(vol_spectrograms), 1025*127))\n",
    "# vol_mfccs = vol_mfccs.reshape((len(vol_mfccs), 20*127))\n",
    "# vol_modwts = vol_modwts.reshape((len(vol_modwts), 3*64652))\n",
    "\n",
    "# vol_features = np.hstack((vol_zcrs, vol_spectrograms, vol_centroids, vol_mfccs, vol_modwts))\n",
    "# vol_features.shape"
   ]
  },
  {
   "cell_type": "code",
   "execution_count": 79,
   "id": "1f2916a6",
   "metadata": {
    "execution": {
     "iopub.execute_input": "2021-12-20T21:42:30.515358Z",
     "iopub.status.busy": "2021-12-20T21:42:30.514545Z",
     "iopub.status.idle": "2021-12-20T21:42:30.517666Z",
     "shell.execute_reply": "2021-12-20T21:42:30.518167Z",
     "shell.execute_reply.started": "2021-10-01T18:44:57.793181Z"
    },
    "papermill": {
     "duration": 0.069269,
     "end_time": "2021-12-20T21:42:30.518350",
     "exception": false,
     "start_time": "2021-12-20T21:42:30.449081",
     "status": "completed"
    },
    "tags": []
   },
   "outputs": [],
   "source": [
    "# y_pred_vol = knn.predict(vol_features)\n",
    "# print(y_pred_vol)"
   ]
  },
  {
   "cell_type": "code",
   "execution_count": 80,
   "id": "f89361c0",
   "metadata": {
    "execution": {
     "iopub.execute_input": "2021-12-20T21:42:30.644508Z",
     "iopub.status.busy": "2021-12-20T21:42:30.643845Z",
     "iopub.status.idle": "2021-12-20T21:42:30.647027Z",
     "shell.execute_reply": "2021-12-20T21:42:30.647745Z",
     "shell.execute_reply.started": "2021-10-01T18:38:27.285807Z"
    },
    "papermill": {
     "duration": 0.067313,
     "end_time": "2021-12-20T21:42:30.647946",
     "exception": false,
     "start_time": "2021-12-20T21:42:30.580633",
     "status": "completed"
    },
    "tags": []
   },
   "outputs": [],
   "source": [
    "# pred_prob_vol = knn.predict_proba(vol_features)\n",
    "# print(pred_prob_vol)"
   ]
  },
  {
   "cell_type": "code",
   "execution_count": 81,
   "id": "4a8e3f1a",
   "metadata": {
    "execution": {
     "iopub.execute_input": "2021-12-20T21:42:30.774329Z",
     "iopub.status.busy": "2021-12-20T21:42:30.773710Z",
     "iopub.status.idle": "2021-12-20T21:42:30.777528Z",
     "shell.execute_reply": "2021-12-20T21:42:30.778104Z",
     "shell.execute_reply.started": "2021-10-04T17:07:55.508239Z"
    },
    "papermill": {
     "duration": 0.067841,
     "end_time": "2021-12-20T21:42:30.778281",
     "exception": false,
     "start_time": "2021-12-20T21:42:30.710440",
     "status": "completed"
    },
    "tags": []
   },
   "outputs": [],
   "source": [
    "# sub_anno_df.loc[sub_anno_df[\"Diagnosis\"] == 'Healthy'].head()"
   ]
  },
  {
   "cell_type": "code",
   "execution_count": 82,
   "id": "643589eb",
   "metadata": {
    "execution": {
     "iopub.execute_input": "2021-12-20T21:42:30.907790Z",
     "iopub.status.busy": "2021-12-20T21:42:30.906809Z",
     "iopub.status.idle": "2021-12-20T21:42:30.910461Z",
     "shell.execute_reply": "2021-12-20T21:42:30.910928Z",
     "shell.execute_reply.started": "2021-10-04T17:11:41.956672Z"
    },
    "papermill": {
     "duration": 0.070403,
     "end_time": "2021-12-20T21:42:30.911098",
     "exception": false,
     "start_time": "2021-12-20T21:42:30.840695",
     "status": "completed"
    },
    "tags": []
   },
   "outputs": [],
   "source": [
    "# filenames.index('102_1b1_Ar_sc_Meditron')"
   ]
  },
  {
   "cell_type": "code",
   "execution_count": 83,
   "id": "311668f8",
   "metadata": {
    "execution": {
     "iopub.execute_input": "2021-12-20T21:42:31.039020Z",
     "iopub.status.busy": "2021-12-20T21:42:31.037506Z",
     "iopub.status.idle": "2021-12-20T21:42:31.041142Z",
     "shell.execute_reply": "2021-12-20T21:42:31.041708Z",
     "shell.execute_reply.started": "2021-10-04T17:10:17.93026Z"
    },
    "papermill": {
     "duration": 0.067587,
     "end_time": "2021-12-20T21:42:31.041895",
     "exception": false,
     "start_time": "2021-12-20T21:42:30.974308",
     "status": "completed"
    },
    "tags": []
   },
   "outputs": [],
   "source": [
    "# plt.figure(figsize=(8,5))\n",
    "# lr.display.waveplot(signals[2], sr=srs[2])\n",
    "# plt.xlabel('Time (s)')\n",
    "# plt.ylabel('Amplitude')\n",
    "# plt.title(filenames[2])\n",
    "# plt.show()"
   ]
  },
  {
   "cell_type": "code",
   "execution_count": 84,
   "id": "d98f9348",
   "metadata": {
    "execution": {
     "iopub.execute_input": "2021-12-20T21:42:31.171592Z",
     "iopub.status.busy": "2021-12-20T21:42:31.170529Z",
     "iopub.status.idle": "2021-12-20T21:42:31.172626Z",
     "shell.execute_reply": "2021-12-20T21:42:31.173106Z",
     "shell.execute_reply.started": "2021-10-04T17:03:16.675286Z"
    },
    "papermill": {
     "duration": 0.068938,
     "end_time": "2021-12-20T21:42:31.173283",
     "exception": false,
     "start_time": "2021-12-20T21:42:31.104345",
     "status": "completed"
    },
    "tags": []
   },
   "outputs": [],
   "source": [
    "# plt.figure(figsize=(8,5))\n",
    "# lr.display.waveplot(exp_sigs[0], sr=exp_srs[0])\n",
    "# plt.xlabel('Time (s)')\n",
    "# plt.ylabel('Amplitude')\n",
    "# plt.title(expertnames[0])\n",
    "# plt.show()"
   ]
  },
  {
   "cell_type": "markdown",
   "id": "9f40da27",
   "metadata": {
    "papermill": {
     "duration": 0.060098,
     "end_time": "2021-12-20T21:42:31.295096",
     "exception": false,
     "start_time": "2021-12-20T21:42:31.234998",
     "status": "completed"
    },
    "tags": []
   },
   "source": [
    "Zero Padding"
   ]
  },
  {
   "cell_type": "code",
   "execution_count": 85,
   "id": "35bfeef3",
   "metadata": {
    "execution": {
     "iopub.execute_input": "2021-12-20T21:42:31.420082Z",
     "iopub.status.busy": "2021-12-20T21:42:31.419168Z",
     "iopub.status.idle": "2021-12-20T21:42:31.423068Z",
     "shell.execute_reply": "2021-12-20T21:42:31.422593Z",
     "shell.execute_reply.started": "2021-10-04T17:22:20.39328Z"
    },
    "papermill": {
     "duration": 0.067828,
     "end_time": "2021-12-20T21:42:31.423222",
     "exception": false,
     "start_time": "2021-12-20T21:42:31.355394",
     "status": "completed"
    },
    "tags": []
   },
   "outputs": [],
   "source": [
    "# plt.scatter(x=(sub_anno_df['End']-sub_anno_df['Start']), y=sub_anno_df[\"Subject ID\"])"
   ]
  },
  {
   "cell_type": "code",
   "execution_count": 86,
   "id": "57b2445e",
   "metadata": {
    "execution": {
     "iopub.execute_input": "2021-12-20T21:42:31.550245Z",
     "iopub.status.busy": "2021-12-20T21:42:31.549623Z",
     "iopub.status.idle": "2021-12-20T21:42:31.551883Z",
     "shell.execute_reply": "2021-12-20T21:42:31.552342Z",
     "shell.execute_reply.started": "2021-10-04T17:23:31.160964Z"
    },
    "papermill": {
     "duration": 0.066988,
     "end_time": "2021-12-20T21:42:31.552537",
     "exception": false,
     "start_time": "2021-12-20T21:42:31.485549",
     "status": "completed"
    },
    "tags": []
   },
   "outputs": [],
   "source": [
    "# Ideal length is around 6\n",
    "# plt.boxplot(x=(sub_anno_df['End']-sub_anno_df['Start']));"
   ]
  },
  {
   "cell_type": "code",
   "execution_count": 87,
   "id": "4951d802",
   "metadata": {
    "execution": {
     "iopub.execute_input": "2021-12-20T21:42:31.684950Z",
     "iopub.status.busy": "2021-12-20T21:42:31.684050Z",
     "iopub.status.idle": "2021-12-20T21:42:31.686204Z",
     "shell.execute_reply": "2021-12-20T21:42:31.686838Z",
     "shell.execute_reply.started": "2021-10-04T18:21:10.822877Z"
    },
    "papermill": {
     "duration": 0.071443,
     "end_time": "2021-12-20T21:42:31.687027",
     "exception": false,
     "start_time": "2021-12-20T21:42:31.615584",
     "status": "completed"
    },
    "tags": []
   },
   "outputs": [],
   "source": [
    "def zero_pad(slices, srs, annotation_df, max_length):\n",
    "    \"\"\"\n",
    "    add zeros to signals so that all are the same length\n",
    "    \"\"\"\n",
    "    padded_slices = []\n",
    "    for i, row in annotation_df.iterrows():\n",
    "        start = row['Start']\n",
    "        end = row['End']\n",
    "        \n",
    "        # If length > maximum length, change to maximum length\n",
    "        if (end - start) > max_length:\n",
    "            end = start + max_length\n",
    "        \n",
    "        sample = slice_signal(start, end, slices[i], srs[i])\n",
    "        \n",
    "        # Note: librosa automatically converts audio to single channel (mono - 'sc') even if it is multi channel (stereo - 'mc')\n",
    "        required_length = max_length * srs[i]\n",
    "        padded_slices.append(lr.util.pad_center(sample, required_length))\n",
    "    return padded_slices"
   ]
  },
  {
   "cell_type": "code",
   "execution_count": 88,
   "id": "0df93ae9",
   "metadata": {
    "execution": {
     "iopub.execute_input": "2021-12-20T21:42:31.815188Z",
     "iopub.status.busy": "2021-12-20T21:42:31.814246Z",
     "iopub.status.idle": "2021-12-20T21:42:31.817344Z",
     "shell.execute_reply": "2021-12-20T21:42:31.816870Z"
    },
    "papermill": {
     "duration": 0.068873,
     "end_time": "2021-12-20T21:42:31.817530",
     "exception": false,
     "start_time": "2021-12-20T21:42:31.748657",
     "status": "completed"
    },
    "tags": []
   },
   "outputs": [],
   "source": [
    "# Sample rates can differ so not all slices are the same length\n",
    "# padded_slices = zero_pad(slices, slice_srs, sub_anno_df, 6)"
   ]
  },
  {
   "cell_type": "code",
   "execution_count": 89,
   "id": "08106a14",
   "metadata": {
    "execution": {
     "iopub.execute_input": "2021-12-20T21:42:31.949838Z",
     "iopub.status.busy": "2021-12-20T21:42:31.948750Z",
     "iopub.status.idle": "2021-12-20T21:42:31.952154Z",
     "shell.execute_reply": "2021-12-20T21:42:31.952694Z"
    },
    "papermill": {
     "duration": 0.070889,
     "end_time": "2021-12-20T21:42:31.952918",
     "exception": false,
     "start_time": "2021-12-20T21:42:31.882029",
     "status": "completed"
    },
    "tags": []
   },
   "outputs": [],
   "source": [
    "# def preprocessing_v2(slices, srs):\n",
    "    # Low pass butterworth bandpass\n",
    "    \n",
    "    # High pass butterworth bandpass\n",
    "    \n",
    "    # Wavelet filter\n",
    "    "
   ]
  }
 ],
 "metadata": {
  "kernelspec": {
   "display_name": "Python 3",
   "language": "python",
   "name": "python3"
  },
  "language_info": {
   "codemirror_mode": {
    "name": "ipython",
    "version": 3
   },
   "file_extension": ".py",
   "mimetype": "text/x-python",
   "name": "python",
   "nbconvert_exporter": "python",
   "pygments_lexer": "ipython3",
   "version": "3.7.10"
  },
  "papermill": {
   "default_parameters": {},
   "duration": 825.358959,
   "end_time": "2021-12-20T21:42:34.883219",
   "environment_variables": {},
   "exception": null,
   "input_path": "__notebook__.ipynb",
   "output_path": "__notebook__.ipynb",
   "parameters": {},
   "start_time": "2021-12-20T21:28:49.524260",
   "version": "2.3.3"
  }
 },
 "nbformat": 4,
 "nbformat_minor": 5
}
