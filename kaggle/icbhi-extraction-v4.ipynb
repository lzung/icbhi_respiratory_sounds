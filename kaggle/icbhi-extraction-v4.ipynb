{
 "cells": [
  {
   "cell_type": "markdown",
   "id": "1573c7f6",
   "metadata": {
    "papermill": {
     "duration": 0.014334,
     "end_time": "2022-02-14T21:07:59.293816",
     "exception": false,
     "start_time": "2022-02-14T21:07:59.279482",
     "status": "completed"
    },
    "tags": []
   },
   "source": [
    "## Import icbhi-preprocessing-v4 data before running"
   ]
  },
  {
   "cell_type": "markdown",
   "id": "a37ba5dd",
   "metadata": {
    "papermill": {
     "duration": 0.012977,
     "end_time": "2022-02-14T21:07:59.320430",
     "exception": false,
     "start_time": "2022-02-14T21:07:59.307453",
     "status": "completed"
    },
    "tags": []
   },
   "source": [
    "# Libraries"
   ]
  },
  {
   "cell_type": "code",
   "execution_count": 1,
   "id": "3e7af443",
   "metadata": {
    "execution": {
     "iopub.execute_input": "2022-02-14T21:07:59.364020Z",
     "iopub.status.busy": "2022-02-14T21:07:59.363040Z",
     "iopub.status.idle": "2022-02-14T21:08:21.159928Z",
     "shell.execute_reply": "2022-02-14T21:08:21.160434Z",
     "shell.execute_reply.started": "2022-02-14T20:47:31.031912Z"
    },
    "papermill": {
     "duration": 21.824545,
     "end_time": "2022-02-14T21:08:21.160761",
     "exception": false,
     "start_time": "2022-02-14T21:07:59.336216",
     "status": "completed"
    },
    "tags": []
   },
   "outputs": [
    {
     "name": "stdout",
     "output_type": "stream",
     "text": [
      "Importing done\n"
     ]
    }
   ],
   "source": [
    "import numpy as np\n",
    "import matplotlib.pyplot as plt\n",
    "import matplotlib.patches as mpatches\n",
    "import matplotlib.cm as cm\n",
    "import pandas as pd\n",
    "\n",
    "# Not immediately usable with this dataset as files contain 24-bit data\n",
    "from scipy.io import wavfile\n",
    "from scipy.io.wavfile import read, write\n",
    "\n",
    "import IPython.display as ipd\n",
    "from IPython.display import Audio\n",
    "from numpy.fft import fft, ifft\n",
    "\n",
    "import librosa as lr\n",
    "import librosa.display\n",
    "\n",
    "import os\n",
    "import pickle\n",
    "from glob import glob\n",
    "\n",
    "import seaborn as sns\n",
    "\n",
    "from scipy import signal as sig\n",
    "from scipy.signal import butter, lfilter, sosfilt\n",
    "from scipy.fftpack import fft, ifft\n",
    "from tqdm import tqdm\n",
    "import pywt\n",
    "import random\n",
    "import skimage.data\n",
    "from skimage.restoration import denoise_wavelet\n",
    "from pywt import swt\n",
    "import time as tm\n",
    "import collections\n",
    "from typing import Tuple\n",
    "from typeguard import typechecked\n",
    "\n",
    "# if ('pydub' in globals()) == False:\n",
    "#   !pip install pydub\n",
    "# from pydub import AudioSegment\n",
    "# from pydub.utils import make_chunks\n",
    "\n",
    "\n",
    "# LT-06-24: import io to save intermediate outputs; use \"as\" to shorten module.function name as \"spio\"\n",
    "import scipy.io as spio\n",
    "\n",
    "\n",
    "# LT-06-24: install modules if not found \n",
    "# if ( 'umap' in globals() ) == False: \n",
    "#   !pip install umap-learn\n",
    "\n",
    "import umap.umap_ as umap\n",
    "\n",
    "import sklearn\n",
    "from sklearn.model_selection import train_test_split\n",
    "from sklearn.preprocessing import StandardScaler, minmax_scale\n",
    "from sklearn.neighbors import KNeighborsClassifier, NearestNeighbors\n",
    "from sklearn.dummy import DummyClassifier\n",
    "from sklearn.cluster import KMeans\n",
    "from sklearn.pipeline import Pipeline\n",
    "from sklearn.metrics import silhouette_samples, silhouette_score, classification_report, confusion_matrix, accuracy_score, plot_confusion_matrix\n",
    "\n",
    "print('Importing done')"
   ]
  },
  {
   "cell_type": "markdown",
   "id": "f66a5ae4",
   "metadata": {
    "papermill": {
     "duration": 0.013746,
     "end_time": "2022-02-14T21:08:21.188900",
     "exception": false,
     "start_time": "2022-02-14T21:08:21.175154",
     "status": "completed"
    },
    "tags": []
   },
   "source": [
    "# Preprocessed Data"
   ]
  },
  {
   "cell_type": "code",
   "execution_count": 2,
   "id": "c66d0ed5",
   "metadata": {
    "execution": {
     "iopub.execute_input": "2022-02-14T21:08:21.220368Z",
     "iopub.status.busy": "2022-02-14T21:08:21.219757Z",
     "iopub.status.idle": "2022-02-14T21:08:38.592463Z",
     "shell.execute_reply": "2022-02-14T21:08:38.591640Z",
     "shell.execute_reply.started": "2022-02-14T20:47:55.475501Z"
    },
    "papermill": {
     "duration": 17.389634,
     "end_time": "2022-02-14T21:08:38.592629",
     "exception": false,
     "start_time": "2022-02-14T21:08:21.202995",
     "status": "completed"
    },
    "tags": []
   },
   "outputs": [],
   "source": [
    "prepro_slices = np.load(\"../input/icbhi-preprocessing-v4/prepro_slices.npy\")"
   ]
  },
  {
   "cell_type": "code",
   "execution_count": 3,
   "id": "959ea749",
   "metadata": {
    "execution": {
     "iopub.execute_input": "2022-02-14T21:08:38.624816Z",
     "iopub.status.busy": "2022-02-14T21:08:38.624193Z",
     "iopub.status.idle": "2022-02-14T21:08:38.957236Z",
     "shell.execute_reply": "2022-02-14T21:08:38.956711Z",
     "shell.execute_reply.started": "2022-02-14T20:59:25.240840Z"
    },
    "papermill": {
     "duration": 0.349988,
     "end_time": "2022-02-14T21:08:38.957398",
     "exception": false,
     "start_time": "2022-02-14T21:08:38.607410",
     "status": "completed"
    },
    "tags": []
   },
   "outputs": [
    {
     "data": {
      "image/png": "[encoded data removed]",
      "text/plain": [
       "<Figure size 432x288 with 1 Axes>"
      ]
     },
     "metadata": {
      "needs_background": "light"
     },
     "output_type": "display_data"
    }
   ],
   "source": [
    "lr.display.waveplot(prepro_slices[0], sr=8000);\n",
    "plt.xlim([0,6]);"
   ]
  },
  {
   "cell_type": "markdown",
   "id": "57bbddc5",
   "metadata": {
    "papermill": {
     "duration": 0.013861,
     "end_time": "2022-02-14T21:08:38.985870",
     "exception": false,
     "start_time": "2022-02-14T21:08:38.972009",
     "status": "completed"
    },
    "tags": []
   },
   "source": [
    "# Extraction\n",
    "### Evaluation of features for classification of lung diseases (Tasar et al., 2021)"
   ]
  },
  {
   "cell_type": "code",
   "execution_count": 4,
   "id": "3090b416",
   "metadata": {
    "execution": {
     "iopub.execute_input": "2022-02-14T21:08:39.020183Z",
     "iopub.status.busy": "2022-02-14T21:08:39.019473Z",
     "iopub.status.idle": "2022-02-14T21:08:39.022159Z",
     "shell.execute_reply": "2022-02-14T21:08:39.021580Z",
     "shell.execute_reply.started": "2022-02-14T20:59:28.168165Z"
    },
    "papermill": {
     "duration": 0.022327,
     "end_time": "2022-02-14T21:08:39.022307",
     "exception": false,
     "start_time": "2022-02-14T21:08:38.999980",
     "status": "completed"
    },
    "tags": []
   },
   "outputs": [],
   "source": [
    "@typechecked\n",
    "def check_params(q: float, redundancy: float, stages: int):\n",
    "    if q < 1:\n",
    "        raise ValueError(\"q must be greater or equal 1!\")\n",
    "    if redundancy <= 1:\n",
    "        raise ValueError(\"The redundancy must be strictly greater than 1\")\n",
    "    if stages < 1:\n",
    "        raise ValueError(\"stages must be a positive integer!\")"
   ]
  },
  {
   "cell_type": "code",
   "execution_count": 5,
   "id": "78157ed2",
   "metadata": {
    "execution": {
     "iopub.execute_input": "2022-02-14T21:08:39.070853Z",
     "iopub.status.busy": "2022-02-14T21:08:39.054948Z",
     "iopub.status.idle": "2022-02-14T21:08:39.072707Z",
     "shell.execute_reply": "2022-02-14T21:08:39.073267Z",
     "shell.execute_reply.started": "2022-02-14T20:59:30.896938Z"
    },
    "papermill": {
     "duration": 0.036341,
     "end_time": "2022-02-14T21:08:39.073432",
     "exception": false,
     "start_time": "2022-02-14T21:08:39.037091",
     "status": "completed"
    },
    "tags": []
   },
   "outputs": [],
   "source": [
    "def tqwt(x: np.ndarray, q: float, redundancy: float, stages: int) -> np.ndarray:\n",
    "    \"\"\"\n",
    "    Tunable-Q Wavelet transform\n",
    "    Parameters\n",
    "    ----------\n",
    "    x: array like, shape (n,)\n",
    "        Input signal, needs to be of even length\n",
    "    q: float\n",
    "        Q-Factor. The Q-factor, denoted Q, affects the oscillatory behavior the wavelet; specifically, Q affects the\n",
    "        extent to which the oscillations of the wavelet are sustained. Roughly, Q is a measure of the number of\n",
    "        oscillations the wavelet exhibits. For Q, a value of 1.0 or greater can be specified. The definition of the\n",
    "        Q-factor of an oscillatory pulse is the ratio of its center frequency to its bandwidth.\n",
    "    redundancy: float\n",
    "        Oversampling rate (redundancy). Redundancy of the TQWT when it is computed using\n",
    "        infinitely many levels. Here `redundancy means total over-sampling rate of the transform (the total number of\n",
    "        wavelet coefficients divided by the length of the signal to which the TQWT is applied.) The specified value of\n",
    "        must be greater than 1.0, and a value of 3.0 or greater is recommended. (When it is close to 1.0, the wavelet\n",
    "        will not be well localized in time — it will have excessive ringing which is generally considered undesirable.)\n",
    "        The actual redundancy will be somewhat different than the parameter because the transform can actually be\n",
    "        computed using only a finite number of levels.\n",
    "    stages: int\n",
    "        The number of stages (or levels) of the wavelet transform is denoted by stages. The transform consists of a\n",
    "        sequence of two-channel filter banks, with the low-pass output of each filter bank being used as the input to\n",
    "        the successive filter bank. The parameter `stages` denotes the number of filter banks. Each output signal\n",
    "        constitutes one subband of the wavelet transform. There will be J + 1 subbands: the high-pass filter output\n",
    "        signal of each filter bank, and the low-pass filter output signal of the final filter bank.\n",
    "    Returns\n",
    "    -------\n",
    "    w: np.ndarray with dtype np.object\n",
    "        Wavelet coefficients.\n",
    "    \"\"\"\n",
    "    check_params(q, redundancy, stages)\n",
    "    if x.shape[0] % 2 or len(x.shape) != 1:\n",
    "        raise ValueError(\"Input signal x needs to be one dimensional and of even length!\")\n",
    "    x = np.asarray(x)\n",
    "\n",
    "    beta = float(2 / (q + 1))\n",
    "    alpha = float(1 - beta / redundancy)\n",
    "    n = x.shape[0]\n",
    "\n",
    "    max_num_stages = int(np.floor(np.log(beta * n / 8) / np.log(1 / alpha)))\n",
    "\n",
    "    if stages > max_num_stages:\n",
    "        if max_num_stages > 0:\n",
    "            raise ValueError(\"Too many subbands, reduce subbands to \" + str(max_num_stages))\n",
    "        else:\n",
    "            raise ValueError(\"Too many subbands specified, increase signal length\")\n",
    "\n",
    "    fft_of_x = fft(x) / np.sqrt(n)  # unitary DFT\n",
    "\n",
    "    w = []                          # init list of wavelet coefficients\n",
    "\n",
    "    for subband_idx in range(1, stages + 1):\n",
    "        n0 = 2 * round(alpha ** subband_idx * n / 2)\n",
    "        n1 = 2 * round(beta * alpha ** (subband_idx - 1) * n / 2)\n",
    "        fft_of_x, w_subband = analysis_filter_bank(fft_of_x, n0, n1)\n",
    "        w.append(ifft(w_subband) * np.sqrt(len(w_subband)))  # inverse unitary DFT\n",
    "\n",
    "    w.append(ifft(fft_of_x) * np.sqrt(len(fft_of_x)))      # inverse unitary DFT\n",
    "    return np.array(w, dtype=np.object)\n",
    "\n",
    "\n",
    "def analysis_filter_bank(x: np.ndarray, n0: int, n1: int) -> Tuple[np.ndarray, np.ndarray]:\n",
    "    \"\"\"\n",
    "    Two-channel analysis filter bank operating on a frequency domain input x. This function is used\n",
    "    iteratively by `tqwt`.\n",
    "    Parameters\n",
    "    ----------\n",
    "    x: np.ndarray\n",
    "        Input vector (frequency domain)\n",
    "    n0: int\n",
    "        length of the lp_subband\n",
    "    n1: int\n",
    "        length of the hp_subband\n",
    "    Returns\n",
    "    -------\n",
    "    lp_subband: np.ndarray\n",
    "        low-pass output of the filter bank in the frequency domain\n",
    "    hp_subband: np.ndarray\n",
    "        high-pass output of the filter bank in the frequency domain\n",
    "    \"\"\"\n",
    "    x = np.array(x)\n",
    "    n = x.shape[0]                  # len(x)\n",
    "\n",
    "    p = int((n-n1) / 2)             # pass-band\n",
    "    t = int((n0 + n1 - n) / 2 - 1)  # transition-band\n",
    "    s = int((n - n0) / 2)           # stop-band\n",
    "\n",
    "    # transition band function\n",
    "    v = np.arange(start=1, stop=t+1) / (t+1) * np.pi\n",
    "    transit_band = (1 + np.cos(v)) * np.sqrt(2 - np.cos(v)) / 2.0\n",
    "\n",
    "    # low-pass subband\n",
    "    lp_subband = np.zeros(n0, dtype=x.dtype)\n",
    "    lp_subband[0] = x[0]                                                  # DC-term\n",
    "    lp_subband[1:p+1] = x[1:p + 1]                                        # pass-band\n",
    "    lp_subband[1+p:p+t+1] = x[1 + p:p + t + 1] * transit_band             # transition-band\n",
    "    lp_subband[int(n0 / 2)] = 0                                           # nyquist\n",
    "    lp_subband[n0-p-t:n0-p] = x[n - p - t:n - p] * np.flip(transit_band)  # transition-band (negative frequencies)\n",
    "    lp_subband[n0-p:] = x[n - p:]                                         # pass-band (negative frequencies)\n",
    "\n",
    "    # high-pass subband\n",
    "    hp_subband = np.zeros(n1, dtype=x.dtype)\n",
    "    hp_subband[0] = 0                                                     # DC-term\n",
    "    hp_subband[1:t+1] = x[1 + p:t + p + 1] * np.flip(transit_band)        # transition-band\n",
    "    hp_subband[t+1:s+1+t] = x[p + t + 1:p + t + s + 1]                    # pass-band\n",
    "    if n // 2 == 0:                                                       # nyquist if N is even\n",
    "        hp_subband[n1/2] = x[n / 2]\n",
    "    hp_subband[n1-t-s-1:n1-t] = x[n - p - t - s - 1:n - p - t]            # pass-band (negative frequencies)\n",
    "    hp_subband[n1-t:n1] = x[n - p - t:n - p] * transit_band               # transition-band (negative frequencies)\n",
    "\n",
    "    return lp_subband, hp_subband"
   ]
  },
  {
   "cell_type": "code",
   "execution_count": 6,
   "id": "69e9241c",
   "metadata": {
    "execution": {
     "iopub.execute_input": "2022-02-14T21:08:39.106085Z",
     "iopub.status.busy": "2022-02-14T21:08:39.105120Z",
     "iopub.status.idle": "2022-02-14T21:08:39.110388Z",
     "shell.execute_reply": "2022-02-14T21:08:39.109890Z",
     "shell.execute_reply.started": "2022-02-14T21:05:02.394760Z"
    },
    "papermill": {
     "duration": 0.022961,
     "end_time": "2022-02-14T21:08:39.110552",
     "exception": false,
     "start_time": "2022-02-14T21:08:39.087591",
     "status": "completed"
    },
    "tags": []
   },
   "outputs": [],
   "source": [
    "def extract(signal, sr=8000):\n",
    "    \"\"\"\n",
    "    signal: slice that has already undergone preprocessing\n",
    "    sr: sampling rate of slice\n",
    "    \"\"\"\n",
    "#     # Spectrograms\n",
    "#     stft = lr.stft(signal)\n",
    "#     spec = lr.amplitude_to_db(abs(stft))\n",
    "    \n",
    "# #     # Spectral centroids\n",
    "# #     cent = lr.feature.spectral_centroid(signal, sr, n_fft=512, hop_length=256)[0]\n",
    "    \n",
    "#     # Mel-cepstral frequency coefficients\n",
    "#     mfcc = lr.feature.mfcc(signal, sr, n_mfcc=13)\n",
    "    \n",
    "#     # Wavelet transform using Baubechies with 4 vanishing moments\n",
    "#     modwt = np.array(pywt.dwt(signal, 'db4', mode='zero'))\n",
    "# #     # Absolute mean\n",
    "# #     abm = abs(np.nanmean(modwt))\n",
    "# #     # Standard deviation\n",
    "# #     sd = np.nanstd(modwt)\n",
    "#     # Zero crossing rate\n",
    "#     wt_zcr = len(np.nonzero(np.diff(np.array(modwt) > 0))[0])\n",
    "    \n",
    "    tqwts = tqwt(signal, 1.0, 2.0, 8)\n",
    "    \n",
    "    return tqwts"
   ]
  },
  {
   "cell_type": "code",
   "execution_count": 7,
   "id": "f2e6184f",
   "metadata": {
    "execution": {
     "iopub.execute_input": "2022-02-14T21:08:39.144823Z",
     "iopub.status.busy": "2022-02-14T21:08:39.144123Z",
     "iopub.status.idle": "2022-02-14T21:08:39.146712Z",
     "shell.execute_reply": "2022-02-14T21:08:39.147113Z",
     "shell.execute_reply.started": "2022-02-14T21:06:20.521714Z"
    },
    "papermill": {
     "duration": 0.022424,
     "end_time": "2022-02-14T21:08:39.147277",
     "exception": false,
     "start_time": "2022-02-14T21:08:39.124853",
     "status": "completed"
    },
    "tags": []
   },
   "outputs": [],
   "source": [
    "def save_extraction(preprocessed_slices):\n",
    "    for i, signal in enumerate(preprocessed_slices):\n",
    "        # Extract\n",
    "        wave_transform = extract(signal)\n",
    "        \n",
    "        # Reshape\n",
    "#         a,b = spec.shape\n",
    "#         c,d = mfcc.shape\n",
    "#         spec = spec.reshape((a*b))\n",
    "#         mfcc = mfcc.reshape((c*d))\n",
    "#         features = np.hstack((spec, mfcc, wt_zcr))\n",
    "        \n",
    "        # Naming\n",
    "        filename = str(i) + '_features.npy'\n",
    "        \n",
    "        np.save(filename, wave_transform)\n",
    "        \n",
    "    return print('done')"
   ]
  },
  {
   "cell_type": "code",
   "execution_count": 8,
   "id": "fd9a5404",
   "metadata": {
    "execution": {
     "iopub.execute_input": "2022-02-14T21:08:39.179362Z",
     "iopub.status.busy": "2022-02-14T21:08:39.178451Z",
     "iopub.status.idle": "2022-02-14T21:08:39.182122Z",
     "shell.execute_reply": "2022-02-14T21:08:39.182638Z",
     "shell.execute_reply.started": "2021-11-19T20:17:53.779424Z"
    },
    "papermill": {
     "duration": 0.021522,
     "end_time": "2022-02-14T21:08:39.182809",
     "exception": false,
     "start_time": "2022-02-14T21:08:39.161287",
     "status": "completed"
    },
    "tags": []
   },
   "outputs": [],
   "source": [
    "# def save_specific_extraction( i, demo=0 ):\n",
    "#     signal  = prepro_slices[i, ]\n",
    "#     # Extract\n",
    "#     spec, mfcc, wt_zcr = extract(signal )\n",
    "\n",
    "#     # Reshape\n",
    "#     a,b = spec.shape\n",
    "#     c,d = mfcc.shape\n",
    "#     spec = spec.reshape((a*b))\n",
    "#     mfcc = mfcc.reshape((c*d))\n",
    "#     features = np.hstack((spec, mfcc, wt_zcr))\n",
    "\n",
    "#     # Naming\n",
    "#     filename = str(i) + '_features' + '.npy'\n",
    "\n",
    "    \n",
    "#     np.save(filename, features)       \n",
    "#     z=[]\n",
    "#     if demo:\n",
    "#         # l1,l2,l3 = spec.shape, mfcc.shape, wt_zcr.shape\n",
    "#         z=[len(spec),len(mfcc),1]\n",
    "#     return signal, z\n",
    "# signal, z = save_specific_extraction( 121, 1 )\n",
    "# print(z)    "
   ]
  },
  {
   "cell_type": "code",
   "execution_count": 9,
   "id": "6f0f522d",
   "metadata": {
    "execution": {
     "iopub.execute_input": "2022-02-14T21:08:39.214943Z",
     "iopub.status.busy": "2022-02-14T21:08:39.214044Z",
     "iopub.status.idle": "2022-02-14T21:08:39.220127Z",
     "shell.execute_reply": "2022-02-14T21:08:39.220599Z",
     "shell.execute_reply.started": "2022-02-14T21:05:06.234624Z"
    },
    "papermill": {
     "duration": 0.023881,
     "end_time": "2022-02-14T21:08:39.220775",
     "exception": false,
     "start_time": "2022-02-14T21:08:39.196894",
     "status": "completed"
    },
    "tags": []
   },
   "outputs": [],
   "source": [
    "def load_all_files(directory):\n",
    "    files = list(map(lambda p: os.path.splitext(os.path.basename(p))[0],\n",
    "                    glob(os.path.join(directory, '*.npy'))))\n",
    "    \n",
    "    samples = {}\n",
    "    for filename in files:\n",
    "        samples[filename] = np.load(os.path.join(directory, filename + '.npy'))\n",
    "    return samples    "
   ]
  },
  {
   "cell_type": "code",
   "execution_count": 10,
   "id": "2e03b4c4",
   "metadata": {
    "execution": {
     "iopub.execute_input": "2022-02-14T21:08:39.253804Z",
     "iopub.status.busy": "2022-02-14T21:08:39.252934Z",
     "iopub.status.idle": "2022-02-14T21:08:39.255929Z",
     "shell.execute_reply": "2022-02-14T21:08:39.255382Z",
     "shell.execute_reply.started": "2021-11-19T20:17:58.795568Z"
    },
    "papermill": {
     "duration": 0.020993,
     "end_time": "2022-02-14T21:08:39.256065",
     "exception": false,
     "start_time": "2022-02-14T21:08:39.235072",
     "status": "completed"
    },
    "tags": []
   },
   "outputs": [],
   "source": [
    "# check file count \n",
    "# from glob import glob\n",
    "# f=sorted( glob('../input/icbhi-extraction-v2/*npy') )\n",
    "# print( len(f), len(class_list) )\n",
    "\n",
    "    "
   ]
  },
  {
   "cell_type": "code",
   "execution_count": 11,
   "id": "abd7fced",
   "metadata": {
    "execution": {
     "iopub.execute_input": "2022-02-14T21:08:39.289900Z",
     "iopub.status.busy": "2022-02-14T21:08:39.288950Z",
     "iopub.status.idle": "2022-02-14T21:08:39.291700Z",
     "shell.execute_reply": "2022-02-14T21:08:39.291183Z"
    },
    "papermill": {
     "duration": 0.021096,
     "end_time": "2022-02-14T21:08:39.291846",
     "exception": false,
     "start_time": "2022-02-14T21:08:39.270750",
     "status": "completed"
    },
    "tags": []
   },
   "outputs": [],
   "source": [
    "# directory = '../input/icbhi-extraction-v2/' \n",
    "# nsamples = len(class_list)\n",
    "# features = np.zeros( (1000, 536647) )\n",
    "# subset = np.zeros( 1000 ).astype(int)\n",
    "\n",
    "# inc=-1\n",
    "# for d in range( 0, nsamples, nsamples//100 ):\n",
    "#     try: # quick hack to read some        \n",
    "#         inc+=1 \n",
    "#         subset[inc] = class_list[d] \n",
    "#         print(inc, subset[inc], end=', ' )\n",
    "#         features[inc,:] = np.load(directory+ '%d_features.npy' % d )\n",
    "#     except:\n",
    "#         break\n"
   ]
  },
  {
   "cell_type": "code",
   "execution_count": 12,
   "id": "0100d784",
   "metadata": {
    "execution": {
     "iopub.execute_input": "2022-02-14T21:08:39.323367Z",
     "iopub.status.busy": "2022-02-14T21:08:39.322791Z",
     "iopub.status.idle": "2022-02-14T21:08:39.325690Z",
     "shell.execute_reply": "2022-02-14T21:08:39.326198Z",
     "shell.execute_reply.started": "2021-11-19T20:17:35.176818Z"
    },
    "papermill": {
     "duration": 0.0203,
     "end_time": "2022-02-14T21:08:39.326358",
     "exception": false,
     "start_time": "2022-02-14T21:08:39.306058",
     "status": "completed"
    },
    "tags": []
   },
   "outputs": [],
   "source": [
    "# plt.plot(subset, 'r')"
   ]
  },
  {
   "cell_type": "code",
   "execution_count": 13,
   "id": "fb16c043",
   "metadata": {
    "execution": {
     "iopub.execute_input": "2022-02-14T21:08:39.358607Z",
     "iopub.status.busy": "2022-02-14T21:08:39.357973Z",
     "iopub.status.idle": "2022-02-14T21:08:39.360398Z",
     "shell.execute_reply": "2022-02-14T21:08:39.360967Z",
     "shell.execute_reply.started": "2021-11-19T20:17:35.178567Z"
    },
    "papermill": {
     "duration": 0.020521,
     "end_time": "2022-02-14T21:08:39.361128",
     "exception": false,
     "start_time": "2022-02-14T21:08:39.340607",
     "status": "completed"
    },
    "tags": []
   },
   "outputs": [],
   "source": [
    "# plt.plot( features[0,529925: ] );"
   ]
  },
  {
   "cell_type": "code",
   "execution_count": 14,
   "id": "54975d66",
   "metadata": {
    "execution": {
     "iopub.execute_input": "2022-02-14T21:08:39.393193Z",
     "iopub.status.busy": "2022-02-14T21:08:39.392592Z",
     "iopub.status.idle": "2022-02-14T21:08:39.395396Z",
     "shell.execute_reply": "2022-02-14T21:08:39.395966Z",
     "shell.execute_reply.started": "2021-11-19T20:17:35.180655Z"
    },
    "papermill": {
     "duration": 0.020667,
     "end_time": "2022-02-14T21:08:39.396126",
     "exception": false,
     "start_time": "2022-02-14T21:08:39.375459",
     "status": "completed"
    },
    "tags": []
   },
   "outputs": [],
   "source": [
    "# plt.plot( features[21,529925: ] );\n"
   ]
  },
  {
   "cell_type": "code",
   "execution_count": 15,
   "id": "121c773a",
   "metadata": {
    "execution": {
     "iopub.execute_input": "2022-02-14T21:08:39.427859Z",
     "iopub.status.busy": "2022-02-14T21:08:39.427291Z",
     "iopub.status.idle": "2022-02-14T21:09:35.934185Z",
     "shell.execute_reply": "2022-02-14T21:09:35.934742Z",
     "shell.execute_reply.started": "2022-02-14T21:06:23.932101Z"
    },
    "papermill": {
     "duration": 56.524364,
     "end_time": "2022-02-14T21:09:35.934918",
     "exception": false,
     "start_time": "2022-02-14T21:08:39.410554",
     "status": "completed"
    },
    "tags": []
   },
   "outputs": [
    {
     "name": "stdout",
     "output_type": "stream",
     "text": [
      "saved\n",
      "done\n"
     ]
    }
   ],
   "source": [
    "if os.path.exists('../input/icbhi-extraction-v4/0_features.npy'):\n",
    "    print('loaded')\n",
    "    features = load_all_files('../input/icbhi-extraction-v4')\n",
    "else:\n",
    "    print('saved')\n",
    "    save_extraction(prepro_slices)"
   ]
  },
  {
   "cell_type": "code",
   "execution_count": 16,
   "id": "49460677",
   "metadata": {
    "execution": {
     "iopub.execute_input": "2022-02-14T21:09:35.969231Z",
     "iopub.status.busy": "2022-02-14T21:09:35.968605Z",
     "iopub.status.idle": "2022-02-14T21:09:35.970418Z",
     "shell.execute_reply": "2022-02-14T21:09:35.970904Z",
     "shell.execute_reply.started": "2021-11-19T20:17:35.183922Z"
    },
    "papermill": {
     "duration": 0.021406,
     "end_time": "2022-02-14T21:09:35.971077",
     "exception": false,
     "start_time": "2022-02-14T21:09:35.949671",
     "status": "completed"
    },
    "tags": []
   },
   "outputs": [],
   "source": [
    "# n = len(class_list)"
   ]
  },
  {
   "cell_type": "code",
   "execution_count": 17,
   "id": "5afc7fde",
   "metadata": {
    "execution": {
     "iopub.execute_input": "2022-02-14T21:09:36.004000Z",
     "iopub.status.busy": "2022-02-14T21:09:36.003375Z",
     "iopub.status.idle": "2022-02-14T21:09:36.006118Z",
     "shell.execute_reply": "2022-02-14T21:09:36.006533Z",
     "shell.execute_reply.started": "2021-11-19T20:17:35.185399Z"
    },
    "papermill": {
     "duration": 0.02076,
     "end_time": "2022-02-14T21:09:36.006707",
     "exception": false,
     "start_time": "2022-02-14T21:09:35.985947",
     "status": "completed"
    },
    "tags": []
   },
   "outputs": [],
   "source": [
    "# ordered_classes = np.zeros(n).astype(int)\n",
    "# for i, key in enumerate(features.keys()):\n",
    "#     index = int(key.split('_')[0])\n",
    "#     ordered_classes[i] = class_list[index]\n",
    "# ordered_classes"
   ]
  },
  {
   "cell_type": "code",
   "execution_count": 18,
   "id": "4eb8ca77",
   "metadata": {
    "execution": {
     "iopub.execute_input": "2022-02-14T21:09:36.039596Z",
     "iopub.status.busy": "2022-02-14T21:09:36.038982Z",
     "iopub.status.idle": "2022-02-14T21:09:36.041701Z",
     "shell.execute_reply": "2022-02-14T21:09:36.042186Z",
     "shell.execute_reply.started": "2021-11-19T20:17:35.187224Z"
    },
    "papermill": {
     "duration": 0.020688,
     "end_time": "2022-02-14T21:09:36.042360",
     "exception": false,
     "start_time": "2022-02-14T21:09:36.021672",
     "status": "completed"
    },
    "tags": []
   },
   "outputs": [],
   "source": [
    "# features = list(features.values())"
   ]
  }
 ],
 "metadata": {
  "kernelspec": {
   "display_name": "Python 3",
   "language": "python",
   "name": "python3"
  },
  "language_info": {
   "codemirror_mode": {
    "name": "ipython",
    "version": 3
   },
   "file_extension": ".py",
   "mimetype": "text/x-python",
   "name": "python",
   "nbconvert_exporter": "python",
   "pygments_lexer": "ipython3",
   "version": "3.7.10"
  },
  "papermill": {
   "default_parameters": {},
   "duration": 107.551677,
   "end_time": "2022-02-14T21:09:38.719943",
   "environment_variables": {},
   "exception": null,
   "input_path": "__notebook__.ipynb",
   "output_path": "__notebook__.ipynb",
   "parameters": {},
   "start_time": "2022-02-14T21:07:51.168266",
   "version": "2.3.3"
  }
 },
 "nbformat": 4,
 "nbformat_minor": 5
}
