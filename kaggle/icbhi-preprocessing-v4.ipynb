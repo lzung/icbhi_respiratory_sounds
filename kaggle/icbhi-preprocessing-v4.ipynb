{
 "cells": [
  {
   "cell_type": "markdown",
   "id": "852d2b28",
   "metadata": {
    "papermill": {
     "duration": 0.020928,
     "end_time": "2022-02-14T20:10:22.246661",
     "exception": false,
     "start_time": "2022-02-14T20:10:22.225733",
     "status": "completed"
    },
    "tags": []
   },
   "source": [
    "## Import google-colab and respiratory-sound-database data before running"
   ]
  },
  {
   "cell_type": "markdown",
   "id": "f975fcae",
   "metadata": {
    "papermill": {
     "duration": 0.021823,
     "end_time": "2022-02-14T20:10:22.288771",
     "exception": false,
     "start_time": "2022-02-14T20:10:22.266948",
     "status": "completed"
    },
    "tags": []
   },
   "source": [
    "LT-2021-11-07: Shared google-colab and contents (```*mat```) with collaborator"
   ]
  },
  {
   "cell_type": "markdown",
   "id": "66dd1bad",
   "metadata": {
    "papermill": {
     "duration": 0.019739,
     "end_time": "2022-02-14T20:10:22.327976",
     "exception": false,
     "start_time": "2022-02-14T20:10:22.308237",
     "status": "completed"
    },
    "tags": []
   },
   "source": [
    "# Libraries"
   ]
  },
  {
   "cell_type": "code",
   "execution_count": 1,
   "id": "415dd46b",
   "metadata": {
    "execution": {
     "iopub.execute_input": "2022-02-14T20:10:22.389452Z",
     "iopub.status.busy": "2022-02-14T20:10:22.388712Z",
     "iopub.status.idle": "2022-02-14T20:10:48.292007Z",
     "shell.execute_reply": "2022-02-14T20:10:48.292548Z",
     "shell.execute_reply.started": "2022-02-14T19:06:23.202561Z"
    },
    "papermill": {
     "duration": 25.944958,
     "end_time": "2022-02-14T20:10:48.292892",
     "exception": false,
     "start_time": "2022-02-14T20:10:22.347934",
     "status": "completed"
    },
    "tags": []
   },
   "outputs": [
    {
     "name": "stdout",
     "output_type": "stream",
     "text": [
      "Importing done\n"
     ]
    }
   ],
   "source": [
    "import numpy as np\n",
    "import matplotlib.pyplot as plt\n",
    "import matplotlib.patches as mpatches\n",
    "import matplotlib.cm as cm\n",
    "import pandas as pd\n",
    "\n",
    "# Not immediately usable with this dataset as files contain 24-bit data\n",
    "from scipy.io import wavfile\n",
    "from scipy.io.wavfile import read, write\n",
    "\n",
    "import IPython.display as ipd\n",
    "from IPython.display import Audio\n",
    "from numpy.fft import fft, ifft\n",
    "from glob import glob\n",
    "\n",
    "import librosa as lr\n",
    "import librosa.display\n",
    "\n",
    "import os\n",
    "import pickle\n",
    "\n",
    "import seaborn as sns\n",
    "\n",
    "from scipy import signal as sig\n",
    "from scipy.signal import butter, lfilter, sosfilt\n",
    "from tqdm import tqdm\n",
    "import pywt\n",
    "import random\n",
    "import skimage.data\n",
    "from skimage.restoration import denoise_wavelet\n",
    "from pywt import swt\n",
    "import time as tm\n",
    "\n",
    "# if ('pydub' in globals()) == False:\n",
    "#   !pip install pydub\n",
    "# from pydub import AudioSegment\n",
    "# from pydub.utils import make_chunks\n",
    "\n",
    "\n",
    "# LT-06-24: import io to save intermediate outputs; use \"as\" to shorten module.function name as \"spio\"\n",
    "import scipy.io as spio\n",
    "\n",
    "\n",
    "# LT-06-24: install modules if not found \n",
    "# if ( 'umap' in globals() ) == False: \n",
    "#   !pip install umap-learn\n",
    "\n",
    "import umap.umap_ as umap\n",
    "\n",
    "import sklearn\n",
    "from sklearn.model_selection import train_test_split\n",
    "from sklearn.preprocessing import StandardScaler, minmax_scale\n",
    "from sklearn.neighbors import KNeighborsClassifier, NearestNeighbors\n",
    "from sklearn.dummy import DummyClassifier\n",
    "from sklearn.cluster import KMeans\n",
    "from sklearn.pipeline import Pipeline\n",
    "from sklearn.metrics import silhouette_samples, silhouette_score, classification_report, confusion_matrix, accuracy_score, plot_confusion_matrix\n",
    "\n",
    "print('Importing done')"
   ]
  },
  {
   "cell_type": "markdown",
   "id": "40d2f0a6",
   "metadata": {
    "papermill": {
     "duration": 0.020687,
     "end_time": "2022-02-14T20:10:48.335451",
     "exception": false,
     "start_time": "2022-02-14T20:10:48.314764",
     "status": "completed"
    },
    "tags": []
   },
   "source": [
    "# Root and Directory"
   ]
  },
  {
   "cell_type": "code",
   "execution_count": 2,
   "id": "690859cc",
   "metadata": {
    "execution": {
     "iopub.execute_input": "2022-02-14T20:10:48.386302Z",
     "iopub.status.busy": "2022-02-14T20:10:48.385558Z",
     "iopub.status.idle": "2022-02-14T20:10:48.842657Z",
     "shell.execute_reply": "2022-02-14T20:10:48.843238Z",
     "shell.execute_reply.started": "2022-02-14T19:06:44.946996Z"
    },
    "papermill": {
     "duration": 0.485996,
     "end_time": "2022-02-14T20:10:48.843430",
     "exception": false,
     "start_time": "2022-02-14T20:10:48.357434",
     "status": "completed"
    },
    "tags": []
   },
   "outputs": [],
   "source": [
    "root = '../input/respiratory-sound-database/Respiratory_Sound_Database/Respiratory_Sound_Database/audio_and_txt_files/'\n",
    "outdir = '/kaggle/working/'\n",
    "\n",
    "# Extract text filenames\n",
    "textnames = [s.split('.')[0] for s in os.listdir(path = root) if '.txt' in s]\n",
    "\n",
    "# Extract audio filenames\n",
    "filenames = [s.split('.')[0] for s in os.listdir(path = root) if '.wav' in s]\n",
    "\n",
    "textnames = sorted(textnames)\n",
    "filenames = sorted(filenames)"
   ]
  },
  {
   "cell_type": "markdown",
   "id": "76e6b20b",
   "metadata": {
    "papermill": {
     "duration": 0.019818,
     "end_time": "2022-02-14T20:10:48.884040",
     "exception": false,
     "start_time": "2022-02-14T20:10:48.864222",
     "status": "completed"
    },
    "tags": []
   },
   "source": [
    "# Information & Annotations"
   ]
  },
  {
   "cell_type": "code",
   "execution_count": 3,
   "id": "b83a354e",
   "metadata": {
    "execution": {
     "iopub.execute_input": "2022-02-14T20:10:48.928690Z",
     "iopub.status.busy": "2022-02-14T20:10:48.927608Z",
     "iopub.status.idle": "2022-02-14T20:11:01.912556Z",
     "shell.execute_reply": "2022-02-14T20:11:01.913097Z",
     "shell.execute_reply.started": "2022-02-14T19:06:45.365993Z"
    },
    "papermill": {
     "duration": 13.009188,
     "end_time": "2022-02-14T20:11:01.913291",
     "exception": false,
     "start_time": "2022-02-14T20:10:48.904103",
     "status": "completed"
    },
    "tags": []
   },
   "outputs": [
    {
     "data": {
      "text/html": [
       "<div>\n",
       "<style scoped>\n",
       "    .dataframe tbody tr th:only-of-type {\n",
       "        vertical-align: middle;\n",
       "    }\n",
       "\n",
       "    .dataframe tbody tr th {\n",
       "        vertical-align: top;\n",
       "    }\n",
       "\n",
       "    .dataframe thead th {\n",
       "        text-align: right;\n",
       "    }\n",
       "</style>\n",
       "<table border=\"1\" class=\"dataframe\">\n",
       "  <thead>\n",
       "    <tr style=\"text-align: right;\">\n",
       "      <th></th>\n",
       "      <th>Subject ID</th>\n",
       "      <th>Diagnosis</th>\n",
       "      <th>Start</th>\n",
       "      <th>End</th>\n",
       "      <th>Crackles</th>\n",
       "      <th>Wheezes</th>\n",
       "      <th>Chest Location</th>\n",
       "      <th>Mode</th>\n",
       "      <th>Equipment</th>\n",
       "      <th>Filename</th>\n",
       "    </tr>\n",
       "  </thead>\n",
       "  <tbody>\n",
       "    <tr>\n",
       "      <th>0</th>\n",
       "      <td>101</td>\n",
       "      <td>URTI</td>\n",
       "      <td>0.036</td>\n",
       "      <td>0.579</td>\n",
       "      <td>0</td>\n",
       "      <td>0</td>\n",
       "      <td>Al</td>\n",
       "      <td>sc</td>\n",
       "      <td>Meditron</td>\n",
       "      <td>101_1b1_Al_sc_Meditron</td>\n",
       "    </tr>\n",
       "    <tr>\n",
       "      <th>1</th>\n",
       "      <td>101</td>\n",
       "      <td>URTI</td>\n",
       "      <td>0.579</td>\n",
       "      <td>2.450</td>\n",
       "      <td>0</td>\n",
       "      <td>0</td>\n",
       "      <td>Al</td>\n",
       "      <td>sc</td>\n",
       "      <td>Meditron</td>\n",
       "      <td>101_1b1_Al_sc_Meditron</td>\n",
       "    </tr>\n",
       "    <tr>\n",
       "      <th>2</th>\n",
       "      <td>101</td>\n",
       "      <td>URTI</td>\n",
       "      <td>2.450</td>\n",
       "      <td>3.893</td>\n",
       "      <td>0</td>\n",
       "      <td>0</td>\n",
       "      <td>Al</td>\n",
       "      <td>sc</td>\n",
       "      <td>Meditron</td>\n",
       "      <td>101_1b1_Al_sc_Meditron</td>\n",
       "    </tr>\n",
       "    <tr>\n",
       "      <th>3</th>\n",
       "      <td>101</td>\n",
       "      <td>URTI</td>\n",
       "      <td>3.893</td>\n",
       "      <td>5.793</td>\n",
       "      <td>0</td>\n",
       "      <td>0</td>\n",
       "      <td>Al</td>\n",
       "      <td>sc</td>\n",
       "      <td>Meditron</td>\n",
       "      <td>101_1b1_Al_sc_Meditron</td>\n",
       "    </tr>\n",
       "    <tr>\n",
       "      <th>4</th>\n",
       "      <td>101</td>\n",
       "      <td>URTI</td>\n",
       "      <td>5.793</td>\n",
       "      <td>7.521</td>\n",
       "      <td>0</td>\n",
       "      <td>0</td>\n",
       "      <td>Al</td>\n",
       "      <td>sc</td>\n",
       "      <td>Meditron</td>\n",
       "      <td>101_1b1_Al_sc_Meditron</td>\n",
       "    </tr>\n",
       "  </tbody>\n",
       "</table>\n",
       "</div>"
      ],
      "text/plain": [
       "   Subject ID Diagnosis  Start    End  Crackles  Wheezes Chest Location Mode  \\\n",
       "0         101      URTI  0.036  0.579         0        0             Al   sc   \n",
       "1         101      URTI  0.579  2.450         0        0             Al   sc   \n",
       "2         101      URTI  2.450  3.893         0        0             Al   sc   \n",
       "3         101      URTI  3.893  5.793         0        0             Al   sc   \n",
       "4         101      URTI  5.793  7.521         0        0             Al   sc   \n",
       "\n",
       "  Equipment                Filename  \n",
       "0  Meditron  101_1b1_Al_sc_Meditron  \n",
       "1  Meditron  101_1b1_Al_sc_Meditron  \n",
       "2  Meditron  101_1b1_Al_sc_Meditron  \n",
       "3  Meditron  101_1b1_Al_sc_Meditron  \n",
       "4  Meditron  101_1b1_Al_sc_Meditron  "
      ]
     },
     "execution_count": 3,
     "metadata": {},
     "output_type": "execute_result"
    }
   ],
   "source": [
    "diag_df = pd.read_csv('../input/respiratory-sound-database/Respiratory_Sound_Database/Respiratory_Sound_Database/patient_diagnosis.csv', \n",
    "                      delimiter=',',\n",
    "                      names=['Subject ID', 'Diagnosis'], \n",
    "                      header=None)\n",
    "\n",
    "# Extract file annotation information (start & end of crackles)\n",
    "def extract_file(filename, root):\n",
    "    tokens = filename.split('_')\n",
    "    recording_annotations = pd.read_csv(os.path.join(root, filename + '.txt'), names = ['Start', 'End', 'Crackles', 'Wheezes'], delimiter= '\\t')\n",
    "    return recording_annotations\n",
    "\n",
    "# Information about each file with annotations from each file\n",
    "def combine_anno_info(names, root):\n",
    "  information = []\n",
    "  for file in names:\n",
    "    anno = extract_file(file, root)\n",
    "    name_data = file.split('_')\n",
    "    anno['Subject ID'] = name_data[0]\n",
    "    anno['Chest Location'] = name_data[2]\n",
    "    anno['Mode'] = name_data[3]\n",
    "    anno['Equipment'] = name_data[4]\n",
    "    anno['Filename'] = file\n",
    "    information.append(anno)\n",
    "  return information\n",
    "\n",
    "anno_info = combine_anno_info(textnames, root)\n",
    "anno_df = pd.concat(anno_info, ignore_index=True)\n",
    "\n",
    "# Merge diag_df with anno_df on Subject ID\n",
    "diag_df['Subject ID'] = diag_df['Subject ID'].astype('int32')\n",
    "anno_df['Subject ID'] = anno_df['Subject ID'].astype('int32')\n",
    "sub_anno_df = pd.merge(diag_df, anno_df, on='Subject ID')\n",
    "sub_anno_df.head()"
   ]
  },
  {
   "cell_type": "code",
   "execution_count": 4,
   "id": "f5564b59",
   "metadata": {
    "execution": {
     "iopub.execute_input": "2022-02-14T20:11:01.965910Z",
     "iopub.status.busy": "2022-02-14T20:11:01.964805Z",
     "iopub.status.idle": "2022-02-14T20:11:01.968202Z",
     "shell.execute_reply": "2022-02-14T20:11:01.967335Z",
     "shell.execute_reply.started": "2021-11-26T18:35:12.191018Z"
    },
    "papermill": {
     "duration": 0.031518,
     "end_time": "2022-02-14T20:11:01.968372",
     "exception": false,
     "start_time": "2022-02-14T20:11:01.936854",
     "status": "completed"
    },
    "tags": []
   },
   "outputs": [],
   "source": [
    "# Get waveforms\n",
    "def signal_and_sr(filename, root):\n",
    "    name = root + filename + '.wav'\n",
    "    signal, sr = lr.load(name, sr=None)\n",
    "    return signal, sr\n",
    "\n",
    "def waveforms(files, root):\n",
    "  signals = []\n",
    "  srs = []\n",
    "  for name in files:\n",
    "    (sig, sr) = signal_and_sr(name, root) # signal is an array with (sr * duration) values\n",
    "    # if (len(sig) % 2) == 0: # signal array must be an even number of values for MODWT\n",
    "    signals.append(sig)\n",
    "    srs.append(sr)\n",
    "  return signals, srs"
   ]
  },
  {
   "cell_type": "code",
   "execution_count": 5,
   "id": "be173b2b",
   "metadata": {
    "execution": {
     "iopub.execute_input": "2022-02-14T20:11:02.019796Z",
     "iopub.status.busy": "2022-02-14T20:11:02.019071Z",
     "iopub.status.idle": "2022-02-14T20:11:32.162010Z",
     "shell.execute_reply": "2022-02-14T20:11:32.163157Z",
     "shell.execute_reply.started": "2022-02-14T19:11:21.582976Z"
    },
    "papermill": {
     "duration": 30.173276,
     "end_time": "2022-02-14T20:11:32.163677",
     "exception": false,
     "start_time": "2022-02-14T20:11:01.990401",
     "status": "completed"
    },
    "tags": []
   },
   "outputs": [],
   "source": [
    "sig_mat = spio.loadmat('../input/google-colab/signals.mat', squeeze_me=True)\n",
    "\n",
    "signals = sig_mat['signals']\n",
    "srs = sig_mat['srs']"
   ]
  },
  {
   "cell_type": "markdown",
   "id": "ded556b7",
   "metadata": {
    "papermill": {
     "duration": 0.020306,
     "end_time": "2022-02-14T20:11:32.208067",
     "exception": false,
     "start_time": "2022-02-14T20:11:32.187761",
     "status": "completed"
    },
    "tags": []
   },
   "source": [
    "# Slicing"
   ]
  },
  {
   "cell_type": "code",
   "execution_count": 6,
   "id": "24dfa2a2",
   "metadata": {
    "execution": {
     "iopub.execute_input": "2022-02-14T20:11:32.254415Z",
     "iopub.status.busy": "2022-02-14T20:11:32.253680Z",
     "iopub.status.idle": "2022-02-14T20:11:32.263684Z",
     "shell.execute_reply": "2022-02-14T20:11:32.263064Z",
     "shell.execute_reply.started": "2022-02-14T19:33:41.620210Z"
    },
    "papermill": {
     "duration": 0.035109,
     "end_time": "2022-02-14T20:11:32.263838",
     "exception": false,
     "start_time": "2022-02-14T20:11:32.228729",
     "status": "completed"
    },
    "tags": []
   },
   "outputs": [],
   "source": [
    "def audio_slice(signals, files, srs, timestamp_df):\n",
    "  \"\"\"\n",
    "  segments the extracted audio signals using timestamp annotations\n",
    "  \"\"\"\n",
    "  slices = []\n",
    "  for i, s in enumerate(signals):\n",
    "    filenames = timestamp_df.loc[timestamp_df['Filename'] == files[i]]\n",
    "    \n",
    "    for j, row in filenames.iterrows():\n",
    "      start = row['Start']\n",
    "      end = row['End']\n",
    "      audio_seg = slice_signal(start, end, s, srs[i])\n",
    "      slices.append(audio_seg)\n",
    "    return slices\n",
    "\n",
    "def slice_signal(start, end, signal, sr):\n",
    "    max_index = len(signal)\n",
    "    start_index = min(int(round(start * sr)), max_index)\n",
    "    end_index = min(int(round(end * sr)), max_index)\n",
    "    return signal[start_index:end_index]"
   ]
  },
  {
   "cell_type": "code",
   "execution_count": 7,
   "id": "1fdf5f13",
   "metadata": {
    "execution": {
     "iopub.execute_input": "2022-02-14T20:11:32.311135Z",
     "iopub.status.busy": "2022-02-14T20:11:32.310390Z",
     "iopub.status.idle": "2022-02-14T20:11:57.343779Z",
     "shell.execute_reply": "2022-02-14T20:11:57.342972Z",
     "shell.execute_reply.started": "2022-02-14T19:08:02.976543Z"
    },
    "papermill": {
     "duration": 25.05892,
     "end_time": "2022-02-14T20:11:57.343959",
     "exception": false,
     "start_time": "2022-02-14T20:11:32.285039",
     "status": "completed"
    },
    "tags": []
   },
   "outputs": [],
   "source": [
    "slice_mat = spio.loadmat('../input/google-colab/slices.mat', squeeze_me=True)\n",
    "slices = slice_mat['slices']"
   ]
  },
  {
   "cell_type": "code",
   "execution_count": 8,
   "id": "09fa19f1",
   "metadata": {
    "execution": {
     "iopub.execute_input": "2022-02-14T20:11:57.393768Z",
     "iopub.status.busy": "2022-02-14T20:11:57.388950Z",
     "iopub.status.idle": "2022-02-14T20:11:57.396185Z",
     "shell.execute_reply": "2022-02-14T20:11:57.396700Z",
     "shell.execute_reply.started": "2022-02-14T19:14:26.089211Z"
    },
    "papermill": {
     "duration": 0.031917,
     "end_time": "2022-02-14T20:11:57.396894",
     "exception": false,
     "start_time": "2022-02-14T20:11:57.364977",
     "status": "completed"
    },
    "tags": []
   },
   "outputs": [],
   "source": [
    "def slice_df(filenames, timestamp_df):\n",
    "  \"\"\"\n",
    "  compiles the slice names and diagnosis labels into one dataframe\n",
    "  \"\"\"\n",
    "  names = []\n",
    "  diagnoses = []\n",
    "  for i, name in enumerate(filenames):\n",
    "    files = timestamp_df.loc[timestamp_df['Filename'] == name]\n",
    "    \n",
    "    for i, row in files.iterrows():\n",
    "      diagnoses.append(row['Diagnosis'])\n",
    "      names.append(name + \"_\" + str(i))\n",
    "  return pd.DataFrame(data = {'Slice Name': names, 'Diagnosis': diagnoses})"
   ]
  },
  {
   "cell_type": "code",
   "execution_count": 9,
   "id": "7a3ef8ac",
   "metadata": {
    "execution": {
     "iopub.execute_input": "2022-02-14T20:11:57.453288Z",
     "iopub.status.busy": "2022-02-14T20:11:57.451974Z",
     "iopub.status.idle": "2022-02-14T20:11:59.541664Z",
     "shell.execute_reply": "2022-02-14T20:11:59.541034Z",
     "shell.execute_reply.started": "2022-02-14T19:14:27.230460Z"
    },
    "papermill": {
     "duration": 2.122215,
     "end_time": "2022-02-14T20:11:59.541830",
     "exception": false,
     "start_time": "2022-02-14T20:11:57.419615",
     "status": "completed"
    },
    "tags": []
   },
   "outputs": [
    {
     "data": {
      "text/html": [
       "<div>\n",
       "<style scoped>\n",
       "    .dataframe tbody tr th:only-of-type {\n",
       "        vertical-align: middle;\n",
       "    }\n",
       "\n",
       "    .dataframe tbody tr th {\n",
       "        vertical-align: top;\n",
       "    }\n",
       "\n",
       "    .dataframe thead th {\n",
       "        text-align: right;\n",
       "    }\n",
       "</style>\n",
       "<table border=\"1\" class=\"dataframe\">\n",
       "  <thead>\n",
       "    <tr style=\"text-align: right;\">\n",
       "      <th></th>\n",
       "      <th>Slice Name</th>\n",
       "      <th>Diagnosis</th>\n",
       "    </tr>\n",
       "  </thead>\n",
       "  <tbody>\n",
       "    <tr>\n",
       "      <th>6893</th>\n",
       "      <td>226_1b1_Pl_sc_LittC2SE_6893</td>\n",
       "      <td>Pneumonia</td>\n",
       "    </tr>\n",
       "    <tr>\n",
       "      <th>6894</th>\n",
       "      <td>226_1b1_Pl_sc_LittC2SE_6894</td>\n",
       "      <td>Pneumonia</td>\n",
       "    </tr>\n",
       "    <tr>\n",
       "      <th>6895</th>\n",
       "      <td>226_1b1_Pl_sc_LittC2SE_6895</td>\n",
       "      <td>Pneumonia</td>\n",
       "    </tr>\n",
       "    <tr>\n",
       "      <th>6896</th>\n",
       "      <td>226_1b1_Pl_sc_LittC2SE_6896</td>\n",
       "      <td>Pneumonia</td>\n",
       "    </tr>\n",
       "    <tr>\n",
       "      <th>6897</th>\n",
       "      <td>226_1b1_Pl_sc_LittC2SE_6897</td>\n",
       "      <td>Pneumonia</td>\n",
       "    </tr>\n",
       "  </tbody>\n",
       "</table>\n",
       "</div>"
      ],
      "text/plain": [
       "                       Slice Name  Diagnosis\n",
       "6893  226_1b1_Pl_sc_LittC2SE_6893  Pneumonia\n",
       "6894  226_1b1_Pl_sc_LittC2SE_6894  Pneumonia\n",
       "6895  226_1b1_Pl_sc_LittC2SE_6895  Pneumonia\n",
       "6896  226_1b1_Pl_sc_LittC2SE_6896  Pneumonia\n",
       "6897  226_1b1_Pl_sc_LittC2SE_6897  Pneumonia"
      ]
     },
     "execution_count": 9,
     "metadata": {},
     "output_type": "execute_result"
    }
   ],
   "source": [
    "slice_anno_df = slice_df(filenames, sub_anno_df)\n",
    "slicenames = slice_anno_df['Slice Name'].tolist()\n",
    "slice_anno_df.tail()"
   ]
  },
  {
   "cell_type": "code",
   "execution_count": 10,
   "id": "a9187915",
   "metadata": {
    "execution": {
     "iopub.execute_input": "2022-02-14T20:11:59.592170Z",
     "iopub.status.busy": "2022-02-14T20:11:59.591411Z",
     "iopub.status.idle": "2022-02-14T20:11:59.595198Z",
     "shell.execute_reply": "2022-02-14T20:11:59.594559Z",
     "shell.execute_reply.started": "2022-02-14T19:08:28.869321Z"
    },
    "papermill": {
     "duration": 0.031572,
     "end_time": "2022-02-14T20:11:59.595350",
     "exception": false,
     "start_time": "2022-02-14T20:11:59.563778",
     "status": "completed"
    },
    "tags": []
   },
   "outputs": [],
   "source": [
    "def slice_rates(timestamp_df, filenames, srs):\n",
    "    \"\"\"\n",
    "    produces list of sample rates for all slices from audio files\n",
    "    \"\"\"\n",
    "    slice_srs = []\n",
    "    for i, name in enumerate(filenames):\n",
    "        n_slices = len(timestamp_df[timestamp_df['Filename'] == name])\n",
    "        slice_srs.extend([srs[i]] * n_slices)\n",
    "    return slice_srs"
   ]
  },
  {
   "cell_type": "code",
   "execution_count": 11,
   "id": "9ba8877d",
   "metadata": {
    "execution": {
     "iopub.execute_input": "2022-02-14T20:11:59.646387Z",
     "iopub.status.busy": "2022-02-14T20:11:59.645667Z",
     "iopub.status.idle": "2022-02-14T20:11:59.663255Z",
     "shell.execute_reply": "2022-02-14T20:11:59.662540Z",
     "shell.execute_reply.started": "2022-02-14T19:11:47.901192Z"
    },
    "papermill": {
     "duration": 0.045495,
     "end_time": "2022-02-14T20:11:59.663404",
     "exception": false,
     "start_time": "2022-02-14T20:11:59.617909",
     "status": "completed"
    },
    "tags": []
   },
   "outputs": [
    {
     "name": "stdout",
     "output_type": "stream",
     "text": [
      "loaded\n"
     ]
    },
    {
     "data": {
      "text/plain": [
       "{4000, 10000, 44100}"
      ]
     },
     "execution_count": 11,
     "metadata": {},
     "output_type": "execute_result"
    }
   ],
   "source": [
    "try:\n",
    "    slice_srs = np.load(\"../input/icbhi-preprocessing-v3/slice_srs.npy\")\n",
    "    print('loaded')\n",
    "except:\n",
    "    slice_srs = slice_rates(sub_anno_df, filenames, srs)\n",
    "    np.save(\"slice_srs.npy\", slice_srs)\n",
    "\n",
    "set(slice_srs)"
   ]
  },
  {
   "cell_type": "markdown",
   "id": "019686a2",
   "metadata": {
    "papermill": {
     "duration": 0.022379,
     "end_time": "2022-02-14T20:11:59.709341",
     "exception": false,
     "start_time": "2022-02-14T20:11:59.686962",
     "status": "completed"
    },
    "tags": []
   },
   "source": [
    "# Classes"
   ]
  },
  {
   "cell_type": "code",
   "execution_count": 12,
   "id": "197a4860",
   "metadata": {
    "execution": {
     "iopub.execute_input": "2022-02-14T20:11:59.761094Z",
     "iopub.status.busy": "2022-02-14T20:11:59.758006Z",
     "iopub.status.idle": "2022-02-14T20:11:59.766892Z",
     "shell.execute_reply": "2022-02-14T20:11:59.767448Z",
     "shell.execute_reply.started": "2022-02-14T19:23:33.325619Z"
    },
    "papermill": {
     "duration": 0.035897,
     "end_time": "2022-02-14T20:11:59.767632",
     "exception": false,
     "start_time": "2022-02-14T20:11:59.731735",
     "status": "completed"
    },
    "tags": []
   },
   "outputs": [
    {
     "data": {
      "text/plain": [
       "{'URTI': 0,\n",
       " 'Healthy': 1,\n",
       " 'Asthma': 2,\n",
       " 'COPD': 3,\n",
       " 'LRTI': 4,\n",
       " 'Bronchiectasis': 5,\n",
       " 'Pneumonia': 6,\n",
       " 'Bronchiolitis': 7}"
      ]
     },
     "execution_count": 12,
     "metadata": {},
     "output_type": "execute_result"
    }
   ],
   "source": [
    "diagnoses = sub_anno_df['Diagnosis'].unique()\n",
    "nums = np.arange(0,8)\n",
    "diag_dict = dict(zip(diagnoses, nums))\n",
    "diag_dict"
   ]
  },
  {
   "cell_type": "code",
   "execution_count": 13,
   "id": "3699e33e",
   "metadata": {
    "execution": {
     "iopub.execute_input": "2022-02-14T20:11:59.816240Z",
     "iopub.status.busy": "2022-02-14T20:11:59.815493Z",
     "iopub.status.idle": "2022-02-14T20:11:59.819797Z",
     "shell.execute_reply": "2022-02-14T20:11:59.820456Z",
     "shell.execute_reply.started": "2022-02-14T19:31:27.647394Z"
    },
    "papermill": {
     "duration": 0.030945,
     "end_time": "2022-02-14T20:11:59.820637",
     "exception": false,
     "start_time": "2022-02-14T20:11:59.789692",
     "status": "completed"
    },
    "tags": []
   },
   "outputs": [],
   "source": [
    "def slice_classes(names, slice_df):\n",
    "    classes = []\n",
    "    for i, row in slice_df.iterrows():\n",
    "        classes.append(diag_dict[row['Diagnosis']])\n",
    "    return np.array(classes)"
   ]
  },
  {
   "cell_type": "code",
   "execution_count": 14,
   "id": "8b40dc05",
   "metadata": {
    "execution": {
     "iopub.execute_input": "2022-02-14T20:11:59.895419Z",
     "iopub.status.busy": "2022-02-14T20:11:59.889941Z",
     "iopub.status.idle": "2022-02-14T20:12:00.236095Z",
     "shell.execute_reply": "2022-02-14T20:12:00.237220Z",
     "shell.execute_reply.started": "2022-02-14T19:31:44.880946Z"
    },
    "papermill": {
     "duration": 0.392285,
     "end_time": "2022-02-14T20:12:00.237432",
     "exception": false,
     "start_time": "2022-02-14T20:11:59.845147",
     "status": "completed"
    },
    "tags": []
   },
   "outputs": [],
   "source": [
    "try:\n",
    "    class_list = np.load('../input/icbhi-preprocessing-v4/class_list.npy')\n",
    "except:\n",
    "    class_list = slice_classes(slicenames, slice_anno_df)\n",
    "    \n",
    "    np.save('class_list.npy', class_list)"
   ]
  },
  {
   "cell_type": "markdown",
   "id": "78722827",
   "metadata": {
    "papermill": {
     "duration": 0.023003,
     "end_time": "2022-02-14T20:12:00.284637",
     "exception": false,
     "start_time": "2022-02-14T20:12:00.261634",
     "status": "completed"
    },
    "tags": []
   },
   "source": [
    "# Preprocessing\n",
    "### Evaluation of features for classification of wheezes and normal respiratory sounds (Pramono et al., 2019)"
   ]
  },
  {
   "cell_type": "code",
   "execution_count": 15,
   "id": "abdb19de",
   "metadata": {
    "execution": {
     "iopub.execute_input": "2022-02-14T20:12:00.339698Z",
     "iopub.status.busy": "2022-02-14T20:12:00.338636Z",
     "iopub.status.idle": "2022-02-14T20:12:00.355053Z",
     "shell.execute_reply": "2022-02-14T20:12:00.355611Z",
     "shell.execute_reply.started": "2022-02-14T19:32:54.444756Z"
    },
    "papermill": {
     "duration": 0.046004,
     "end_time": "2022-02-14T20:12:00.355796",
     "exception": false,
     "start_time": "2022-02-14T20:12:00.309792",
     "status": "completed"
    },
    "tags": []
   },
   "outputs": [],
   "source": [
    "def preprocessing(samples, orig_srs, files, annotation_df, max_length=6, new_sr=8000, lowcut=150, highcut=2000, order=5):\n",
    "    \"\"\"\n",
    "    samples: NON-SLICED signals\n",
    "    orig_srs: sampling rates of each sample\n",
    "    files: filenames of samples\n",
    "    annotation_df: dataframe containing start and end times for each slice\n",
    "    \n",
    "    1) Partition and add zeros to slices so that they are the same length or reduce their length to the maximum length\n",
    "    2) Apply bandpass filters and resample to 8000Hz\n",
    "    3) Scale signal amplitudes to be between -1 and 1\n",
    "    \"\"\"\n",
    "    # Zero-padding\n",
    "    padded_slices = []\n",
    "    slice_srs = []\n",
    "    for i, signal in enumerate(samples):\n",
    "        filerows = annotation_df.loc[annotation_df['Filename'] == files[i]]\n",
    "    \n",
    "        for j, row in filerows.iterrows():\n",
    "            start = row['Start']\n",
    "            end = row['End']\n",
    "        \n",
    "            # If length > maximum length, change to maximum length\n",
    "            if (end - start) > max_length:\n",
    "                end = start + max_length\n",
    "        \n",
    "            s = slice_signal(start, end, signal, orig_srs[i])\n",
    "\n",
    "            # Note: librosa automatically converts audio to single channel (mono - 'sc') even if it is multi channel (stereo - 'mc')\n",
    "            required_length = max_length * orig_srs[i]\n",
    "            padded_slices.append(lr.util.pad_center(s, required_length))\n",
    "            slice_srs.append(orig_srs[i])\n",
    "    \n",
    "    # Bandpass filter & resample (technically should be resampling after filtering but this causes a bug...)\n",
    "    processed = np.zeros((len(padded_slices), (max_length*new_sr)))\n",
    "    for i, signal in enumerate(padded_slices):\n",
    "        resample = lr.resample(signal, slice_srs[i], new_sr)\n",
    "        y = butter_bandpass_filter(resample, lowcut, highcut, new_sr, order) # dataset contains more than one sr - 44100, 4000 and 10000; Pramono et al. recommend 8000Hz as respiratory sound information is bandlimited up to 2000Hz..?\n",
    "        processed[i, :len(y)] = y\n",
    "    \n",
    "    # Amplitude scaling to [-1, 1]\n",
    "    for i, signal in enumerate(processed):\n",
    "        peak = max(abs(signal))\n",
    "        dB = 0\n",
    "\n",
    "        amp_lin = 10**(dB/20)\n",
    "        z = amp_lin*(1/peak)*signal\n",
    "        \n",
    "        processed[i, :len(z)] = z\n",
    "        \n",
    "    return processed\n",
    "\n",
    "def butter_bandpass_filter(data, lowcut, highcut, sr, order):\n",
    "    sos = butter_bandpass(lowcut, highcut, sr, order=order)\n",
    "    y = sosfilt(sos, data)\n",
    "    return y\n",
    "    \n",
    "def butter_bandpass(lowcut, highcut, sr, order):\n",
    "    nyq = 0.5 * sr\n",
    "    low = lowcut / nyq\n",
    "    high = highcut / nyq\n",
    "    sos = butter(order, [low, high], analog=False, btype='band', output='sos')\n",
    "    return sos"
   ]
  },
  {
   "cell_type": "code",
   "execution_count": 16,
   "id": "f36537db",
   "metadata": {
    "execution": {
     "iopub.execute_input": "2022-02-14T20:12:00.410776Z",
     "iopub.status.busy": "2022-02-14T20:12:00.410049Z",
     "iopub.status.idle": "2022-02-14T20:40:39.044438Z",
     "shell.execute_reply": "2022-02-14T20:40:39.043409Z",
     "shell.execute_reply.started": "2022-02-14T19:33:46.047173Z"
    },
    "papermill": {
     "duration": 1718.666637,
     "end_time": "2022-02-14T20:40:39.044693",
     "exception": false,
     "start_time": "2022-02-14T20:12:00.378056",
     "status": "completed"
    },
    "tags": []
   },
   "outputs": [],
   "source": [
    "try:\n",
    "    prepro_slices = np.load(\"../input/icbhi-preprocessing-v4/prepro_slices.npy\")\n",
    "    print('loaded')\n",
    "except:\n",
    "    prepro_slices = preprocessing(signals, srs, filenames, sub_anno_df)\n",
    "    np.save(\"prepro_slices.npy\", prepro_slices)"
   ]
  },
  {
   "cell_type": "code",
   "execution_count": 17,
   "id": "65963f9e",
   "metadata": {
    "execution": {
     "iopub.execute_input": "2022-02-14T20:40:39.555270Z",
     "iopub.status.busy": "2022-02-14T20:40:39.553333Z",
     "iopub.status.idle": "2022-02-14T20:40:39.564402Z",
     "shell.execute_reply": "2022-02-14T20:40:39.564931Z",
     "shell.execute_reply.started": "2022-02-14T20:00:54.921924Z"
    },
    "papermill": {
     "duration": 0.436657,
     "end_time": "2022-02-14T20:40:39.565130",
     "exception": false,
     "start_time": "2022-02-14T20:40:39.128473",
     "status": "completed"
    },
    "tags": []
   },
   "outputs": [
    {
     "data": {
      "text/plain": [
       "6898"
      ]
     },
     "execution_count": 17,
     "metadata": {},
     "output_type": "execute_result"
    }
   ],
   "source": [
    "len(prepro_slices)"
   ]
  },
  {
   "cell_type": "code",
   "execution_count": 18,
   "id": "5672fe14",
   "metadata": {
    "execution": {
     "iopub.execute_input": "2022-02-14T20:40:39.877742Z",
     "iopub.status.busy": "2022-02-14T20:40:39.876672Z",
     "iopub.status.idle": "2022-02-14T20:40:40.257215Z",
     "shell.execute_reply": "2022-02-14T20:40:40.257855Z",
     "shell.execute_reply.started": "2022-02-14T20:00:54.930937Z"
    },
    "papermill": {
     "duration": 0.426647,
     "end_time": "2022-02-14T20:40:40.258069",
     "exception": false,
     "start_time": "2022-02-14T20:40:39.831422",
     "status": "completed"
    },
    "tags": []
   },
   "outputs": [
    {
     "data": {
      "text/plain": [
       "array([], shape=(0, 1), dtype=int64)"
      ]
     },
     "execution_count": 18,
     "metadata": {},
     "output_type": "execute_result"
    }
   ],
   "source": [
    "np.argwhere(np.isnan(prepro_slices).all(axis=1))"
   ]
  }
 ],
 "metadata": {
  "kernelspec": {
   "display_name": "Python 3",
   "language": "python",
   "name": "python3"
  },
  "language_info": {
   "codemirror_mode": {
    "name": "ipython",
    "version": 3
   },
   "file_extension": ".py",
   "mimetype": "text/x-python",
   "name": "python",
   "nbconvert_exporter": "python",
   "pygments_lexer": "ipython3",
   "version": "3.7.10"
  },
  "papermill": {
   "default_parameters": {},
   "duration": 1832.791533,
   "end_time": "2022-02-14T20:40:43.826660",
   "environment_variables": {},
   "exception": null,
   "input_path": "__notebook__.ipynb",
   "output_path": "__notebook__.ipynb",
   "parameters": {},
   "start_time": "2022-02-14T20:10:11.035127",
   "version": "2.3.3"
  }
 },
 "nbformat": 4,
 "nbformat_minor": 5
}
