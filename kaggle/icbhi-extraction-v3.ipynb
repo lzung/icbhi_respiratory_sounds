{
 "cells": [
  {
   "cell_type": "markdown",
   "id": "572dcfac",
   "metadata": {
    "papermill": {
     "duration": 0.012901,
     "end_time": "2021-11-26T21:40:38.694618",
     "exception": false,
     "start_time": "2021-11-26T21:40:38.681717",
     "status": "completed"
    },
    "tags": []
   },
   "source": [
    "## Import icbhi-preprocessing-v3 data before running"
   ]
  },
  {
   "cell_type": "markdown",
   "id": "223d06aa",
   "metadata": {
    "papermill": {
     "duration": 0.011188,
     "end_time": "2021-11-26T21:40:38.719594",
     "exception": false,
     "start_time": "2021-11-26T21:40:38.708406",
     "status": "completed"
    },
    "tags": []
   },
   "source": [
    "# Libraries"
   ]
  },
  {
   "cell_type": "code",
   "execution_count": 1,
   "id": "0812ba80",
   "metadata": {
    "execution": {
     "iopub.execute_input": "2021-11-26T21:40:38.748883Z",
     "iopub.status.busy": "2021-11-26T21:40:38.747836Z",
     "iopub.status.idle": "2021-11-26T21:40:59.918933Z",
     "shell.execute_reply": "2021-11-26T21:40:59.919352Z",
     "shell.execute_reply.started": "2021-11-26T20:06:33.909424Z"
    },
    "papermill": {
     "duration": 21.186606,
     "end_time": "2021-11-26T21:40:59.919645",
     "exception": false,
     "start_time": "2021-11-26T21:40:38.733039",
     "status": "completed"
    },
    "tags": []
   },
   "outputs": [
    {
     "name": "stdout",
     "output_type": "stream",
     "text": [
      "Importing done\n"
     ]
    }
   ],
   "source": [
    "import numpy as np\n",
    "import matplotlib.pyplot as plt\n",
    "import matplotlib.patches as mpatches\n",
    "import matplotlib.cm as cm\n",
    "import pandas as pd\n",
    "\n",
    "# Not immediately usable with this dataset as files contain 24-bit data\n",
    "from scipy.io import wavfile\n",
    "from scipy.io.wavfile import read, write\n",
    "\n",
    "import IPython.display as ipd\n",
    "from IPython.display import Audio\n",
    "from numpy.fft import fft, ifft\n",
    "\n",
    "import librosa as lr\n",
    "import librosa.display\n",
    "\n",
    "import os\n",
    "import pickle\n",
    "from glob import glob\n",
    "\n",
    "import seaborn as sns\n",
    "\n",
    "from scipy import signal as sig\n",
    "from scipy.signal import butter, lfilter, sosfilt\n",
    "from tqdm import tqdm\n",
    "import pywt\n",
    "import random\n",
    "import skimage.data\n",
    "from skimage.restoration import denoise_wavelet\n",
    "from pywt import swt\n",
    "import time as tm\n",
    "import collections\n",
    "\n",
    "# if ('pydub' in globals()) == False:\n",
    "#   !pip install pydub\n",
    "# from pydub import AudioSegment\n",
    "# from pydub.utils import make_chunks\n",
    "\n",
    "\n",
    "# LT-06-24: import io to save intermediate outputs; use \"as\" to shorten module.function name as \"spio\"\n",
    "import scipy.io as spio\n",
    "\n",
    "\n",
    "# LT-06-24: install modules if not found \n",
    "# if ( 'umap' in globals() ) == False: \n",
    "#   !pip install umap-learn\n",
    "\n",
    "import umap.umap_ as umap\n",
    "\n",
    "import sklearn\n",
    "from sklearn.model_selection import train_test_split\n",
    "from sklearn.preprocessing import StandardScaler, minmax_scale\n",
    "from sklearn.neighbors import KNeighborsClassifier, NearestNeighbors\n",
    "from sklearn.dummy import DummyClassifier\n",
    "from sklearn.cluster import KMeans\n",
    "from sklearn.pipeline import Pipeline\n",
    "from sklearn.metrics import silhouette_samples, silhouette_score, classification_report, confusion_matrix, accuracy_score, plot_confusion_matrix\n",
    "\n",
    "print('Importing done')"
   ]
  },
  {
   "cell_type": "markdown",
   "id": "2dfa8382",
   "metadata": {
    "papermill": {
     "duration": 0.0122,
     "end_time": "2021-11-26T21:40:59.944342",
     "exception": false,
     "start_time": "2021-11-26T21:40:59.932142",
     "status": "completed"
    },
    "tags": []
   },
   "source": [
    "# Preprocessed Data"
   ]
  },
  {
   "cell_type": "code",
   "execution_count": 2,
   "id": "0a3a082f",
   "metadata": {
    "execution": {
     "iopub.execute_input": "2021-11-26T21:40:59.972840Z",
     "iopub.status.busy": "2021-11-26T21:40:59.972200Z",
     "iopub.status.idle": "2021-11-26T21:41:19.760966Z",
     "shell.execute_reply": "2021-11-26T21:41:19.761830Z",
     "shell.execute_reply.started": "2021-11-26T20:09:17.031142Z"
    },
    "papermill": {
     "duration": 19.806221,
     "end_time": "2021-11-26T21:41:19.762362",
     "exception": false,
     "start_time": "2021-11-26T21:40:59.956141",
     "status": "completed"
    },
    "tags": []
   },
   "outputs": [],
   "source": [
    "prepro_slices = np.load(\"../input/icbhi-preprocessing-v3/prepro_slices.npy\")"
   ]
  },
  {
   "cell_type": "code",
   "execution_count": 3,
   "id": "227704c2",
   "metadata": {
    "execution": {
     "iopub.execute_input": "2021-11-26T21:41:19.797941Z",
     "iopub.status.busy": "2021-11-26T21:41:19.797256Z",
     "iopub.status.idle": "2021-11-26T21:41:20.188295Z",
     "shell.execute_reply": "2021-11-26T21:41:20.188754Z",
     "shell.execute_reply.started": "2021-11-26T20:09:27.210585Z"
    },
    "papermill": {
     "duration": 0.411322,
     "end_time": "2021-11-26T21:41:20.188956",
     "exception": false,
     "start_time": "2021-11-26T21:41:19.777634",
     "status": "completed"
    },
    "tags": []
   },
   "outputs": [
    {
     "data": {
      "image/png": "[encoded data removed]",
      "text/plain": [
       "<Figure size 432x288 with 1 Axes>"
      ]
     },
     "metadata": {
      "needs_background": "light"
     },
     "output_type": "display_data"
    }
   ],
   "source": [
    "lr.display.waveplot(prepro_slices[0], sr=8000);\n",
    "plt.xlim([0,6]);"
   ]
  },
  {
   "cell_type": "markdown",
   "id": "96deb851",
   "metadata": {
    "papermill": {
     "duration": 0.012462,
     "end_time": "2021-11-26T21:41:20.214721",
     "exception": false,
     "start_time": "2021-11-26T21:41:20.202259",
     "status": "completed"
    },
    "tags": []
   },
   "source": [
    "# Extraction\n",
    "### Evaluation of features for classification of wheezes and normal respiratory sounds (Pramono et al., 2019)"
   ]
  },
  {
   "cell_type": "code",
   "execution_count": 4,
   "id": "9aa90055",
   "metadata": {
    "execution": {
     "iopub.execute_input": "2021-11-26T21:41:20.247548Z",
     "iopub.status.busy": "2021-11-26T21:41:20.246589Z",
     "iopub.status.idle": "2021-11-26T21:41:20.249379Z",
     "shell.execute_reply": "2021-11-26T21:41:20.248808Z",
     "shell.execute_reply.started": "2021-11-26T20:09:30.090484Z"
    },
    "papermill": {
     "duration": 0.022108,
     "end_time": "2021-11-26T21:41:20.249527",
     "exception": false,
     "start_time": "2021-11-26T21:41:20.227419",
     "status": "completed"
    },
    "tags": []
   },
   "outputs": [],
   "source": [
    "def extract(signal, sr=8000):\n",
    "    \"\"\"\n",
    "    signal: slice that has already undergone preprocessing\n",
    "    sr: sampling rate of slice\n",
    "    \"\"\"\n",
    "    # Spectrograms\n",
    "    stft = lr.stft(signal)\n",
    "    spec = lr.amplitude_to_db(abs(stft))\n",
    "    \n",
    "#     # Spectral centroids\n",
    "#     cent = lr.feature.spectral_centroid(signal, sr, n_fft=512, hop_length=256)[0]\n",
    "    \n",
    "    # Mel-cepstral frequency coefficients\n",
    "    mfcc = lr.feature.mfcc(signal, sr, n_mfcc=13)\n",
    "    \n",
    "    # Wavelet transform using Baubechies with 4 vanishing moments\n",
    "    modwt = np.array(pywt.dwt(signal, 'db4', mode='zero'))\n",
    "#     # Absolute mean\n",
    "#     abm = abs(np.nanmean(modwt))\n",
    "#     # Standard deviation\n",
    "#     sd = np.nanstd(modwt)\n",
    "    # Zero crossing rate\n",
    "    wt_zcr = len(np.nonzero(np.diff(np.array(modwt) > 0))[0])\n",
    "    \n",
    "    return spec, mfcc, wt_zcr"
   ]
  },
  {
   "cell_type": "code",
   "execution_count": 5,
   "id": "7220e92c",
   "metadata": {
    "execution": {
     "iopub.execute_input": "2021-11-26T21:41:20.281431Z",
     "iopub.status.busy": "2021-11-26T21:41:20.280831Z",
     "iopub.status.idle": "2021-11-26T21:41:20.285022Z",
     "shell.execute_reply": "2021-11-26T21:41:20.284499Z",
     "shell.execute_reply.started": "2021-11-26T20:09:32.871691Z"
    },
    "papermill": {
     "duration": 0.023071,
     "end_time": "2021-11-26T21:41:20.285163",
     "exception": false,
     "start_time": "2021-11-26T21:41:20.262092",
     "status": "completed"
    },
    "tags": []
   },
   "outputs": [],
   "source": [
    "def save_extraction(preprocessed_slices):\n",
    "    for i, signal in enumerate(preprocessed_slices):\n",
    "        # Extract\n",
    "        spec, mfcc, wt_zcr = extract(signal)\n",
    "        \n",
    "        # Reshape\n",
    "        a,b = spec.shape\n",
    "        c,d = mfcc.shape\n",
    "        spec = spec.reshape((a*b))\n",
    "        mfcc = mfcc.reshape((c*d))\n",
    "        features = np.hstack((spec, mfcc, wt_zcr))\n",
    "        \n",
    "        # Naming\n",
    "        filename = str(i) + '_features.npy'\n",
    "        \n",
    "        np.save(filename, features)\n",
    "        \n",
    "    return print('done')"
   ]
  },
  {
   "cell_type": "code",
   "execution_count": 6,
   "id": "e47419ec",
   "metadata": {
    "execution": {
     "iopub.execute_input": "2021-11-26T21:41:20.315328Z",
     "iopub.status.busy": "2021-11-26T21:41:20.314483Z",
     "iopub.status.idle": "2021-11-26T21:41:20.316940Z",
     "shell.execute_reply": "2021-11-26T21:41:20.317341Z",
     "shell.execute_reply.started": "2021-11-19T20:17:53.779424Z"
    },
    "papermill": {
     "duration": 0.019578,
     "end_time": "2021-11-26T21:41:20.317496",
     "exception": false,
     "start_time": "2021-11-26T21:41:20.297918",
     "status": "completed"
    },
    "tags": []
   },
   "outputs": [],
   "source": [
    "# def save_specific_extraction( i, demo=0 ):\n",
    "#     signal  = prepro_slices[i, ]\n",
    "#     # Extract\n",
    "#     spec, mfcc, wt_zcr = extract(signal )\n",
    "\n",
    "#     # Reshape\n",
    "#     a,b = spec.shape\n",
    "#     c,d = mfcc.shape\n",
    "#     spec = spec.reshape((a*b))\n",
    "#     mfcc = mfcc.reshape((c*d))\n",
    "#     features = np.hstack((spec, mfcc, wt_zcr))\n",
    "\n",
    "#     # Naming\n",
    "#     filename = str(i) + '_features' + '.npy'\n",
    "\n",
    "    \n",
    "#     np.save(filename, features)       \n",
    "#     z=[]\n",
    "#     if demo:\n",
    "#         # l1,l2,l3 = spec.shape, mfcc.shape, wt_zcr.shape\n",
    "#         z=[len(spec),len(mfcc),1]\n",
    "#     return signal, z\n",
    "# signal, z = save_specific_extraction( 121, 1 )\n",
    "# print(z)    "
   ]
  },
  {
   "cell_type": "code",
   "execution_count": 7,
   "id": "36de3e1b",
   "metadata": {
    "execution": {
     "iopub.execute_input": "2021-11-26T21:41:20.349331Z",
     "iopub.status.busy": "2021-11-26T21:41:20.348487Z",
     "iopub.status.idle": "2021-11-26T21:41:20.350929Z",
     "shell.execute_reply": "2021-11-26T21:41:20.351336Z",
     "shell.execute_reply.started": "2021-11-19T20:17:35.171073Z"
    },
    "papermill": {
     "duration": 0.021182,
     "end_time": "2021-11-26T21:41:20.351496",
     "exception": false,
     "start_time": "2021-11-26T21:41:20.330314",
     "status": "completed"
    },
    "tags": []
   },
   "outputs": [],
   "source": [
    "def load_all_files(directory):\n",
    "    files = list(map(lambda p: os.path.splitext(os.path.basename(p))[0],\n",
    "                    glob(os.path.join(directory, '*.npy'))))\n",
    "    \n",
    "    samples = {}\n",
    "    for filename in files:\n",
    "        samples[filename] = np.load(os.path.join(directory, filename + '.npy'))\n",
    "    return samples    "
   ]
  },
  {
   "cell_type": "code",
   "execution_count": 8,
   "id": "b9ae482b",
   "metadata": {
    "execution": {
     "iopub.execute_input": "2021-11-26T21:41:20.381340Z",
     "iopub.status.busy": "2021-11-26T21:41:20.380533Z",
     "iopub.status.idle": "2021-11-26T21:41:20.383365Z",
     "shell.execute_reply": "2021-11-26T21:41:20.382924Z",
     "shell.execute_reply.started": "2021-11-19T20:17:58.795568Z"
    },
    "papermill": {
     "duration": 0.019067,
     "end_time": "2021-11-26T21:41:20.383494",
     "exception": false,
     "start_time": "2021-11-26T21:41:20.364427",
     "status": "completed"
    },
    "tags": []
   },
   "outputs": [],
   "source": [
    "# check file count \n",
    "# from glob import glob\n",
    "# f=sorted( glob('../input/icbhi-extraction-v2/*npy') )\n",
    "# print( len(f), len(class_list) )\n",
    "\n",
    "    "
   ]
  },
  {
   "cell_type": "code",
   "execution_count": 9,
   "id": "0b7be3a7",
   "metadata": {
    "execution": {
     "iopub.execute_input": "2021-11-26T21:41:20.413054Z",
     "iopub.status.busy": "2021-11-26T21:41:20.412221Z",
     "iopub.status.idle": "2021-11-26T21:41:20.415172Z",
     "shell.execute_reply": "2021-11-26T21:41:20.414474Z"
    },
    "papermill": {
     "duration": 0.019294,
     "end_time": "2021-11-26T21:41:20.415316",
     "exception": false,
     "start_time": "2021-11-26T21:41:20.396022",
     "status": "completed"
    },
    "tags": []
   },
   "outputs": [],
   "source": [
    "# directory = '../input/icbhi-extraction-v2/' \n",
    "# nsamples = len(class_list)\n",
    "# features = np.zeros( (1000, 536647) )\n",
    "# subset = np.zeros( 1000 ).astype(int)\n",
    "\n",
    "# inc=-1\n",
    "# for d in range( 0, nsamples, nsamples//100 ):\n",
    "#     try: # quick hack to read some        \n",
    "#         inc+=1 \n",
    "#         subset[inc] = class_list[d] \n",
    "#         print(inc, subset[inc], end=', ' )\n",
    "#         features[inc,:] = np.load(directory+ '%d_features.npy' % d )\n",
    "#     except:\n",
    "#         break\n"
   ]
  },
  {
   "cell_type": "code",
   "execution_count": 10,
   "id": "d7ad023d",
   "metadata": {
    "execution": {
     "iopub.execute_input": "2021-11-26T21:41:20.445814Z",
     "iopub.status.busy": "2021-11-26T21:41:20.445140Z",
     "iopub.status.idle": "2021-11-26T21:41:20.447976Z",
     "shell.execute_reply": "2021-11-26T21:41:20.447374Z",
     "shell.execute_reply.started": "2021-11-19T20:17:35.176818Z"
    },
    "papermill": {
     "duration": 0.019821,
     "end_time": "2021-11-26T21:41:20.448112",
     "exception": false,
     "start_time": "2021-11-26T21:41:20.428291",
     "status": "completed"
    },
    "tags": []
   },
   "outputs": [],
   "source": [
    "# plt.plot(subset, 'r')"
   ]
  },
  {
   "cell_type": "code",
   "execution_count": 11,
   "id": "c85a3718",
   "metadata": {
    "execution": {
     "iopub.execute_input": "2021-11-26T21:41:20.478693Z",
     "iopub.status.busy": "2021-11-26T21:41:20.477830Z",
     "iopub.status.idle": "2021-11-26T21:41:20.480190Z",
     "shell.execute_reply": "2021-11-26T21:41:20.480605Z",
     "shell.execute_reply.started": "2021-11-19T20:17:35.178567Z"
    },
    "papermill": {
     "duration": 0.019838,
     "end_time": "2021-11-26T21:41:20.480800",
     "exception": false,
     "start_time": "2021-11-26T21:41:20.460962",
     "status": "completed"
    },
    "tags": []
   },
   "outputs": [],
   "source": [
    "# plt.plot( features[0,529925: ] );"
   ]
  },
  {
   "cell_type": "code",
   "execution_count": 12,
   "id": "aea8ca2f",
   "metadata": {
    "execution": {
     "iopub.execute_input": "2021-11-26T21:41:20.510681Z",
     "iopub.status.busy": "2021-11-26T21:41:20.509810Z",
     "iopub.status.idle": "2021-11-26T21:41:20.511993Z",
     "shell.execute_reply": "2021-11-26T21:41:20.512430Z",
     "shell.execute_reply.started": "2021-11-19T20:17:35.180655Z"
    },
    "papermill": {
     "duration": 0.019116,
     "end_time": "2021-11-26T21:41:20.512583",
     "exception": false,
     "start_time": "2021-11-26T21:41:20.493467",
     "status": "completed"
    },
    "tags": []
   },
   "outputs": [],
   "source": [
    "# plt.plot( features[21,529925: ] );\n"
   ]
  },
  {
   "cell_type": "code",
   "execution_count": 13,
   "id": "c661e2ca",
   "metadata": {
    "execution": {
     "iopub.execute_input": "2021-11-26T21:41:20.544623Z",
     "iopub.status.busy": "2021-11-26T21:41:20.544021Z",
     "iopub.status.idle": "2021-11-26T21:45:42.722018Z",
     "shell.execute_reply": "2021-11-26T21:45:42.723605Z",
     "shell.execute_reply.started": "2021-11-26T20:09:50.049176Z"
    },
    "papermill": {
     "duration": 262.198933,
     "end_time": "2021-11-26T21:45:42.724230",
     "exception": false,
     "start_time": "2021-11-26T21:41:20.525297",
     "status": "completed"
    },
    "tags": []
   },
   "outputs": [
    {
     "name": "stdout",
     "output_type": "stream",
     "text": [
      "saved\n",
      "done\n"
     ]
    }
   ],
   "source": [
    "if os.path.exists('../input/icbhi-extraction-v3/0_features.npy'):\n",
    "    print('loaded')\n",
    "    features = load_all_files('../input/icbhi-extraction-v3')\n",
    "else:\n",
    "    print('saved')\n",
    "    save_extraction(prepro_slices)"
   ]
  },
  {
   "cell_type": "code",
   "execution_count": 14,
   "id": "2a91ddc4",
   "metadata": {
    "execution": {
     "iopub.execute_input": "2021-11-26T21:45:42.785873Z",
     "iopub.status.busy": "2021-11-26T21:45:42.784869Z",
     "iopub.status.idle": "2021-11-26T21:45:42.789109Z",
     "shell.execute_reply": "2021-11-26T21:45:42.789870Z",
     "shell.execute_reply.started": "2021-11-19T20:17:35.183922Z"
    },
    "papermill": {
     "duration": 0.037657,
     "end_time": "2021-11-26T21:45:42.790129",
     "exception": false,
     "start_time": "2021-11-26T21:45:42.752472",
     "status": "completed"
    },
    "tags": []
   },
   "outputs": [],
   "source": [
    "# n = len(class_list)"
   ]
  },
  {
   "cell_type": "code",
   "execution_count": 15,
   "id": "20567a83",
   "metadata": {
    "execution": {
     "iopub.execute_input": "2021-11-26T21:45:42.825719Z",
     "iopub.status.busy": "2021-11-26T21:45:42.825138Z",
     "iopub.status.idle": "2021-11-26T21:45:42.827352Z",
     "shell.execute_reply": "2021-11-26T21:45:42.826822Z",
     "shell.execute_reply.started": "2021-11-19T20:17:35.185399Z"
    },
    "papermill": {
     "duration": 0.019911,
     "end_time": "2021-11-26T21:45:42.827474",
     "exception": false,
     "start_time": "2021-11-26T21:45:42.807563",
     "status": "completed"
    },
    "tags": []
   },
   "outputs": [],
   "source": [
    "# ordered_classes = np.zeros(n).astype(int)\n",
    "# for i, key in enumerate(features.keys()):\n",
    "#     index = int(key.split('_')[0])\n",
    "#     ordered_classes[i] = class_list[index]\n",
    "# ordered_classes"
   ]
  },
  {
   "cell_type": "code",
   "execution_count": 16,
   "id": "e6c19370",
   "metadata": {
    "execution": {
     "iopub.execute_input": "2021-11-26T21:45:42.856911Z",
     "iopub.status.busy": "2021-11-26T21:45:42.856275Z",
     "iopub.status.idle": "2021-11-26T21:45:42.859340Z",
     "shell.execute_reply": "2021-11-26T21:45:42.859837Z",
     "shell.execute_reply.started": "2021-11-19T20:17:35.187224Z"
    },
    "papermill": {
     "duration": 0.019265,
     "end_time": "2021-11-26T21:45:42.859996",
     "exception": false,
     "start_time": "2021-11-26T21:45:42.840731",
     "status": "completed"
    },
    "tags": []
   },
   "outputs": [],
   "source": [
    "# features = list(features.values())"
   ]
  }
 ],
 "metadata": {
  "kernelspec": {
   "display_name": "Python 3",
   "language": "python",
   "name": "python3"
  },
  "language_info": {
   "codemirror_mode": {
    "name": "ipython",
    "version": 3
   },
   "file_extension": ".py",
   "mimetype": "text/x-python",
   "name": "python",
   "nbconvert_exporter": "python",
   "pygments_lexer": "ipython3",
   "version": "3.7.10"
  },
  "papermill": {
   "default_parameters": {},
   "duration": 315.665885,
   "end_time": "2021-11-26T21:45:46.397219",
   "environment_variables": {},
   "exception": null,
   "input_path": "__notebook__.ipynb",
   "output_path": "__notebook__.ipynb",
   "parameters": {},
   "start_time": "2021-11-26T21:40:30.731334",
   "version": "2.3.3"
  }
 },
 "nbformat": 4,
 "nbformat_minor": 5
}
